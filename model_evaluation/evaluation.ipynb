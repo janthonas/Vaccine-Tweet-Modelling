{
 "cells": [
  {
   "cell_type": "markdown",
   "id": "c5e4b6e7-d62c-4b39-b6b2-72928c133f06",
   "metadata": {},
   "source": [
    "## Import Libraries"
   ]
  },
  {
   "cell_type": "code",
   "execution_count": 21,
   "id": "71654b7b-d6bd-4df3-8915-939b2000bd76",
   "metadata": {},
   "outputs": [],
   "source": [
    "# Pre-Processing\n",
    "import pandas as pd\n",
    "import re\n",
    "import emoji\n",
    "import contractions\n",
    "from sklearn.model_selection import train_test_split\n",
    "\n",
    "# Machine Learning\n",
    "from transformers import AutoTokenizer, AutoModelForSequenceClassification, pipeline\n",
    "import torch"
   ]
  },
  {
   "cell_type": "markdown",
   "id": "19f88dc3-8973-414f-8f87-83ebe0efbd3f",
   "metadata": {},
   "source": [
    "## Import Models"
   ]
  },
  {
   "cell_type": "code",
   "execution_count": 22,
   "id": "b77d3042-90cd-44be-93ae-c357ec8f6c48",
   "metadata": {},
   "outputs": [],
   "source": [
    "# Sentiment Model\n",
    "sentiment_model_dir = '../models/sentiment_emotion_models/sentiment_pn_model'\n",
    "\n",
    "sentiment_model_tokenizer = AutoTokenizer.from_pretrained(sentiment_model_dir, num_labels=2)\n",
    "sentiment_model = AutoModelForSequenceClassification.from_pretrained(sentiment_model_dir, num_labels=2)\n",
    "\n",
    "# Official Reporting Model\n",
    "reporting_model_dir = '../models/sentiment_emotion_models/official_report_emotion_model'\n",
    "\n",
    "reporting_model_tokenizer = AutoTokenizer.from_pretrained(reporting_model_dir, num_labels=2)\n",
    "reporting_model = AutoModelForSequenceClassification.from_pretrained(reporting_model_dir, num_labels=2)\n",
    "\n",
    "# Joyful Emotion Model\n",
    "joyful_model_dir = '../models/sentiment_emotion_models/joyful_emotion_model'\n",
    "\n",
    "joyful_model_tokenizer = AutoTokenizer.from_pretrained(joyful_model_dir, num_labels=2)\n",
    "joyful_model = AutoModelForSequenceClassification.from_pretrained(joyful_model_dir, num_labels=2)\n",
    "\n",
    "# Love Emotion Model\n",
    "love_model_dir = '../models/sentiment_emotion_models/love_emotion_model'\n",
    "\n",
    "love_model_tokenizer = AutoTokenizer.from_pretrained(love_model_dir, num_labels=2)\n",
    "love_model = AutoModelForSequenceClassification.from_pretrained(love_model_dir, num_labels=2)\n",
    "\n",
    "# Anger Emotion Model\n",
    "anger_model_dir = '../models/sentiment_emotion_models/anger_emotion_model'\n",
    "\n",
    "anger_model_tokenizer = AutoTokenizer.from_pretrained(anger_model_dir, num_labels=2)\n",
    "anger_model = AutoModelForSequenceClassification.from_pretrained(anger_model_dir, num_labels=2)\n",
    "\n",
    "# Sadness Emotion Model\n",
    "sadness_model_dir = '../models/sentiment_emotion_models/sadness_emotion_model'\n",
    "\n",
    "sadness_model_tokenizer = AutoTokenizer.from_pretrained(sadness_model_dir, num_labels=2)\n",
    "sadness_model = AutoModelForSequenceClassification.from_pretrained(sadness_model_dir, num_labels=2)"
   ]
  },
  {
   "cell_type": "markdown",
   "id": "7abdb0df-e74e-4a6d-8af6-f50379fb7a68",
   "metadata": {},
   "source": [
    "## Import Data"
   ]
  },
  {
   "cell_type": "code",
   "execution_count": 23,
   "id": "6a3d757c-6ec5-4662-ac16-31f052d9d6ac",
   "metadata": {},
   "outputs": [],
   "source": [
    "# Data for sentiment analysis\n",
    "sentiment_analysis_dataset = '../twitter_data/custom_data/full_covid_sent.csv'\n",
    "sentiment_analysis_df = pd.read_csv(sentiment_analysis_dataset)\n",
    "\n",
    "# Data for official report\n",
    "official_report_dataset = '../twitter_data/custom_data/official_report_dataset.csv'\n",
    "official_report_df = pd.read_csv(official_report_dataset)\n",
    "\n",
    "# Data for joyful emotion\n",
    "joyful_dataset = '../twitter_data/custom_data/geoemotion_joyful_group.csv'\n",
    "joyful_df = pd.read_csv(joyful_dataset)\n",
    "\n",
    "# Data for love emotion\n",
    "love_dataset = '../twitter_data/custom_data/geoemotion_love_group.csv'\n",
    "love_df = pd.read_csv(love_dataset)\n",
    "\n",
    "# Data for anger emotion\n",
    "anger_dataset = '../twitter_data/custom_data/geoemotion_anger_group.csv'\n",
    "anger_df = pd.read_csv(anger_dataset)\n",
    "\n",
    "# Data for sadness emotion\n",
    "sadness_dataset = '../twitter_data/custom_data/geoemotion_sadness_group.csv'\n",
    "sadness_df = pd.read_csv(sadness_dataset)"
   ]
  },
  {
   "cell_type": "markdown",
   "id": "2687dc71-b1c2-4dd0-a56f-ff6048877ab4",
   "metadata": {},
   "source": [
    "## Data Pre-Processing"
   ]
  },
  {
   "cell_type": "markdown",
   "id": "cb0151a8-1c93-473c-a6c9-65b19ac11968",
   "metadata": {},
   "source": [
    "### Pre-Processing Functions"
   ]
  },
  {
   "cell_type": "code",
   "execution_count": 24,
   "id": "585d5dea-f1aa-4b42-a914-733602215197",
   "metadata": {},
   "outputs": [],
   "source": [
    "def remove_urls(doc):\n",
    "    return re.sub(r'http\\S+', '', doc)\n",
    "\n",
    "def convert_emojis(doc):\n",
    "    # delimiters are what is used around the emoji description, in this case spaces are used\n",
    "    return emoji.replace_emoji(doc, replace='')\n",
    "\n",
    "def remove_hashtags(doc):\n",
    "    return doc.replace('#', '')\n",
    "    #return re.sub(r'#\\w+', '', doc)\n",
    "\n",
    "def remove_numbers(doc):\n",
    "    return re.sub(r'\\d+', '', doc)\n",
    "\n",
    "def remove_user_mentions(doc):\n",
    "    return re.sub(r'@\\w+', '', doc)\n",
    "\n",
    "def fix_contractions(doc):\n",
    "    return contractions.fix(doc)\n",
    "\n",
    "def remove_punctuation(doc):\n",
    "    return re.sub(r'[^\\w\\s]', '', doc)\n",
    "\n",
    "def remove_amp(doc):\n",
    "    return re.sub(r'\\bamp\\b', ' and ', doc).strip() # strip removes the surrounding white space\n",
    "\n",
    "def remove_special_character_combinations(doc):\n",
    "    # Remove all combinations of \\r and \\n in any order\n",
    "    cleaned_text = re.sub(r'[\\r\\n\\xa0]+', '', doc)\n",
    "    return cleaned_text\n",
    "\n",
    "def remove_non_english_characters(doc):\n",
    "    return re.sub(r'[^\\x00-\\x7F]+', '', doc)\n",
    "\n",
    "def lowercase_doc(doc):\n",
    "    return doc.lower()"
   ]
  },
  {
   "cell_type": "markdown",
   "id": "37cc8da7-da39-4540-b6cb-c07f632c083a",
   "metadata": {},
   "source": [
    "### Pre-Processing Master Function"
   ]
  },
  {
   "cell_type": "code",
   "execution_count": 25,
   "id": "38497748-8d82-4d14-91f4-877480318c7b",
   "metadata": {},
   "outputs": [],
   "source": [
    "def preprocess_tweet(doc):\n",
    "    doc = remove_urls(doc)\n",
    "    doc = convert_emojis(doc)\n",
    "    doc = remove_hashtags(doc)\n",
    "    #doc = remove_numbers(doc)\n",
    "    doc = remove_user_mentions(doc)\n",
    "    doc = fix_contractions(doc)\n",
    "    #doc = remove_punctuation(doc)\n",
    "    doc = remove_amp(doc)\n",
    "    doc = remove_special_character_combinations(doc)\n",
    "    doc = remove_non_english_characters(doc)\n",
    "    #doc = lowercase_doc(doc)\n",
    "    return doc"
   ]
  },
  {
   "cell_type": "markdown",
   "id": "34c92ee9-51bd-4ec6-a828-851710ab1bd4",
   "metadata": {},
   "source": [
    "### Applying the Pre-Processing"
   ]
  },
  {
   "cell_type": "code",
   "execution_count": 26,
   "id": "6dd55d5c-79dd-4da2-88ed-48b5d0bcdcb7",
   "metadata": {},
   "outputs": [],
   "source": [
    "# Sentiment Analysis\n",
    "sentiment_analysis_df = sentiment_analysis_df[sentiment_analysis_df['label'] != 1]\n",
    "sentiment_analysis_df['label'] = sentiment_analysis_df['label'].replace(2, 1)\n",
    "sentiment_analysis_df['Tweet'] = sentiment_analysis_df['Tweet'].apply(preprocess_tweet)\n",
    "\n",
    "# Official Report\n",
    "official_report_df['Tweet'] = official_report_df['Tweet'].apply(preprocess_tweet)\n",
    "\n",
    "# Joyful Emotion\n",
    "joyful_df['text'] = joyful_df['text'].apply(preprocess_tweet)\n",
    "\n",
    "# Love Emotion\n",
    "love_df['text'] = love_df['text'].apply(preprocess_tweet)\n",
    "\n",
    "# Anger Emotion\n",
    "anger_df['text'] = anger_df['text'].apply(preprocess_tweet)\n",
    "\n",
    "# Sadness Emotion\n",
    "sadness_df['text'] = sadness_df['text'].apply(preprocess_tweet)"
   ]
  },
  {
   "cell_type": "markdown",
   "id": "90d2437a-646a-4cb8-9755-46dc2906b3be",
   "metadata": {},
   "source": [
    "### Get Test Data"
   ]
  },
  {
   "cell_type": "code",
   "execution_count": 27,
   "id": "9cd83974-11e0-4eaf-bf02-463dc3049537",
   "metadata": {},
   "outputs": [],
   "source": [
    "# Sentiment Analysis\n",
    "sentiment_train_df, sentiment_test_val_df = train_test_split(sentiment_analysis_df, test_size=0.1, random_state=23)\n",
    "sentiment_val_df, sentiment_test_df = train_test_split(sentiment_test_val_df, test_size=0.5, random_state=23)\n",
    "\n",
    "# Official Report\n",
    "official_report_train_df, official_report_test_val_df = train_test_split(official_report_df, test_size=0.1, random_state=23)\n",
    "official_report_val_df, official_report_test_df = train_test_split(official_report_test_val_df, test_size=0.5, random_state=23)\n",
    "\n",
    "# Joyful Emotion\n",
    "joyful_train_df, joyful_test_val_df = train_test_split(joyful_df, test_size=0.1, random_state=23)\n",
    "joyful_val_df, joyful_test_df = train_test_split(joyful_test_val_df, test_size=0.5, random_state=23)\n",
    "\n",
    "# Love Emotion\n",
    "love_train_df, love_test_val_df = train_test_split(love_df, test_size=0.1, random_state=23)\n",
    "love_val_df, love_test_df = train_test_split(love_test_val_df, test_size=0.5, random_state=23)\n",
    "\n",
    "# Anger Emotion\n",
    "anger_train_df, anger_test_val_df = train_test_split(anger_df, test_size=0.1, random_state=23)\n",
    "anger_val_df, anger_test_df = train_test_split(anger_test_val_df, test_size=0.5, random_state=23)\n",
    "\n",
    "# Sadness Emotion\n",
    "sadness_train_df, sadness_test_val_df = train_test_split(sadness_df, test_size=0.1, random_state=23)\n",
    "sadness_val_df, sadness_test_df = train_test_split(sadness_test_val_df, test_size=0.5, random_state=23)"
   ]
  },
  {
   "cell_type": "markdown",
   "id": "49637e71-fc19-4417-856c-e640463356b2",
   "metadata": {},
   "source": [
    "## Evaluating Models"
   ]
  },
  {
   "cell_type": "markdown",
   "id": "4c768e46-dfab-4714-98f3-7c258b85d70f",
   "metadata": {},
   "source": [
    "### Sentiment Model"
   ]
  },
  {
   "cell_type": "code",
   "execution_count": 29,
   "id": "35bb48e1-27b0-41ae-b4c0-17400ced6f88",
   "metadata": {},
   "outputs": [],
   "source": [
    "def analyze_sentiment(text, model, tokenizer):\n",
    "    inputs = tokenizer(text, return_tensors=\"pt\", truncation=True, padding=True, max_length=280)\n",
    "    outputs = model(**inputs)\n",
    "    logits = outputs.logits\n",
    "    probabilities = torch.nn.functional.softmax(logits, dim=1)\n",
    "    return probabilities"
   ]
  },
  {
   "cell_type": "code",
   "execution_count": 51,
   "id": "e22e8e47-caf2-497d-944a-778b0d56558b",
   "metadata": {},
   "outputs": [],
   "source": [
    "def list_compare(predicted, actual):\n",
    "    return sum(1 for a, b in zip(predicted, actual) if a == b)"
   ]
  },
  {
   "cell_type": "code",
   "execution_count": 177,
   "id": "286dac06-e84c-4602-a2c1-ac5741d7bbb9",
   "metadata": {},
   "outputs": [],
   "source": [
    "# Predicting sentiment for the individual tweets\n",
    "sentiments = [0, 1]\n",
    "predicted_sentiments = []\n",
    "actual_sentiments = []\n",
    "\n",
    "for index, row in sentiment_test_df.iterrows():\n",
    "\n",
    "    text = row['text']\n",
    "    label = row['label']\n",
    "\n",
    "    # Calculate the probabilities\n",
    "    probabilities = analyze_sentiment(text, sadness_model, sadness_model_tokenizer).tolist()\n",
    "\n",
    "    # Get the index with the highest probability\n",
    "    max_index = probabilities[0].index(max(probabilities[0]))\n",
    "\n",
    "    predicted_sentiments.append(max_index)\n",
    "    actual_sentiments.append(label)"
   ]
  },
  {
   "cell_type": "code",
   "execution_count": 178,
   "id": "13be28fc-afad-4862-adae-36862617323b",
   "metadata": {},
   "outputs": [
    {
     "data": {
      "text/plain": [
       "2084"
      ]
     },
     "execution_count": 178,
     "metadata": {},
     "output_type": "execute_result"
    }
   ],
   "source": [
    "list_compare(predicted_sentiments, actual_sentiments)"
   ]
  },
  {
   "cell_type": "code",
   "execution_count": 179,
   "id": "2b761101-2812-4889-a899-12c5379f68df",
   "metadata": {},
   "outputs": [
    {
     "data": {
      "text/plain": [
       "25866"
      ]
     },
     "execution_count": 179,
     "metadata": {},
     "output_type": "execute_result"
    }
   ],
   "source": [
    "len(sadness_train_df)"
   ]
  },
  {
   "cell_type": "code",
   "execution_count": null,
   "id": "a898d89f-199e-45e0-b9c6-182fde3bfb9d",
   "metadata": {},
   "outputs": [],
   "source": []
  }
 ],
 "metadata": {
  "kernelspec": {
   "display_name": "Python (ta)",
   "language": "python",
   "name": "ta"
  },
  "language_info": {
   "codemirror_mode": {
    "name": "ipython",
    "version": 3
   },
   "file_extension": ".py",
   "mimetype": "text/x-python",
   "name": "python",
   "nbconvert_exporter": "python",
   "pygments_lexer": "ipython3",
   "version": "3.8.18"
  }
 },
 "nbformat": 4,
 "nbformat_minor": 5
}
