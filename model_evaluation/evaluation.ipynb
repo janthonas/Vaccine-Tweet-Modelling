{
 "cells": [
  {
   "cell_type": "markdown",
   "id": "c5e4b6e7-d62c-4b39-b6b2-72928c133f06",
   "metadata": {},
   "source": [
    "## Import Libraries"
   ]
  },
  {
   "cell_type": "code",
   "execution_count": 1,
   "id": "71654b7b-d6bd-4df3-8915-939b2000bd76",
   "metadata": {},
   "outputs": [],
   "source": [
    "# Pre-Processing\n",
    "import pandas as pd\n",
    "import re\n",
    "import emoji\n",
    "import contractions\n",
    "\n",
    "# Machine Learning\n",
    "from transformers import AutoTokenizer, AutoModelForSequenceClassification, pipeline\n",
    "import torch"
   ]
  },
  {
   "cell_type": "markdown",
   "id": "19f88dc3-8973-414f-8f87-83ebe0efbd3f",
   "metadata": {},
   "source": [
    "## Import Models"
   ]
  },
  {
   "cell_type": "code",
   "execution_count": 4,
   "id": "b77d3042-90cd-44be-93ae-c357ec8f6c48",
   "metadata": {},
   "outputs": [],
   "source": [
    "# Sentiment Model\n",
    "sentiment_model_dir = '../models/sentiment_emotion_models/sentiment_pn_model'\n",
    "\n",
    "sentiment_model_tokenizer = AutoTokenizer.from_pretrained(sentiment_model_dir, num_labels=2)\n",
    "sentiment_model = AutoModelForSequenceClassification.from_pretrained(sentiment_model_dir, num_labels=2)\n",
    "\n",
    "# Official Reporting Model\n",
    "reporting_model_dir = '../models/sentiment_emotion_models/official_report_emotion_model'\n",
    "\n",
    "reporting_model_tokenizer = AutoTokenizer.from_pretrained(reporting_model_dir, num_labels=2)\n",
    "reporting_model = AutoModelForSequenceClassification.from_pretrained(reporting_model_dir, num_labels=2)\n",
    "\n",
    "# Joyful Emotion Model\n",
    "joyful_model_dir = '../models/sentiment_emotion_models/joyful_emotion_model'\n",
    "\n",
    "joyful_model_tokenizer = AutoTokenizer.from_pretrained(joyful_model_dir, num_labels=2)\n",
    "joyful_model = AutoModelForSequenceClassification.from_pretrained(joful_model_dir, num_labels=2)\n",
    "\n",
    "# Love Emotion Model\n",
    "love_model_dir = '../models/sentiment_emotion_models/love_emotion_model'\n",
    "\n",
    "love_model_tokenizer = AutoTokenizer.from_pretrained(love_model_dir, num_labels=2)\n",
    "love_model = AutoModelForSequenceClassification.from_pretrained(love_model_dir, num_labels=2)\n",
    "\n",
    "# Anger Emotion Model\n",
    "anger_model_dir = '../models/sentiment_emotion_models/anger_emotion_model'\n",
    "\n",
    "anger_model_tokenizer = AutoTokenizer.from_pretrained(anger_model_dir, num_labels=2)\n",
    "anger_model = AutoModelForSequenceClassification.from_pretrained(anger_model_dir, num_labels=2)\n",
    "\n",
    "# Sadness Emotion Model\n",
    "sadness_model_dir = '../models/sentiment_emotion_models/sadness_emotion_model'\n",
    "\n",
    "sadness_model_tokenizer = AutoTokenizer.from_pretrained(sadness_model_dir, num_labels=2)\n",
    "sadness_model = AutoModelForSequenceClassification.from_pretrained(sadness_model_dir, num_labels=2)"
   ]
  },
  {
   "cell_type": "markdown",
   "id": "7abdb0df-e74e-4a6d-8af6-f50379fb7a68",
   "metadata": {},
   "source": [
    "## Import Data"
   ]
  },
  {
   "cell_type": "code",
   "execution_count": 5,
   "id": "6a3d757c-6ec5-4662-ac16-31f052d9d6ac",
   "metadata": {},
   "outputs": [],
   "source": [
    "# Data for sentiment analysis\n",
    "sentiment_analysis_dataset = '../twitter_data/custom_data/full_covid_sent.csv'\n",
    "\n",
    "# Data for official report\n",
    "official_report_dataset = '../twitter_data/custom_data/official_report_dataset.csv'\n",
    "\n",
    "# Data for joyful emotion\n",
    "joyful_dataset = '../twitter_data/custom_data/geoemotion_joyful_group.csv'\n",
    "\n",
    "# Data for love emotion\n",
    "love_dataset = '../twitter_data/custom_data/geoemotion_love_group.csv'\n",
    "\n",
    "# Data for anger emotion\n",
    "anger_dataset = '../twitter_data/custom_data/geoemotion_anger_group.csv'\n",
    "\n",
    "# Data for sadness emotion\n",
    "sadness_dataset = '../twitter_data/custom_data/geoemotion_sadness_group.csv'"
   ]
  },
  {
   "cell_type": "markdown",
   "id": "2687dc71-b1c2-4dd0-a56f-ff6048877ab4",
   "metadata": {},
   "source": [
    "## Data Pre-Processing"
   ]
  },
  {
   "cell_type": "code",
   "execution_count": null,
   "id": "585d5dea-f1aa-4b42-a914-733602215197",
   "metadata": {},
   "outputs": [],
   "source": []
  }
 ],
 "metadata": {
  "kernelspec": {
   "display_name": "Python (ta)",
   "language": "python",
   "name": "ta"
  },
  "language_info": {
   "codemirror_mode": {
    "name": "ipython",
    "version": 3
   },
   "file_extension": ".py",
   "mimetype": "text/x-python",
   "name": "python",
   "nbconvert_exporter": "python",
   "pygments_lexer": "ipython3",
   "version": "3.8.18"
  }
 },
 "nbformat": 4,
 "nbformat_minor": 5
}
