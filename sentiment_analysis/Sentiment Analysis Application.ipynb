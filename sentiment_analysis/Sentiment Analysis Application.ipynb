{
 "cells": [
  {
   "cell_type": "code",
   "execution_count": null,
   "id": "0def05b4-12cf-4012-a63f-1db277dda194",
   "metadata": {},
   "outputs": [],
   "source": [
    "# Pre-Processing\n",
    "import pandas as pd\n",
    "import re\n",
    "import emoji\n",
    "import contractions\n",
    "\n",
    "# Machine Learning\n",
    "from transformers import AutoTokenizer, AutoModelForSequenceClassification, pipeline\n",
    "import torch"
   ]
  },
  {
   "cell_type": "markdown",
   "id": "df17b951-06b5-46cf-8655-fa0f03b0237d",
   "metadata": {},
   "source": [
    "## Import Datasets"
   ]
  },
  {
   "cell_type": "code",
   "execution_count": null,
   "id": "d0b99b46-a3ac-48a7-b51e-e994acc9355a",
   "metadata": {},
   "outputs": [],
   "source": [
    "# Filepaths\n",
    "tweet_data_fp = '../twitter_data/custom_data/pruned_media_users.csv'"
   ]
  },
  {
   "cell_type": "code",
   "execution_count": null,
   "id": "19f65f20-982b-4eaf-b29a-7eb0d38cde9d",
   "metadata": {},
   "outputs": [],
   "source": [
    "tweet_data_df = pd.read_csv(tweet_data_fp)\n",
    "tweet_data_df = tweet_data_df[tweet_data_df['Lang_code'] == 'en']"
   ]
  },
  {
   "cell_type": "markdown",
   "id": "ec7dc0bc-217f-4a56-880b-d5c95926da3f",
   "metadata": {},
   "source": [
    "## Preprocessing"
   ]
  },
  {
   "cell_type": "code",
   "execution_count": null,
   "id": "dcfd78f2-8d19-47ba-849a-d40ff4e062b9",
   "metadata": {},
   "outputs": [],
   "source": [
    "# Gathering documents\n",
    "docs = tweet_data_df['Tweet'].tolist()\n",
    "pruned_docs = docs"
   ]
  },
  {
   "cell_type": "code",
   "execution_count": null,
   "id": "ce17ccd2-fb36-4366-9436-ddd066f6fe06",
   "metadata": {},
   "outputs": [],
   "source": [
    "# Removal of links\n",
    "def remove_urls(doc):\n",
    "    return re.sub(r'http\\S+', '', doc)\n",
    "\n",
    "pruned_docs = [remove_urls(doc) for doc in pruned_docs]\n",
    "\n",
    "def convert_emojis(doc):\n",
    "    # delimiters are what is used around the emoji description, in this case spaces are used\n",
    "    return emoji.replace_emoji(doc, replace='')\n",
    "\n",
    "pruned_docs = [convert_emojis(doc) for doc in pruned_docs]\n",
    "\n",
    "def remove_hashtags(doc):\n",
    "    return doc.replace('#', '')\n",
    "    #return re.sub(r'#\\w+', '', doc)\n",
    "\n",
    "pruned_docs = [remove_hashtags(doc) for doc in pruned_docs]\n",
    "\n",
    "def remove_numbers(doc):\n",
    "    return re.sub(r'\\d+', '', doc)\n",
    "\n",
    "pruned_docs = [remove_numbers(doc) for doc in pruned_docs]\n",
    "\n",
    "def remove_user_mentions(doc):\n",
    "    return re.sub(r'@\\w+', '', doc)\n",
    "\n",
    "pruned_docs = [remove_user_mentions(doc) for doc in pruned_docs]\n",
    "\n",
    "def fix_contractions(doc):\n",
    "    return contractions.fix(doc)\n",
    "\n",
    "pruned_docs = [fix_contractions(doc) for doc in pruned_docs]\n",
    "\n",
    "def remove_punctuation(doc):\n",
    "    return re.sub(r'[^\\w\\s]', '', doc)\n",
    "\n",
    "pruned_docs = [remove_punctuation(doc) for doc in pruned_docs]\n",
    "\n",
    "def remove_amp(doc):\n",
    "    return re.sub(r'\\bamp\\b', '', doc).strip() # strip removes the surrounding white space\n",
    "\n",
    "pruned_docs = [remove_amp(doc) for doc in pruned_docs]"
   ]
  },
  {
   "cell_type": "markdown",
   "id": "bf09b336-8a00-42fa-90d7-e5795bfe1767",
   "metadata": {},
   "source": [
    "## Importing BERT Sentiment Analysis"
   ]
  },
  {
   "cell_type": "code",
   "execution_count": null,
   "id": "c4c6c8b5-d781-4885-860e-ceea288c383a",
   "metadata": {},
   "outputs": [],
   "source": [
    "# Function used to convert the texts to what is needed:\n",
    "# - turn the text into tensors\n",
    "# - truncate and pad the tweets to 280 characters\n",
    "def analyze_sentiment(text):\n",
    "    inputs = tokenizer(text, return_tensors=\"pt\", truncation=True, padding=True, max_length=280)\n",
    "    outputs = model(**inputs)\n",
    "    logits = outputs.logits\n",
    "    probabilities = torch.nn.functional.softmax(logits, dim=1)\n",
    "    return probabilities"
   ]
  },
  {
   "cell_type": "code",
   "execution_count": null,
   "id": "64856d71-9690-432f-8084-ce5e166a8054",
   "metadata": {},
   "outputs": [],
   "source": [
    "# Loads BERT tokenizer and model from custom trained model checkpoint\n",
    "tokenizer = AutoTokenizer.from_pretrained('../models/sentiment_model_results/checkpoint-1125')\n",
    "model = AutoModelForSequenceClassification.from_pretrained('../models/sentiment_model_results/checkpoint-1125')"
   ]
  },
  {
   "cell_type": "code",
   "execution_count": null,
   "id": "12efc831-6480-4947-9f63-1dd6d3f1da31",
   "metadata": {},
   "outputs": [],
   "source": [
    "# Sentiments list\n",
    "sentiments = [\"negative\", \"neutral\", \"positive\"]"
   ]
  },
  {
   "cell_type": "code",
   "execution_count": null,
   "id": "fb90891f-b8c2-40c4-9347-2d5f2598faa6",
   "metadata": {},
   "outputs": [],
   "source": [
    "# Predicting sentiment for the individual tweets\n",
    "for doc in pruned_docs:\n",
    "    print(doc)\n",
    "    probabilities = analyze_sentiment(doc)\n",
    "    for i, label in enumerate(sentiments):\n",
    "        print(f\"{label}: {probabilities[0][i].item():.4f}\")\n",
    "    print()"
   ]
  }
 ],
 "metadata": {
  "kernelspec": {
   "display_name": "Python (ta)",
   "language": "python",
   "name": "ta"
  },
  "language_info": {
   "codemirror_mode": {
    "name": "ipython",
    "version": 3
   },
   "file_extension": ".py",
   "mimetype": "text/x-python",
   "name": "python",
   "nbconvert_exporter": "python",
   "pygments_lexer": "ipython3",
   "version": "3.8.18"
  }
 },
 "nbformat": 4,
 "nbformat_minor": 5
}
