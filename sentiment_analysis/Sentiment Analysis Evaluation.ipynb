{
 "cells": [
  {
   "cell_type": "code",
   "execution_count": null,
   "id": "73f6c7b3-8ec9-4647-b8d6-5ca19e683db9",
   "metadata": {},
   "outputs": [],
   "source": [
    "# Pre-Processing\n",
    "import pandas as pd\n",
    "import re\n",
    "import emoji\n",
    "import contractions\n",
    "\n",
    "# Machine Learning\n",
    "from transformers import AutoTokenizer, AutoModelForSequenceClassification, pipeline\n",
    "import torch"
   ]
  },
  {
   "cell_type": "markdown",
   "id": "4d75ed91-359d-445d-8672-14a10ac061db",
   "metadata": {},
   "source": [
    "## Import Dataset"
   ]
  },
  {
   "cell_type": "code",
   "execution_count": null,
   "id": "f8a1e776-9e93-4428-bba3-5c5b50080f49",
   "metadata": {},
   "outputs": [],
   "source": [
    "test_data_fp = 'twitter_data/custom_data/COVIDSenti-main/test.csv'"
   ]
  },
  {
   "cell_type": "code",
   "execution_count": null,
   "id": "9719404e-57ea-4ae5-a779-0de1cda60bc6",
   "metadata": {},
   "outputs": [],
   "source": [
    "test_data_df = pd.read_csv(test_data_fp)"
   ]
  },
  {
   "cell_type": "code",
   "execution_count": null,
   "id": "daa32e07-e7b7-4f3a-b62f-22f4ff4f1e44",
   "metadata": {},
   "outputs": [],
   "source": [
    "test_data_df = test_data_df.head(1000)"
   ]
  },
  {
   "cell_type": "code",
   "execution_count": null,
   "id": "ddd36eeb-12f6-48bb-b4f5-744dad8d68ac",
   "metadata": {},
   "outputs": [],
   "source": [
    "pruned_docs = test_data_df['tweet'].to_list()\n",
    "test_sentiment_scores = test_data_df['label'].to_list()"
   ]
  },
  {
   "cell_type": "markdown",
   "id": "54eb802f-3cc9-4646-bc05-b10dbb493475",
   "metadata": {},
   "source": [
    "## Importing Model"
   ]
  },
  {
   "cell_type": "code",
   "execution_count": null,
   "id": "3485b8f0-1487-4ee8-8705-3eb875685bda",
   "metadata": {},
   "outputs": [],
   "source": [
    "# Loads BERT tokenizer and model from a BERT model pre-trained on emotion dataset\n",
    "checkpoint_dir = 'sentiment_model_results/checkpoint-1125'\n",
    "\n",
    "tokenizer = AutoTokenizer.from_pretrained(checkpoint_dir, num_labels=3)\n",
    "model = AutoModelForSequenceClassification.from_pretrained(checkpoint_dir, num_labels=3)"
   ]
  },
  {
   "cell_type": "code",
   "execution_count": null,
   "id": "7e635fae-98e8-4bce-a371-be1a75533e23",
   "metadata": {},
   "outputs": [],
   "source": [
    "# Function used to convert the texts to what is needed:\n",
    "# - turn the text into tensors\n",
    "# - truncate and pad the tweets to 280 characters\n",
    "def analyze_sentiment(text):\n",
    "    inputs = tokenizer(text, return_tensors=\"pt\", truncation=True, padding=True, max_length=280)\n",
    "    outputs = model(**inputs)\n",
    "    logits = outputs.logits\n",
    "    probabilities = torch.nn.functional.softmax(logits, dim=1)\n",
    "    return probabilities"
   ]
  },
  {
   "cell_type": "code",
   "execution_count": null,
   "id": "3303f0a6-410b-4c57-897b-46345a2f969e",
   "metadata": {},
   "outputs": [],
   "source": [
    "# Used to get sentiment score for the predictions\n",
    "def sentiment_score(values):\n",
    "    # Ensure the input list has exactly three numbers\n",
    "    if len(values) != 3:\n",
    "        raise ValueError(\"The input list must contain exactly three numbers.\")\n",
    "    # Find the index of the maximum value\n",
    "    max_index = values.index(max(values))\n",
    "    return max_index"
   ]
  },
  {
   "cell_type": "code",
   "execution_count": null,
   "id": "f21cd2c6-55da-4d7c-8bdd-617c96b54cf3",
   "metadata": {},
   "outputs": [],
   "source": [
    "def closest_value(val):\n",
    "    # Define the target values\n",
    "    target_values = [0, 1, 2]\n",
    "    # Find the closest target value to the input value\n",
    "    closest = min(target_values, key=lambda x: abs(val - x))\n",
    "    return closest"
   ]
  },
  {
   "cell_type": "code",
   "execution_count": null,
   "id": "2ec4f73f-859b-4ea1-b302-092234b71725",
   "metadata": {},
   "outputs": [],
   "source": [
    "# Sentiments list\n",
    "sentiments = [\"negative\", \"neutral\", \"positive\"]"
   ]
  },
  {
   "cell_type": "code",
   "execution_count": null,
   "id": "bdce2062-af9b-4b7c-a83d-586bb79073d4",
   "metadata": {},
   "outputs": [],
   "source": [
    "# Predicting sentiment for the individual tweets\n",
    "test_sentiment_predictions = []\n",
    "for doc in pruned_docs:\n",
    "    # Getting probabilities\n",
    "    probabilities = analyze_sentiment(doc)\n",
    "\n",
    "    # Saving the probabilities to respective variables\n",
    "    negative_score = probabilities[0][0].item()\n",
    "    neutral_score = probabilities[0][1].item()\n",
    "    positive_score = probabilities[0][2].item()\n",
    "    \n",
    "    # Getting an overall sentiment score\n",
    "    pred_sent_score = sentiment_score([negative_score, neutral_score, positive_score])\n",
    "    categorized_sent_score = closest_value(pred_sent_score)\n",
    "    test_sentiment_predictions.append(categorized_sent_score)"
   ]
  },
  {
   "cell_type": "markdown",
   "id": "1e13d6bb-a75e-49f0-a8b8-08d153f92e22",
   "metadata": {},
   "source": [
    "## Evaluation Methods"
   ]
  },
  {
   "cell_type": "code",
   "execution_count": null,
   "id": "5658e38e-03c5-4dc0-9523-6947c7b7024b",
   "metadata": {},
   "outputs": [],
   "source": [
    "# Calculates the list of absolute differences\n",
    "differences = [abs(a - b) for a, b in zip(test_sentiment_predictions, test_sentiment_scores)]\n",
    "\n",
    "# Calculates the total differences\n",
    "count_equal = sum(a == b for a, b in zip(test_sentiment_predictions, test_sentiment_scores))"
   ]
  },
  {
   "cell_type": "code",
   "execution_count": null,
   "id": "38f6c7c9-bea3-4533-96f7-529d6d121f49",
   "metadata": {},
   "outputs": [],
   "source": [
    "difference_avg = sum(differences) / len(differences)"
   ]
  },
  {
   "cell_type": "code",
   "execution_count": null,
   "id": "ce7a1a72-10ef-4e88-867d-fcc7731d174b",
   "metadata": {},
   "outputs": [],
   "source": [
    "difference_avg"
   ]
  },
  {
   "cell_type": "code",
   "execution_count": null,
   "id": "77e46086-ef98-4cd4-bbf3-0cc76a330215",
   "metadata": {},
   "outputs": [],
   "source": [
    "count_equal"
   ]
  },
  {
   "cell_type": "code",
   "execution_count": null,
   "id": "80a9b073-7bee-46cd-ac1d-5ace83b13e13",
   "metadata": {},
   "outputs": [],
   "source": []
  }
 ],
 "metadata": {
  "kernelspec": {
   "display_name": "Python (ta)",
   "language": "python",
   "name": "ta"
  },
  "language_info": {
   "codemirror_mode": {
    "name": "ipython",
    "version": 3
   },
   "file_extension": ".py",
   "mimetype": "text/x-python",
   "name": "python",
   "nbconvert_exporter": "python",
   "pygments_lexer": "ipython3",
   "version": "3.8.18"
  }
 },
 "nbformat": 4,
 "nbformat_minor": 5
}
