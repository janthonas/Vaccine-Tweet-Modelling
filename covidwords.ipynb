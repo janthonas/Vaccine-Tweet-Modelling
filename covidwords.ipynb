{
 "cells": [
  {
   "cell_type": "code",
   "execution_count": null,
   "id": "371d1f29-7e79-4846-b7fb-b7a7fd887fff",
   "metadata": {},
   "outputs": [],
   "source": [
    "health_relevant_words = [\n",
    "    'covid',\n",
    "    'vaccine',\n",
    "    'coronavirus',\n",
    "    'pandemic',\n",
    "    'cdc',\n",
    "    'mask',\n",
    "    'vaccination',\n",
    "    \n",
    "]"
   ]
  }
 ],
 "metadata": {
  "kernelspec": {
   "display_name": "Python 3 (ipykernel)",
   "language": "python",
   "name": "python3"
  },
  "language_info": {
   "codemirror_mode": {
    "name": "ipython",
    "version": 3
   },
   "file_extension": ".py",
   "mimetype": "text/x-python",
   "name": "python",
   "nbconvert_exporter": "python",
   "pygments_lexer": "ipython3",
   "version": "3.8.18"
  }
 },
 "nbformat": 4,
 "nbformat_minor": 5
}
