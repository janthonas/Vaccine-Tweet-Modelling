{
 "cells": [
  {
   "cell_type": "markdown",
   "id": "14c2759b-2f1c-4dac-9b86-76284b96788f",
   "metadata": {},
   "source": [
    "## Importing Libraries"
   ]
  },
  {
   "cell_type": "code",
   "execution_count": 93,
   "id": "2c9d2449-adce-4663-bac9-8be9c793e838",
   "metadata": {},
   "outputs": [],
   "source": [
    "import pandas as pd"
   ]
  },
  {
   "cell_type": "markdown",
   "id": "03347d4d-0a3b-4b62-8332-6470704e28c4",
   "metadata": {},
   "source": [
    "## Describing the Vertex's of the Dataset"
   ]
  },
  {
   "cell_type": "code",
   "execution_count": 94,
   "id": "4d333a07-1fbb-4945-8ada-667578b38aef",
   "metadata": {},
   "outputs": [
    {
     "data": {
      "text/plain": [
       "'\\nVertex 1, refers to the user who is acting on a given entity, and Vertex 2 produced the entity being acted upon.\\nVertex 1 quote tweets something tweeted by Vertex 2\\nan example can be seen here: https://x.com/mvankerkhove/status/1496601029667954688?lang=en\\nin this case Vertex 1 (mvankerkhove) is quote tweeting Vertex 2 (who), this is in index 828097\\n'"
      ]
     },
     "execution_count": 94,
     "metadata": {},
     "output_type": "execute_result"
    }
   ],
   "source": [
    "# Explaining the Vertex's\n",
    "'''\n",
    "Vertex 1, refers to the user who is acting on a given entity, and Vertex 2 produced the entity being acted upon.\n",
    "Vertex 1 quote tweets something tweeted by Vertex 2\n",
    "an example can be seen here: https://x.com/mvankerkhove/status/1496601029667954688?lang=en\n",
    "in this case Vertex 1 (mvankerkhove) is quote tweeting Vertex 2 (who), this is in index 828097\n",
    "'''"
   ]
  },
  {
   "cell_type": "markdown",
   "id": "13b52d2e-9d0c-4fa7-ab1d-22295f189cd8",
   "metadata": {},
   "source": [
    "## Occupation Groups"
   ]
  },
  {
   "cell_type": "code",
   "execution_count": 95,
   "id": "e41f35ce-e920-4069-9184-0053d054256a",
   "metadata": {},
   "outputs": [],
   "source": [
    "# Occupation Groups\n",
    "# Group 1: Education\n",
    "education_labels = [\n",
    "    'Student', 'Scholar', 'Educational professional', 'Educational organisation'\n",
    "]\n",
    "\n",
    "# Group 2: Media\n",
    "media_labels = [\n",
    "    'Media practitioner', 'Media organisation', 'PR professional'\n",
    "]\n",
    "\n",
    "# Group 3: Medicine and Research\n",
    "medicine_and_research_labels = [\n",
    "    'Health professional', 'Physician', 'Health organisation', 'Researcher', 'Scientist', 'Scientist  ', 'Research organisation'\n",
    "]\n",
    "\n",
    "# Group 4: Civics\n",
    "civic_labels = [\n",
    "    'Politician', 'Public official', 'Policy professional', 'Policy organisation',\n",
    "    'Government organisation', 'Government Organisation', 'Political organisation'\n",
    "]\n",
    "\n",
    "# Group 5: Business and Professionals\n",
    "business_labels = [\n",
    "    'Business professional', 'Business organisation', 'Professional organisation', 'Technology professional', 'Development professional',\n",
    "    'Service organisation'\n",
    "]\n",
    "\n",
    "# Group 6: Charities\n",
    "advocacy_nonprofits_labels = [\n",
    "    'Advocate', 'Charity', 'Philanthropist', 'Activist',\n",
    "    'Volunteer', 'Social worker'\n",
    "]\n",
    "\n",
    "# Group 7: Culture\n",
    "culture_sports_labels = [\n",
    "    'Cultural professional', 'Cultural organisation', 'Sports organisation'\n",
    "]\n",
    "\n",
    "# Group 8: Miscellaneous\n",
    "miscellaneous_labels = [\n",
    "    'Student organisation', 'Disabled', 'Economist',\n",
    "    'Trade worker', 'Military member', 'Retired', 'Illness survivor', 'Service worker', 'Office worker', \n",
    "    'Legal professional', 'Non classifiable', 'Physical trainer', 'Event', 'Athlete', \n",
    "    'Environmental organisation', 'Environmental professional'\n",
    "]"
   ]
  },
  {
   "cell_type": "markdown",
   "id": "63c7aeab-78be-47a6-ad90-3bb95d4caa1d",
   "metadata": {},
   "source": [
    "## Importing User and Tweet Network Data"
   ]
  },
  {
   "cell_type": "code",
   "execution_count": 96,
   "id": "86fcda98-276a-46f8-bbe2-be37d650e88b",
   "metadata": {},
   "outputs": [],
   "source": [
    "# Filepath\n",
    "user_data_fp = '../twitter_data/NEW_Coded_Bios_and_Labels0229.xlsx'\n",
    "network_data_fp = '../twitter_data/network.xlsx'"
   ]
  },
  {
   "cell_type": "code",
   "execution_count": 97,
   "id": "3a1580c2-d9ac-4f93-9055-6849a9d50236",
   "metadata": {},
   "outputs": [],
   "source": [
    "# Dataframe\n",
    "user_data_df = pd.read_excel(user_data_fp)\n",
    "network_data_df = pd.read_excel(network_data_fp)"
   ]
  },
  {
   "cell_type": "markdown",
   "id": "60b29815-2897-4496-b206-d466999486a7",
   "metadata": {},
   "source": [
    "## Splitting Tweets by User Occupations"
   ]
  },
  {
   "cell_type": "code",
   "execution_count": 99,
   "id": "e4afe014-8221-4da0-92ea-e6836b932b29",
   "metadata": {},
   "outputs": [],
   "source": [
    "# Usernames of users in the dataset\n",
    "user_wdata_screen_names = list(user_data_df['screen_name'].unique())\n",
    "\n",
    "# Network Dataset that only features users with occupations\n",
    "filtered_network_data_df = network_data_df[(network_data_df['Vertex1'].isin(user_wdata_screen_names)) | (network_data_df['Vertex2'].isin(user_wdata_screen_names))]\n",
    "filtered_network_data_df = filtered_network_data_df[filtered_network_data_df['Lang_code'] == 'en']"
   ]
  },
  {
   "cell_type": "code",
   "execution_count": 100,
   "id": "f7916d66-c0a5-4871-b70d-d9dbd1c1be46",
   "metadata": {},
   "outputs": [],
   "source": [
    "# Education\n",
    "education_users = list(user_data_df[(user_data_df['New_Aggregate_Labels'].isin(education_labels))]['screen_name'])\n",
    "education_users_df = filtered_network_data_df[(filtered_network_data_df['Vertex1'].isin(education_users)) | (filtered_network_data_df['Vertex2'].isin(education_users))]\n",
    "pruned_education_users_df = education_users_df[education_users_df['Relationship_type'].isin(['Replies_to', 'Quote', 'Tweet'])]"
   ]
  },
  {
   "cell_type": "code",
   "execution_count": 101,
   "id": "4753fccf-f70b-46f3-996e-052b8251998c",
   "metadata": {},
   "outputs": [],
   "source": [
    "# Medicine and Research\n",
    "medicine_and_research_users = list(user_data_df[(user_data_df['New_Aggregate_Labels'].isin(medicine_and_research_labels))]['screen_name'])\n",
    "medicine_and_research_users_df = filtered_network_data_df[(filtered_network_data_df['Vertex1'].isin(medicine_and_research_users)) | (filtered_network_data_df['Vertex2'].isin(medicine_and_research_users))]\n",
    "pruned_medicine_and_research_users_df = medicine_and_research_users_df[medicine_and_research_users_df['Relationship_type'].isin(['Replies_to', 'Quote', 'Tweet'])]"
   ]
  },
  {
   "cell_type": "code",
   "execution_count": 102,
   "id": "e9d9d276-58c8-4aee-9e4c-a0a70793b218",
   "metadata": {},
   "outputs": [],
   "source": [
    "# Media\n",
    "media_users = list(user_data_df[(user_data_df['New_Aggregate_Labels'].isin(media_labels))]['screen_name'])\n",
    "media_users_df = filtered_network_data_df[(filtered_network_data_df['Vertex1'].isin(media_users)) | (filtered_network_data_df['Vertex2'].isin(media_users))]\n",
    "pruned_media_users_df = media_users_df[media_users_df['Relationship_type'].isin(['Replies_to', 'Quote', 'Tweet'])]"
   ]
  },
  {
   "cell_type": "code",
   "execution_count": 103,
   "id": "b3996d56-4e14-427e-9f25-e7df7cc61a4a",
   "metadata": {},
   "outputs": [],
   "source": [
    "# Civics\n",
    "civic_users = list(user_data_df[(user_data_df['New_Aggregate_Labels'].isin(civic_labels))]['screen_name'])\n",
    "civic_users_df = filtered_network_data_df[(filtered_network_data_df['Vertex1'].isin(civic_users)) | (filtered_network_data_df['Vertex2'].isin(civic_users))]\n",
    "pruned_civic_users_df = civic_users_df[civic_users_df['Relationship_type'].isin(['Replies_to', 'Quote', 'Tweet'])]"
   ]
  },
  {
   "cell_type": "code",
   "execution_count": 104,
   "id": "057e74c9-52ae-4aad-80f1-e71a8e181006",
   "metadata": {},
   "outputs": [],
   "source": [
    "# Business\n",
    "business_users = list(user_data_df[(user_data_df['New_Aggregate_Labels'].isin(business_labels))]['screen_name'])\n",
    "business_users_df = filtered_network_data_df[(filtered_network_data_df['Vertex1'].isin(business_users)) | (filtered_network_data_df['Vertex2'].isin(business_users))]\n",
    "pruned_business_users_df = business_users_df[business_users_df['Relationship_type'].isin(['Replies_to', 'Quote', 'Tweet'])]"
   ]
  },
  {
   "cell_type": "code",
   "execution_count": 105,
   "id": "300d52d9-4ab9-4c9a-8c3e-11e91d8185a7",
   "metadata": {},
   "outputs": [],
   "source": [
    "# Advocacy and Non-Profits\n",
    "advocacy_nonprofits_users = list(user_data_df[(user_data_df['New_Aggregate_Labels'].isin(advocacy_nonprofits_labels))]['screen_name'])\n",
    "advocacy_nonprofits_users_df = filtered_network_data_df[(filtered_network_data_df['Vertex1'].isin(advocacy_nonprofits_users)) | (filtered_network_data_df['Vertex2'].isin(advocacy_nonprofits_users))]\n",
    "pruned_advocacy_nonprofits_users_df = advocacy_nonprofits_users_df[advocacy_nonprofits_users_df['Relationship_type'].isin(['Replies_to', 'Quote', 'Tweet'])]"
   ]
  },
  {
   "cell_type": "code",
   "execution_count": 106,
   "id": "5b4430ba-3af4-40d0-bad9-f8f4d2e5f552",
   "metadata": {},
   "outputs": [],
   "source": [
    "# Culture and Sports\n",
    "culture_sports_users = list(user_data_df[(user_data_df['New_Aggregate_Labels'].isin(culture_sports_labels))]['screen_name'])\n",
    "culture_sports_users_df = filtered_network_data_df[(filtered_network_data_df['Vertex1'].isin(culture_sports_users)) | (filtered_network_data_df['Vertex2'].isin(culture_sports_users))]\n",
    "pruned_culture_sports_users_df = culture_sports_users_df[culture_sports_users_df['Relationship_type'].isin(['Replies_to', 'Quote', 'Tweet'])]"
   ]
  },
  {
   "cell_type": "code",
   "execution_count": 107,
   "id": "13d73dcb-7789-4c2b-984b-130c84826198",
   "metadata": {},
   "outputs": [],
   "source": [
    "# Miscellaneous\n",
    "miscellaneous_users = list(user_data_df[(user_data_df['New_Aggregate_Labels'].isin(miscellaneous_labels))]['screen_name'])\n",
    "miscellaneous_users_df = filtered_network_data_df[(filtered_network_data_df['Vertex1'].isin(miscellaneous_users)) | (filtered_network_data_df['Vertex2'].isin(miscellaneous_users))]\n",
    "pruned_miscellaneous_users_df = miscellaneous_users_df[miscellaneous_users_df['Relationship_type'].isin(['Replies_to', 'Quote', 'Tweet'])]"
   ]
  },
  {
   "cell_type": "markdown",
   "id": "a3218306-fed8-44df-b12f-e8a88f5e063f",
   "metadata": {},
   "source": [
    "## Saving Dataframes to CSV"
   ]
  },
  {
   "cell_type": "code",
   "execution_count": 108,
   "id": "6dd314f0-a8a4-42c6-8349-b753c9c6dade",
   "metadata": {},
   "outputs": [],
   "source": [
    "# Education\n",
    "pruned_education_users_fp = '../twitter_data/network_data/pruned_education_users.csv'\n",
    "pruned_education_users_df.to_csv(pruned_education_users_fp, index=False)"
   ]
  },
  {
   "cell_type": "code",
   "execution_count": 109,
   "id": "8680faa3-9e02-4834-940e-ae992c7979a8",
   "metadata": {},
   "outputs": [],
   "source": [
    "# Media\n",
    "pruned_media_users_fp = '../twitter_data/network_data/pruned_media_users.csv'\n",
    "pruned_media_users_df.to_csv(pruned_media_users_fp, index=False)"
   ]
  },
  {
   "cell_type": "code",
   "execution_count": 110,
   "id": "17cf5134-3975-48c3-b323-510d57685b2f",
   "metadata": {},
   "outputs": [],
   "source": [
    "# Medicine and Researchers\n",
    "pruned_medicine_and_research_users_fp = '../twitter_data/network_data/pruned_medicine_and_research_users.csv'\n",
    "pruned_medicine_and_research_users_df.to_csv(pruned_medicine_and_research_users_fp, index=False)"
   ]
  },
  {
   "cell_type": "code",
   "execution_count": 111,
   "id": "cfe8ad59-088b-497a-99c5-bf48112001ba",
   "metadata": {},
   "outputs": [],
   "source": [
    "# Civics\n",
    "pruned_civic_users_fp = '../twitter_data/network_data/pruned_civic_users.csv'\n",
    "pruned_civic_users_df.to_csv(pruned_civic_users_fp, index=False)"
   ]
  },
  {
   "cell_type": "code",
   "execution_count": 112,
   "id": "7f564153-7892-40d1-bdb4-323dcf1ee1ef",
   "metadata": {},
   "outputs": [],
   "source": [
    "# Business\n",
    "pruned_business_users_fp = '../twitter_data/network_data/pruned_business_users.csv'\n",
    "pruned_business_users_df.to_csv(pruned_business_users_fp, index=False)"
   ]
  },
  {
   "cell_type": "code",
   "execution_count": 113,
   "id": "6db01260-5cae-4bc5-ba7e-af253ad37f47",
   "metadata": {},
   "outputs": [],
   "source": [
    "# Advocacy and Non-Profits\n",
    "pruned_advocacy_nonprofits_users_fp = '../twitter_data/network_data/pruned_advocacy_nonprofits_users.csv'\n",
    "pruned_advocacy_nonprofits_users_df.to_csv(pruned_advocacy_nonprofits_users_fp, index=False)"
   ]
  },
  {
   "cell_type": "code",
   "execution_count": 114,
   "id": "1eeda4cb-f053-49a7-a6b8-bb0e34102a2b",
   "metadata": {},
   "outputs": [],
   "source": [
    "# Culture and Sports\n",
    "pruned_culture_sports_users_fp = '../twitter_data/network_data/pruned_culture_sports_users.csv'\n",
    "pruned_culture_sports_users_df.to_csv(pruned_culture_sports_users_fp, index=False)"
   ]
  },
  {
   "cell_type": "code",
   "execution_count": 115,
   "id": "f3bde89a-edcf-4c4f-b3f9-36e3b8133cab",
   "metadata": {},
   "outputs": [],
   "source": [
    "# Miscellaneous\n",
    "pruned_miscellaneous_users_fp = '../twitter_data/network_data/pruned_miscellaneous_users.csv'\n",
    "pruned_miscellaneous_users_df.to_csv(pruned_miscellaneous_users_fp, index=False)"
   ]
  },
  {
   "cell_type": "markdown",
   "id": "37038ebb-c3ca-490b-b98a-ea11d4ec4b72",
   "metadata": {},
   "source": [
    "## Master Dataset Pruning"
   ]
  },
  {
   "cell_type": "code",
   "execution_count": 116,
   "id": "1abc45e9-eb21-4b7b-9c63-1dc71ba8292c",
   "metadata": {},
   "outputs": [],
   "source": [
    "pruned_network_data_df = network_data_df[network_data_df['Lang_code'] == 'en']\n",
    "pruned_network_data_df = pruned_network_data_df[pruned_network_data_df['Relationship_type'].isin(['Replies_to', 'Quote', 'Tweet'])]"
   ]
  },
  {
   "cell_type": "code",
   "execution_count": 117,
   "id": "3c4ddcec-fc28-46df-b5b5-66b2bacccc9e",
   "metadata": {},
   "outputs": [],
   "source": [
    "pruned_network_data_df.to_csv('../twitter_data/network_data/pruned_network_data.csv', index=False)"
   ]
  }
 ],
 "metadata": {
  "kernelspec": {
   "display_name": "Python (ta)",
   "language": "python",
   "name": "ta"
  },
  "language_info": {
   "codemirror_mode": {
    "name": "ipython",
    "version": 3
   },
   "file_extension": ".py",
   "mimetype": "text/x-python",
   "name": "python",
   "nbconvert_exporter": "python",
   "pygments_lexer": "ipython3",
   "version": "3.8.18"
  }
 },
 "nbformat": 4,
 "nbformat_minor": 5
}
