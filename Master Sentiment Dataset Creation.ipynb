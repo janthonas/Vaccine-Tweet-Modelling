{
 "cells": [
  {
   "cell_type": "code",
   "execution_count": 359,
   "id": "dfcd1771-0e42-494e-8c9a-d0d67fba996c",
   "metadata": {},
   "outputs": [
    {
     "name": "stdout",
     "output_type": "stream",
     "text": [
      "The history saving thread hit an unexpected error (OperationalError('attempt to write a readonly database')).History will not be written to the database.\n"
     ]
    }
   ],
   "source": [
    "import os\n",
    "import pandas as pd\n",
    "\n",
    "# Needed for word swapping\n",
    "import nltk\n",
    "from nltk.corpus import wordnet\n",
    "from gensim.models import KeyedVectors\n",
    "import random\n",
    "from sentence_transformers import SentenceTransformer, util"
   ]
  },
  {
   "cell_type": "markdown",
   "id": "87071882-db76-4eb3-baa0-41cb8f6e9fc6",
   "metadata": {},
   "source": [
    "## SemEval 2017 Dataframe"
   ]
  },
  {
   "cell_type": "code",
   "execution_count": 360,
   "id": "9fbfc90a-2d7a-408d-a159-01847cab2295",
   "metadata": {},
   "outputs": [],
   "source": [
    "def map_label(label):\n",
    "    if label == \"negative\":\n",
    "        return 0\n",
    "    elif label == \"neutral\":\n",
    "        return 1\n",
    "    elif label == \"positive\":\n",
    "        return 2\n",
    "    else:\n",
    "        return None"
   ]
  },
  {
   "cell_type": "code",
   "execution_count": 361,
   "id": "92002d34-8d30-4637-a18b-58bbdd2aec76",
   "metadata": {},
   "outputs": [],
   "source": [
    "def process_file(file_path):\n",
    "    tweets = []\n",
    "    labels = []\n",
    "    with open(file_path, 'r', encoding='utf-8') as file:\n",
    "        for line in file:\n",
    "            parts = line.strip().split('\\t')\n",
    "            if len(parts) == 3:\n",
    "                tweet_id, label, tweet = parts\n",
    "                mapped_label = map_label(label)\n",
    "                if mapped_label is not None:\n",
    "                    tweets.append(tweet)\n",
    "                    labels.append(mapped_label)\n",
    "    return pd.DataFrame({'Tweet': tweets, 'label': labels})"
   ]
  },
  {
   "cell_type": "code",
   "execution_count": 362,
   "id": "0238bd21-7bac-4b6b-931f-5410955b2992",
   "metadata": {},
   "outputs": [],
   "source": [
    "input_dir = 'twitter_data/custom_data/Semeval_2017/'\n",
    "\n",
    "semeval2017_data = pd.DataFrame()"
   ]
  },
  {
   "cell_type": "code",
   "execution_count": 363,
   "id": "9814594a-687b-404b-b37b-3a27713901ff",
   "metadata": {},
   "outputs": [],
   "source": [
    "for file_name in os.listdir(input_dir):\n",
    "    if file_name.endswith('.txt'):\n",
    "        file_path = os.path.join(input_dir, file_name)\n",
    "        file_data = process_file(file_path)\n",
    "        semeval2017_data = pd.concat([semeval2017_data, file_data], ignore_index=True)"
   ]
  },
  {
   "cell_type": "markdown",
   "id": "96b34837-f378-47e8-95f9-fe4d608760be",
   "metadata": {},
   "source": [
    "## SemEval 2018 Dataframe"
   ]
  },
  {
   "cell_type": "code",
   "execution_count": 364,
   "id": "4d32b341-b93b-4f63-950d-bf846ba94c3e",
   "metadata": {},
   "outputs": [],
   "source": [
    "input_dir = 'twitter_data/custom_data/Semeval_2018/'"
   ]
  },
  {
   "cell_type": "code",
   "execution_count": 365,
   "id": "6a8e2496-1510-42a9-8235-4f0de440af35",
   "metadata": {},
   "outputs": [],
   "source": [
    "semeval2018_data = pd.DataFrame()"
   ]
  },
  {
   "cell_type": "code",
   "execution_count": 366,
   "id": "dc3dba28-e4f0-467c-ad1f-6e41d9dfe5fa",
   "metadata": {},
   "outputs": [],
   "source": [
    "def map_emotion_to_sentiment(row):\n",
    "    positive_emotions = ['joy', 'love', 'optimism', 'trust', 'anticipation']\n",
    "    negative_emotions = ['anger', 'disgust', 'fear', 'pessimism', 'sadness']\n",
    "    neutral_emotions = ['surprise']\n",
    "\n",
    "    positive = any(row[emotion] == 1 for emotion in positive_emotions)\n",
    "    negative = any(row[emotion] == 1 for emotion in negative_emotions)\n",
    "    neutral = any(row[emotion] == 1 for emotion in neutral_emotions)\n",
    "\n",
    "    if positive and negative:\n",
    "        return 1\n",
    "    elif positive:\n",
    "        return 2\n",
    "    elif negative:\n",
    "        return 0\n",
    "    elif neutral:\n",
    "        return 1\n",
    "    else:\n",
    "        return 1"
   ]
  },
  {
   "cell_type": "code",
   "execution_count": 367,
   "id": "dd832ee6-c647-4586-a3af-d9fa17b91904",
   "metadata": {},
   "outputs": [],
   "source": [
    "for file_name in os.listdir(input_dir):\n",
    "    if file_name.endswith('.txt'):\n",
    "        file_path = os.path.join(input_dir, file_name)\n",
    "\n",
    "        file_data = pd.read_csv(file_path, sep='\\t')\n",
    "\n",
    "        semeval2018_data = pd.concat([semeval2018_data, file_data], ignore_index=True)"
   ]
  },
  {
   "cell_type": "code",
   "execution_count": 368,
   "id": "9165914b-3829-42de-bee6-c3fdcaabc489",
   "metadata": {},
   "outputs": [],
   "source": [
    "semeval2018_data['label'] = semeval2018_data.apply(map_emotion_to_sentiment, axis=1)"
   ]
  },
  {
   "cell_type": "code",
   "execution_count": 369,
   "id": "da0a5f4d-5cc5-4c19-a87f-b26cd90eef4e",
   "metadata": {},
   "outputs": [
    {
     "data": {
      "text/plain": [
       "3614"
      ]
     },
     "execution_count": 369,
     "metadata": {},
     "output_type": "execute_result"
    }
   ],
   "source": [
    "len(semeval2018_data[semeval2018_data['label'] == 0])"
   ]
  },
  {
   "cell_type": "code",
   "execution_count": 370,
   "id": "43dd29dc-44e8-45b5-8515-eb70b85a4d07",
   "metadata": {},
   "outputs": [
    {
     "data": {
      "text/html": [
       "<div>\n",
       "<style scoped>\n",
       "    .dataframe tbody tr th:only-of-type {\n",
       "        vertical-align: middle;\n",
       "    }\n",
       "\n",
       "    .dataframe tbody tr th {\n",
       "        vertical-align: top;\n",
       "    }\n",
       "\n",
       "    .dataframe thead th {\n",
       "        text-align: right;\n",
       "    }\n",
       "</style>\n",
       "<table border=\"1\" class=\"dataframe\">\n",
       "  <thead>\n",
       "    <tr style=\"text-align: right;\">\n",
       "      <th></th>\n",
       "      <th>ID</th>\n",
       "      <th>Tweet</th>\n",
       "      <th>anger</th>\n",
       "      <th>anticipation</th>\n",
       "      <th>disgust</th>\n",
       "      <th>fear</th>\n",
       "      <th>joy</th>\n",
       "      <th>love</th>\n",
       "      <th>optimism</th>\n",
       "      <th>pessimism</th>\n",
       "      <th>sadness</th>\n",
       "      <th>surprise</th>\n",
       "      <th>trust</th>\n",
       "      <th>label</th>\n",
       "    </tr>\n",
       "  </thead>\n",
       "  <tbody>\n",
       "    <tr>\n",
       "      <th>0</th>\n",
       "      <td>2017-En-21441</td>\n",
       "      <td>“Worry is a down payment on a problem you may ...</td>\n",
       "      <td>0</td>\n",
       "      <td>1</td>\n",
       "      <td>0</td>\n",
       "      <td>0</td>\n",
       "      <td>0</td>\n",
       "      <td>0</td>\n",
       "      <td>1</td>\n",
       "      <td>0</td>\n",
       "      <td>0</td>\n",
       "      <td>0</td>\n",
       "      <td>1</td>\n",
       "      <td>2</td>\n",
       "    </tr>\n",
       "    <tr>\n",
       "      <th>1</th>\n",
       "      <td>2017-En-31535</td>\n",
       "      <td>Whatever you decide to do make sure it makes y...</td>\n",
       "      <td>0</td>\n",
       "      <td>0</td>\n",
       "      <td>0</td>\n",
       "      <td>0</td>\n",
       "      <td>1</td>\n",
       "      <td>1</td>\n",
       "      <td>1</td>\n",
       "      <td>0</td>\n",
       "      <td>0</td>\n",
       "      <td>0</td>\n",
       "      <td>0</td>\n",
       "      <td>2</td>\n",
       "    </tr>\n",
       "    <tr>\n",
       "      <th>2</th>\n",
       "      <td>2017-En-21068</td>\n",
       "      <td>@Max_Kellerman  it also helps that the majorit...</td>\n",
       "      <td>1</td>\n",
       "      <td>0</td>\n",
       "      <td>1</td>\n",
       "      <td>0</td>\n",
       "      <td>1</td>\n",
       "      <td>0</td>\n",
       "      <td>1</td>\n",
       "      <td>0</td>\n",
       "      <td>0</td>\n",
       "      <td>0</td>\n",
       "      <td>0</td>\n",
       "      <td>1</td>\n",
       "    </tr>\n",
       "    <tr>\n",
       "      <th>3</th>\n",
       "      <td>2017-En-31436</td>\n",
       "      <td>Accept the challenges so that you can literall...</td>\n",
       "      <td>0</td>\n",
       "      <td>0</td>\n",
       "      <td>0</td>\n",
       "      <td>0</td>\n",
       "      <td>1</td>\n",
       "      <td>0</td>\n",
       "      <td>1</td>\n",
       "      <td>0</td>\n",
       "      <td>0</td>\n",
       "      <td>0</td>\n",
       "      <td>0</td>\n",
       "      <td>2</td>\n",
       "    </tr>\n",
       "    <tr>\n",
       "      <th>4</th>\n",
       "      <td>2017-En-22195</td>\n",
       "      <td>My roommate: it's okay that we can't spell bec...</td>\n",
       "      <td>1</td>\n",
       "      <td>0</td>\n",
       "      <td>1</td>\n",
       "      <td>0</td>\n",
       "      <td>0</td>\n",
       "      <td>0</td>\n",
       "      <td>0</td>\n",
       "      <td>0</td>\n",
       "      <td>0</td>\n",
       "      <td>0</td>\n",
       "      <td>0</td>\n",
       "      <td>0</td>\n",
       "    </tr>\n",
       "    <tr>\n",
       "      <th>...</th>\n",
       "      <td>...</td>\n",
       "      <td>...</td>\n",
       "      <td>...</td>\n",
       "      <td>...</td>\n",
       "      <td>...</td>\n",
       "      <td>...</td>\n",
       "      <td>...</td>\n",
       "      <td>...</td>\n",
       "      <td>...</td>\n",
       "      <td>...</td>\n",
       "      <td>...</td>\n",
       "      <td>...</td>\n",
       "      <td>...</td>\n",
       "      <td>...</td>\n",
       "    </tr>\n",
       "    <tr>\n",
       "      <th>7719</th>\n",
       "      <td>2018-En-01993</td>\n",
       "      <td>@BadHombreNPS @SecretaryPerry If this didn't m...</td>\n",
       "      <td>1</td>\n",
       "      <td>0</td>\n",
       "      <td>1</td>\n",
       "      <td>0</td>\n",
       "      <td>0</td>\n",
       "      <td>0</td>\n",
       "      <td>0</td>\n",
       "      <td>0</td>\n",
       "      <td>0</td>\n",
       "      <td>0</td>\n",
       "      <td>0</td>\n",
       "      <td>0</td>\n",
       "    </tr>\n",
       "    <tr>\n",
       "      <th>7720</th>\n",
       "      <td>2018-En-01784</td>\n",
       "      <td>Excited to watch #stateoforigin tonight! Come ...</td>\n",
       "      <td>0</td>\n",
       "      <td>0</td>\n",
       "      <td>0</td>\n",
       "      <td>0</td>\n",
       "      <td>1</td>\n",
       "      <td>0</td>\n",
       "      <td>1</td>\n",
       "      <td>0</td>\n",
       "      <td>0</td>\n",
       "      <td>0</td>\n",
       "      <td>0</td>\n",
       "      <td>2</td>\n",
       "    </tr>\n",
       "    <tr>\n",
       "      <th>7721</th>\n",
       "      <td>2018-En-04047</td>\n",
       "      <td>Blah blah blah Kyrie, IT, etc. @CJC9BOSS leavi...</td>\n",
       "      <td>1</td>\n",
       "      <td>0</td>\n",
       "      <td>1</td>\n",
       "      <td>0</td>\n",
       "      <td>0</td>\n",
       "      <td>0</td>\n",
       "      <td>0</td>\n",
       "      <td>0</td>\n",
       "      <td>1</td>\n",
       "      <td>0</td>\n",
       "      <td>0</td>\n",
       "      <td>0</td>\n",
       "    </tr>\n",
       "    <tr>\n",
       "      <th>7722</th>\n",
       "      <td>2018-En-03041</td>\n",
       "      <td>#ThingsIveLearned The wise #shepherd never tru...</td>\n",
       "      <td>0</td>\n",
       "      <td>0</td>\n",
       "      <td>0</td>\n",
       "      <td>0</td>\n",
       "      <td>0</td>\n",
       "      <td>0</td>\n",
       "      <td>0</td>\n",
       "      <td>0</td>\n",
       "      <td>0</td>\n",
       "      <td>0</td>\n",
       "      <td>0</td>\n",
       "      <td>1</td>\n",
       "    </tr>\n",
       "    <tr>\n",
       "      <th>7723</th>\n",
       "      <td>2018-En-03386</td>\n",
       "      <td>I am really flattered and happy to hear those ...</td>\n",
       "      <td>0</td>\n",
       "      <td>0</td>\n",
       "      <td>0</td>\n",
       "      <td>0</td>\n",
       "      <td>1</td>\n",
       "      <td>0</td>\n",
       "      <td>1</td>\n",
       "      <td>0</td>\n",
       "      <td>0</td>\n",
       "      <td>0</td>\n",
       "      <td>0</td>\n",
       "      <td>2</td>\n",
       "    </tr>\n",
       "  </tbody>\n",
       "</table>\n",
       "<p>7724 rows × 14 columns</p>\n",
       "</div>"
      ],
      "text/plain": [
       "                 ID                                              Tweet  anger  \\\n",
       "0     2017-En-21441  “Worry is a down payment on a problem you may ...      0   \n",
       "1     2017-En-31535  Whatever you decide to do make sure it makes y...      0   \n",
       "2     2017-En-21068  @Max_Kellerman  it also helps that the majorit...      1   \n",
       "3     2017-En-31436  Accept the challenges so that you can literall...      0   \n",
       "4     2017-En-22195  My roommate: it's okay that we can't spell bec...      1   \n",
       "...             ...                                                ...    ...   \n",
       "7719  2018-En-01993  @BadHombreNPS @SecretaryPerry If this didn't m...      1   \n",
       "7720  2018-En-01784  Excited to watch #stateoforigin tonight! Come ...      0   \n",
       "7721  2018-En-04047  Blah blah blah Kyrie, IT, etc. @CJC9BOSS leavi...      1   \n",
       "7722  2018-En-03041  #ThingsIveLearned The wise #shepherd never tru...      0   \n",
       "7723  2018-En-03386  I am really flattered and happy to hear those ...      0   \n",
       "\n",
       "      anticipation  disgust  fear  joy  love  optimism  pessimism  sadness  \\\n",
       "0                1        0     0    0     0         1          0        0   \n",
       "1                0        0     0    1     1         1          0        0   \n",
       "2                0        1     0    1     0         1          0        0   \n",
       "3                0        0     0    1     0         1          0        0   \n",
       "4                0        1     0    0     0         0          0        0   \n",
       "...            ...      ...   ...  ...   ...       ...        ...      ...   \n",
       "7719             0        1     0    0     0         0          0        0   \n",
       "7720             0        0     0    1     0         1          0        0   \n",
       "7721             0        1     0    0     0         0          0        1   \n",
       "7722             0        0     0    0     0         0          0        0   \n",
       "7723             0        0     0    1     0         1          0        0   \n",
       "\n",
       "      surprise  trust  label  \n",
       "0            0      1      2  \n",
       "1            0      0      2  \n",
       "2            0      0      1  \n",
       "3            0      0      2  \n",
       "4            0      0      0  \n",
       "...        ...    ...    ...  \n",
       "7719         0      0      0  \n",
       "7720         0      0      2  \n",
       "7721         0      0      0  \n",
       "7722         0      0      1  \n",
       "7723         0      0      2  \n",
       "\n",
       "[7724 rows x 14 columns]"
      ]
     },
     "execution_count": 370,
     "metadata": {},
     "output_type": "execute_result"
    }
   ],
   "source": [
    "semeval2018_data"
   ]
  },
  {
   "cell_type": "markdown",
   "id": "f2158021-e134-40b4-89de-f4aa2eeae55b",
   "metadata": {},
   "source": [
    "## SenWave Dataset"
   ]
  },
  {
   "cell_type": "code",
   "execution_count": 371,
   "id": "faf32a7f-3135-49a4-80a5-0a69d2878ff3",
   "metadata": {},
   "outputs": [],
   "source": [
    "# Import SenWave Dataset\n",
    "# Convert the labels to positive, neutral, or negative\n",
    "# Create new tweets by changing various keywords with synonyms such as COVID-19 with Corona Virus"
   ]
  },
  {
   "cell_type": "code",
   "execution_count": 372,
   "id": "893c42e4-a500-479d-9c39-112afa1d5804",
   "metadata": {},
   "outputs": [],
   "source": [
    "def map_emotion_to_sentiment_senwave(row):\n",
    "    positive_emotions = ['Optimistic', 'Thankful', 'Empathetic']\n",
    "    negative_emotions = ['Pessimistic', 'Anxious', 'Sad', 'Annoyed', 'Denial']\n",
    "    neutral_emotions = ['Official report', 'Joking']\n",
    "\n",
    "    positive = any(row[emotion] == 1 for emotion in positive_emotions)\n",
    "    negative = any(row[emotion] == 1 for emotion in negative_emotions)\n",
    "    neutral = any(row[emotion] == 1 for emotion in neutral_emotions)\n",
    "\n",
    "    if positive and negative:\n",
    "        return 1\n",
    "    elif positive:\n",
    "        return 2\n",
    "    elif negative:\n",
    "        return 0\n",
    "    elif neutral:\n",
    "        return 1\n",
    "    else:\n",
    "        return 1"
   ]
  },
  {
   "cell_type": "code",
   "execution_count": 373,
   "id": "bc2f496b-d4b5-4550-a82d-5f8c8f6c81c9",
   "metadata": {},
   "outputs": [],
   "source": [
    "input_filepath = 'twitter_data/custom_data/SenWaveDataset/labeledEn.csv'"
   ]
  },
  {
   "cell_type": "code",
   "execution_count": 374,
   "id": "b65e916f-dd4c-4cb2-b339-8d8b73f16135",
   "metadata": {},
   "outputs": [],
   "source": [
    "senwave_df = pd.read_csv(input_filepath)"
   ]
  },
  {
   "cell_type": "code",
   "execution_count": 375,
   "id": "5d565ad4-772b-4ca2-8bb1-b1cc679b77a1",
   "metadata": {},
   "outputs": [],
   "source": [
    "senwave_df['label'] = senwave_df.apply(map_emotion_to_sentiment_senwave, axis=1)"
   ]
  },
  {
   "cell_type": "code",
   "execution_count": 376,
   "id": "fdd53c2c-f4f2-4c8b-b375-295d84cdf6f1",
   "metadata": {},
   "outputs": [
    {
     "data": {
      "text/html": [
       "<div>\n",
       "<style scoped>\n",
       "    .dataframe tbody tr th:only-of-type {\n",
       "        vertical-align: middle;\n",
       "    }\n",
       "\n",
       "    .dataframe tbody tr th {\n",
       "        vertical-align: top;\n",
       "    }\n",
       "\n",
       "    .dataframe thead th {\n",
       "        text-align: right;\n",
       "    }\n",
       "</style>\n",
       "<table border=\"1\" class=\"dataframe\">\n",
       "  <thead>\n",
       "    <tr style=\"text-align: right;\">\n",
       "      <th></th>\n",
       "      <th>ID</th>\n",
       "      <th>Tweet</th>\n",
       "      <th>Optimistic</th>\n",
       "      <th>Thankful</th>\n",
       "      <th>Empathetic</th>\n",
       "      <th>Pessimistic</th>\n",
       "      <th>Anxious</th>\n",
       "      <th>Sad</th>\n",
       "      <th>Annoyed</th>\n",
       "      <th>Denial</th>\n",
       "      <th>Official report</th>\n",
       "      <th>Joking</th>\n",
       "      <th>label</th>\n",
       "    </tr>\n",
       "  </thead>\n",
       "  <tbody>\n",
       "    <tr>\n",
       "      <th>0</th>\n",
       "      <td>1.245140e+18</td>\n",
       "      <td>A glass of wine keeps the corona away- DRAKE. ...</td>\n",
       "      <td>1</td>\n",
       "      <td>0</td>\n",
       "      <td>0</td>\n",
       "      <td>0</td>\n",
       "      <td>0</td>\n",
       "      <td>0</td>\n",
       "      <td>0</td>\n",
       "      <td>0</td>\n",
       "      <td>0</td>\n",
       "      <td>1</td>\n",
       "      <td>2</td>\n",
       "    </tr>\n",
       "    <tr>\n",
       "      <th>1</th>\n",
       "      <td>1.245140e+18</td>\n",
       "      <td>Can Anyone tell me if you took the flu shot la...</td>\n",
       "      <td>0</td>\n",
       "      <td>0</td>\n",
       "      <td>0</td>\n",
       "      <td>0</td>\n",
       "      <td>1</td>\n",
       "      <td>0</td>\n",
       "      <td>0</td>\n",
       "      <td>0</td>\n",
       "      <td>0</td>\n",
       "      <td>0</td>\n",
       "      <td>0</td>\n",
       "    </tr>\n",
       "    <tr>\n",
       "      <th>2</th>\n",
       "      <td>1.245140e+18</td>\n",
       "      <td>Btw producers send me beats Im working on musi...</td>\n",
       "      <td>1</td>\n",
       "      <td>0</td>\n",
       "      <td>0</td>\n",
       "      <td>0</td>\n",
       "      <td>0</td>\n",
       "      <td>0</td>\n",
       "      <td>0</td>\n",
       "      <td>0</td>\n",
       "      <td>0</td>\n",
       "      <td>1</td>\n",
       "      <td>2</td>\n",
       "    </tr>\n",
       "    <tr>\n",
       "      <th>3</th>\n",
       "      <td>1.245140e+18</td>\n",
       "      <td>When someone you know.. apart of your family d...</td>\n",
       "      <td>0</td>\n",
       "      <td>0</td>\n",
       "      <td>0</td>\n",
       "      <td>0</td>\n",
       "      <td>0</td>\n",
       "      <td>1</td>\n",
       "      <td>0</td>\n",
       "      <td>0</td>\n",
       "      <td>0</td>\n",
       "      <td>0</td>\n",
       "      <td>0</td>\n",
       "    </tr>\n",
       "    <tr>\n",
       "      <th>4</th>\n",
       "      <td>1.245140e+18</td>\n",
       "      <td>Dear soccer, I really miss you ,please come ba...</td>\n",
       "      <td>0</td>\n",
       "      <td>0</td>\n",
       "      <td>0</td>\n",
       "      <td>0</td>\n",
       "      <td>0</td>\n",
       "      <td>1</td>\n",
       "      <td>1</td>\n",
       "      <td>0</td>\n",
       "      <td>0</td>\n",
       "      <td>0</td>\n",
       "      <td>0</td>\n",
       "    </tr>\n",
       "    <tr>\n",
       "      <th>...</th>\n",
       "      <td>...</td>\n",
       "      <td>...</td>\n",
       "      <td>...</td>\n",
       "      <td>...</td>\n",
       "      <td>...</td>\n",
       "      <td>...</td>\n",
       "      <td>...</td>\n",
       "      <td>...</td>\n",
       "      <td>...</td>\n",
       "      <td>...</td>\n",
       "      <td>...</td>\n",
       "      <td>...</td>\n",
       "      <td>...</td>\n",
       "    </tr>\n",
       "    <tr>\n",
       "      <th>9995</th>\n",
       "      <td>1.250090e+18</td>\n",
       "      <td>One good thing about the quarantine: I can now...</td>\n",
       "      <td>1</td>\n",
       "      <td>0</td>\n",
       "      <td>0</td>\n",
       "      <td>0</td>\n",
       "      <td>0</td>\n",
       "      <td>0</td>\n",
       "      <td>0</td>\n",
       "      <td>0</td>\n",
       "      <td>0</td>\n",
       "      <td>1</td>\n",
       "      <td>2</td>\n",
       "    </tr>\n",
       "    <tr>\n",
       "      <th>9996</th>\n",
       "      <td>1.250090e+18</td>\n",
       "      <td>Shoutout to for making the coronavirus testing...</td>\n",
       "      <td>1</td>\n",
       "      <td>1</td>\n",
       "      <td>0</td>\n",
       "      <td>0</td>\n",
       "      <td>1</td>\n",
       "      <td>0</td>\n",
       "      <td>0</td>\n",
       "      <td>0</td>\n",
       "      <td>0</td>\n",
       "      <td>0</td>\n",
       "      <td>1</td>\n",
       "    </tr>\n",
       "    <tr>\n",
       "      <th>9997</th>\n",
       "      <td>1.250090e+18</td>\n",
       "      <td>I find it amazing that more people fear the Co...</td>\n",
       "      <td>0</td>\n",
       "      <td>0</td>\n",
       "      <td>0</td>\n",
       "      <td>0</td>\n",
       "      <td>0</td>\n",
       "      <td>0</td>\n",
       "      <td>0</td>\n",
       "      <td>0</td>\n",
       "      <td>0</td>\n",
       "      <td>0</td>\n",
       "      <td>1</td>\n",
       "    </tr>\n",
       "    <tr>\n",
       "      <th>9998</th>\n",
       "      <td>1.250090e+18</td>\n",
       "      <td>thinking about how i put my two weeks in right...</td>\n",
       "      <td>1</td>\n",
       "      <td>0</td>\n",
       "      <td>0</td>\n",
       "      <td>1</td>\n",
       "      <td>0</td>\n",
       "      <td>0</td>\n",
       "      <td>0</td>\n",
       "      <td>0</td>\n",
       "      <td>0</td>\n",
       "      <td>1</td>\n",
       "      <td>1</td>\n",
       "    </tr>\n",
       "    <tr>\n",
       "      <th>9999</th>\n",
       "      <td>1.250090e+18</td>\n",
       "      <td>Stop asking to change location manthat how you...</td>\n",
       "      <td>0</td>\n",
       "      <td>0</td>\n",
       "      <td>0</td>\n",
       "      <td>0</td>\n",
       "      <td>0</td>\n",
       "      <td>0</td>\n",
       "      <td>1</td>\n",
       "      <td>0</td>\n",
       "      <td>0</td>\n",
       "      <td>0</td>\n",
       "      <td>0</td>\n",
       "    </tr>\n",
       "  </tbody>\n",
       "</table>\n",
       "<p>10000 rows × 13 columns</p>\n",
       "</div>"
      ],
      "text/plain": [
       "                ID                                              Tweet  \\\n",
       "0     1.245140e+18  A glass of wine keeps the corona away- DRAKE. ...   \n",
       "1     1.245140e+18  Can Anyone tell me if you took the flu shot la...   \n",
       "2     1.245140e+18  Btw producers send me beats Im working on musi...   \n",
       "3     1.245140e+18  When someone you know.. apart of your family d...   \n",
       "4     1.245140e+18  Dear soccer, I really miss you ,please come ba...   \n",
       "...            ...                                                ...   \n",
       "9995  1.250090e+18  One good thing about the quarantine: I can now...   \n",
       "9996  1.250090e+18  Shoutout to for making the coronavirus testing...   \n",
       "9997  1.250090e+18  I find it amazing that more people fear the Co...   \n",
       "9998  1.250090e+18  thinking about how i put my two weeks in right...   \n",
       "9999  1.250090e+18  Stop asking to change location manthat how you...   \n",
       "\n",
       "      Optimistic  Thankful  Empathetic  Pessimistic  Anxious  Sad  Annoyed  \\\n",
       "0              1         0           0            0        0    0        0   \n",
       "1              0         0           0            0        1    0        0   \n",
       "2              1         0           0            0        0    0        0   \n",
       "3              0         0           0            0        0    1        0   \n",
       "4              0         0           0            0        0    1        1   \n",
       "...          ...       ...         ...          ...      ...  ...      ...   \n",
       "9995           1         0           0            0        0    0        0   \n",
       "9996           1         1           0            0        1    0        0   \n",
       "9997           0         0           0            0        0    0        0   \n",
       "9998           1         0           0            1        0    0        0   \n",
       "9999           0         0           0            0        0    0        1   \n",
       "\n",
       "      Denial  Official report  Joking  label  \n",
       "0          0                0       1      2  \n",
       "1          0                0       0      0  \n",
       "2          0                0       1      2  \n",
       "3          0                0       0      0  \n",
       "4          0                0       0      0  \n",
       "...      ...              ...     ...    ...  \n",
       "9995       0                0       1      2  \n",
       "9996       0                0       0      1  \n",
       "9997       0                0       0      1  \n",
       "9998       0                0       1      1  \n",
       "9999       0                0       0      0  \n",
       "\n",
       "[10000 rows x 13 columns]"
      ]
     },
     "execution_count": 376,
     "metadata": {},
     "output_type": "execute_result"
    }
   ],
   "source": [
    "senwave_df"
   ]
  },
  {
   "cell_type": "markdown",
   "id": "49e18c67-2d1c-4a8c-800f-dacc5063b329",
   "metadata": {},
   "source": [
    "## Adding Synonym Sentences to SenWave Dataframe"
   ]
  },
  {
   "cell_type": "code",
   "execution_count": 377,
   "id": "6d428e1e-0caa-49c1-a2af-ed86fdb824a5",
   "metadata": {},
   "outputs": [
    {
     "data": {
      "text/plain": [
       "0       A glass of wine keeps the corona away- DRAKE. ...\n",
       "1       Can Anyone tell me if you took the flu shot la...\n",
       "2       Btw producers send me beats Im working on musi...\n",
       "3       When someone you know.. apart of your family d...\n",
       "4       Dear soccer, I really miss you ,please come ba...\n",
       "                              ...                        \n",
       "9995    One good thing about the quarantine: I can now...\n",
       "9996    Shoutout to for making the coronavirus testing...\n",
       "9997    I find it amazing that more people fear the Co...\n",
       "9998    thinking about how i put my two weeks in right...\n",
       "9999    Stop asking to change location manthat how you...\n",
       "Name: Tweet, Length: 10000, dtype: object"
      ]
     },
     "execution_count": 377,
     "metadata": {},
     "output_type": "execute_result"
    }
   ],
   "source": [
    "senwave_df['Tweet']"
   ]
  },
  {
   "cell_type": "code",
   "execution_count": 378,
   "id": "fc2cd701-82ba-4f25-8c1c-cbdcd3d90dd7",
   "metadata": {},
   "outputs": [
    {
     "name": "stderr",
     "output_type": "stream",
     "text": [
      "[nltk_data] Downloading package wordnet to /Users/jack/nltk_data...\n",
      "[nltk_data]   Package wordnet is already up-to-date!\n",
      "[nltk_data] Downloading package omw-1.4 to /Users/jack/nltk_data...\n",
      "[nltk_data]   Package omw-1.4 is already up-to-date!\n"
     ]
    }
   ],
   "source": [
    "# Necessary NLTK Files\n",
    "nltk.download('wordnet')\n",
    "nltk.download('omw-1.4')\n",
    "\n",
    "# Sentence transformer for word similarity\n",
    "model = SentenceTransformer('all-MiniLM-L6-v2')"
   ]
  },
  {
   "cell_type": "code",
   "execution_count": 379,
   "id": "6b0eae87-a304-4cf8-933b-42a5631340d1",
   "metadata": {},
   "outputs": [],
   "source": [
    "# Uses wordnet to get synonyms of words\n",
    "def get_synonyms(word):\n",
    "    synonyms = set()\n",
    "    for syn in wordnet.synsets(word):\n",
    "        for lemma in syn.lemmas():\n",
    "            synonym = lemma.name().replace('_', ' ').lower()\n",
    "            if synonym != word:\n",
    "                synonyms.add(synonym)\n",
    "    return list(synonyms)"
   ]
  },
  {
   "cell_type": "code",
   "execution_count": 380,
   "id": "5392d0bf-b506-4912-a098-692e8560b385",
   "metadata": {},
   "outputs": [],
   "source": [
    "# Checks if a word is similar, this is set quite strict to ensure the sentiment isn't changed\n",
    "def are_similar(word, synonym, sentence, threshold=0.7):\n",
    "    context_sentence = sentence.replace(word, synonym)\n",
    "    embeddings = model.encode([sentence, context_sentence])\n",
    "    similarity = util.pytorch_cos_sim(embeddings[0], embeddings[1]).item()\n",
    "    #return similarity >= threshold\n",
    "    return similarity"
   ]
  },
  {
   "cell_type": "code",
   "execution_count": 381,
   "id": "56090afe-9927-4e33-a27b-381bf3a55f8b",
   "metadata": {},
   "outputs": [
    {
     "data": {
      "text/plain": [
       "0.9239178895950317"
      ]
     },
     "execution_count": 381,
     "metadata": {},
     "output_type": "execute_result"
    }
   ],
   "source": [
    "are_similar(\"fast\", \"fasting\", \"I love fast cars\")"
   ]
  },
  {
   "cell_type": "code",
   "execution_count": 382,
   "id": "c55761c5-8e92-49c9-86ef-9e9b4967c8c9",
   "metadata": {},
   "outputs": [
    {
     "data": {
      "text/plain": [
       "['debauched',\n",
       " 'degraded',\n",
       " 'libertine',\n",
       " 'truehearted',\n",
       " 'degenerate',\n",
       " 'dissolute',\n",
       " 'profligate',\n",
       " 'dissipated',\n",
       " 'tight',\n",
       " 'riotous',\n",
       " 'immobile',\n",
       " 'quick',\n",
       " 'loyal',\n",
       " 'fasting',\n",
       " 'flying',\n",
       " 'firm']"
      ]
     },
     "execution_count": 382,
     "metadata": {},
     "output_type": "execute_result"
    }
   ],
   "source": [
    "get_synonyms(\"fast\")"
   ]
  },
  {
   "cell_type": "markdown",
   "id": "e61f4941-7b89-453f-a41a-6a34bf2be23f",
   "metadata": {},
   "source": [
    "## Combining Datasets"
   ]
  },
  {
   "cell_type": "code",
   "execution_count": 383,
   "id": "10003b16-5d9e-4338-b943-dfff6b9743ae",
   "metadata": {},
   "outputs": [],
   "source": [
    "semeval2017_pruned_data = semeval2017_data[['Tweet','label']].copy()\n",
    "semeval2018_pruned_data = semeval2018_data[['Tweet','label']].copy()\n",
    "senwave_pruned_data = senwave_df[['Tweet','label']].copy()"
   ]
  },
  {
   "cell_type": "code",
   "execution_count": 384,
   "id": "1723b5a8-5ccb-40e4-91e8-86c4d7de1d22",
   "metadata": {},
   "outputs": [],
   "source": [
    "semeval2017_pruned_data.to_csv('twitter_data/custom_data/semeval_2017.csv')"
   ]
  },
  {
   "cell_type": "code",
   "execution_count": 385,
   "id": "d5a1ef56-0f50-481a-a010-0e4e5eb6e9fc",
   "metadata": {},
   "outputs": [],
   "source": [
    "full_covid_sentiment_df = pd.concat([semeval2017_pruned_data, semeval2018_pruned_data, senwave_pruned_data], ignore_index=True)"
   ]
  },
  {
   "cell_type": "code",
   "execution_count": 386,
   "id": "402092bd-a01e-4b15-b192-ef4122a3a714",
   "metadata": {},
   "outputs": [],
   "source": [
    "full_covid_sentiment_df.to_csv('twitter_data/custom_data/full_covid_sent.csv')"
   ]
  },
  {
   "cell_type": "markdown",
   "id": "7680f3f3-08dc-4a72-9058-c1b1e40c6b7e",
   "metadata": {},
   "source": [
    "## Creating the Individual Sentiment Datasets"
   ]
  },
  {
   "cell_type": "code",
   "execution_count": 387,
   "id": "04d1ec63-08a5-4011-be1b-806fb50502ac",
   "metadata": {},
   "outputs": [],
   "source": [
    "# Creating Optimism Dataset\n",
    "senwave_optimism = senwave_df[senwave_df['Optimistic'] == 1]\n",
    "senwave_non_optimism = senwave_df[senwave_df['Optimistic'] != 1]"
   ]
  },
  {
   "cell_type": "code",
   "execution_count": 388,
   "id": "85cb9b1d-ec22-4d01-8359-6b12ac0661b8",
   "metadata": {},
   "outputs": [],
   "source": [
    "senwave_non_optimism_len = len(senwave_optimism) * 2\n",
    "senwave_non_optimism = senwave_non_optimism.sample(n=senwave_non_optimism_len, random_state=23)"
   ]
  },
  {
   "cell_type": "code",
   "execution_count": 389,
   "id": "52097147-32ae-4bbf-bac4-da1be28f4ce0",
   "metadata": {},
   "outputs": [],
   "source": [
    "senwave_optimism_dataset = pd.concat([senwave_optimism, senwave_non_optimism], ignore_index=True)"
   ]
  },
  {
   "cell_type": "code",
   "execution_count": 390,
   "id": "1f05f56a-194f-4f32-a109-bdb8cc163e6f",
   "metadata": {},
   "outputs": [],
   "source": [
    "senwave_optimism_dataset = senwave_optimism_dataset[['Tweet', 'Optimistic']]\n",
    "senwave_optimism_dataset.rename(columns={'Optimistic': 'label'}, inplace=True)"
   ]
  },
  {
   "cell_type": "code",
   "execution_count": 391,
   "id": "fd0ab5d1-3e0b-4704-ac03-6a2e8c23798e",
   "metadata": {},
   "outputs": [],
   "source": [
    "# Creating Pessimistic Dataset\n",
    "senwave_pessimistic = senwave_df[senwave_df['Pessimistic'] == 1]\n",
    "senwave_non_pessimistic = senwave_df[senwave_df['Pessimistic'] != 1]"
   ]
  },
  {
   "cell_type": "code",
   "execution_count": 392,
   "id": "3c9c3fff-3816-4086-b42b-e29e688f2730",
   "metadata": {},
   "outputs": [],
   "source": [
    "senwave_non_pessimistic_len = len(senwave_pessimistic) * 2\n",
    "senwave_non_pessimistic = senwave_non_pessimistic.sample(n=senwave_non_pessimistic_len, random_state=23)"
   ]
  },
  {
   "cell_type": "code",
   "execution_count": 393,
   "id": "0676c193-c89f-42ae-8be8-dfaa8f1df7bd",
   "metadata": {},
   "outputs": [],
   "source": [
    "senwave_pessimistic_dataset = pd.concat([senwave_pessimistic, senwave_non_pessimistic], ignore_index=True)"
   ]
  },
  {
   "cell_type": "code",
   "execution_count": 394,
   "id": "949ed685-3c4f-4173-805e-e508124cd9c8",
   "metadata": {},
   "outputs": [],
   "source": [
    "senwave_pessimistic_dataset = senwave_pessimistic_dataset[['Tweet', 'Pessimistic']]\n",
    "senwave_pessimistic_dataset.rename(columns={'Pessimistic': 'label'}, inplace=True)"
   ]
  },
  {
   "cell_type": "code",
   "execution_count": 395,
   "id": "2f2d636c-5ff1-4764-9716-047de962ebee",
   "metadata": {},
   "outputs": [],
   "source": [
    "# Creating Sad Dataset\n",
    "senwave_sad = senwave_df[senwave_df['Sad'] == 1]\n",
    "senwave_non_sad = senwave_df[senwave_df['Sad'] != 1]"
   ]
  },
  {
   "cell_type": "code",
   "execution_count": 396,
   "id": "33bb7e26-cad2-4e48-a8b3-f47eb7c5583a",
   "metadata": {},
   "outputs": [],
   "source": [
    "senwave_non_sad_len = round(len(senwave_sad) * 2)\n",
    "senwave_non_sad = senwave_non_sad.sample(n=senwave_non_sad_len, random_state=23)"
   ]
  },
  {
   "cell_type": "code",
   "execution_count": 397,
   "id": "2d8386b2-b7f2-4ef2-bfd8-cdfdf1f389c9",
   "metadata": {},
   "outputs": [],
   "source": [
    "senwave_sad_dataset = pd.concat([senwave_sad, senwave_non_sad], ignore_index=True)"
   ]
  },
  {
   "cell_type": "code",
   "execution_count": 398,
   "id": "ce741098-fdd9-4e33-a753-75d121c124fa",
   "metadata": {},
   "outputs": [],
   "source": [
    "senwave_sad_dataset = senwave_sad_dataset[['Tweet', 'Sad']]\n",
    "senwave_sad_dataset.rename(columns={'Sad': 'label'}, inplace=True)"
   ]
  },
  {
   "cell_type": "code",
   "execution_count": 399,
   "id": "f98a3e41-7878-45d0-b736-21ea3db085d4",
   "metadata": {},
   "outputs": [],
   "source": [
    "# Creating Annoyed Dataset\n",
    "senwave_annoyed = senwave_df[senwave_df['Annoyed'] == 1]\n",
    "senwave_non_annoyed = senwave_df[senwave_df['Annoyed'] != 1]"
   ]
  },
  {
   "cell_type": "code",
   "execution_count": 400,
   "id": "5abfaa7c-e6f9-4167-99ca-12ac1ba7b4ba",
   "metadata": {},
   "outputs": [],
   "source": [
    "senwave_non_annoyed_len = round(len(senwave_annoyed) * 1.8)\n",
    "senwave_non_annoyed = senwave_non_annoyed.sample(n=senwave_non_annoyed_len, random_state=23)"
   ]
  },
  {
   "cell_type": "code",
   "execution_count": 401,
   "id": "9f30551d-e010-4917-a046-7b076e0cd2f5",
   "metadata": {},
   "outputs": [],
   "source": [
    "senwave_annoyed_dataset = pd.concat([senwave_annoyed, senwave_non_annoyed], ignore_index=True)"
   ]
  },
  {
   "cell_type": "code",
   "execution_count": 402,
   "id": "d96f86ce-87b7-49da-8a3c-d3a9e3e6b602",
   "metadata": {},
   "outputs": [],
   "source": [
    "senwave_annoyed_dataset = senwave_annoyed_dataset[['Tweet', 'Annoyed']]\n",
    "senwave_annoyed_dataset.rename(columns={'Annoyed': 'label'}, inplace=True)"
   ]
  },
  {
   "cell_type": "code",
   "execution_count": 403,
   "id": "977b66b0-e76c-43b8-a7c6-49a277d777a8",
   "metadata": {},
   "outputs": [],
   "source": [
    "# Creating Joking Dataset\n",
    "senwave_joking = senwave_df[senwave_df['Joking'] == 1]\n",
    "senwave_non_joking = senwave_df[senwave_df['Joking'] != 1]"
   ]
  },
  {
   "cell_type": "code",
   "execution_count": 404,
   "id": "eb4f87e4-ec88-4547-8832-0b518ce691a7",
   "metadata": {},
   "outputs": [],
   "source": [
    "senwave_non_joking_len = round(len(senwave_joking) * 1.1)\n",
    "senwave_non_joking = senwave_non_joking.sample(n=senwave_non_joking_len, random_state=23)"
   ]
  },
  {
   "cell_type": "code",
   "execution_count": 405,
   "id": "1072a845-9c74-4ee8-a4df-ddca016d0365",
   "metadata": {},
   "outputs": [],
   "source": [
    "senwave_joking_dataset = pd.concat([senwave_joking, senwave_non_joking], ignore_index=True)"
   ]
  },
  {
   "cell_type": "code",
   "execution_count": 406,
   "id": "6a7a3e2b-b0b7-4fb9-9180-35eff30c42f6",
   "metadata": {},
   "outputs": [],
   "source": [
    "senwave_joking_dataset = senwave_joking_dataset[['Tweet', 'Joking']]\n",
    "senwave_joking_dataset.rename(columns={'Joking': 'label'}, inplace=True)"
   ]
  },
  {
   "cell_type": "code",
   "execution_count": 407,
   "id": "d877c674-36ce-4f02-8fc7-b9d497f833fa",
   "metadata": {},
   "outputs": [],
   "source": [
    "# Saving Individual Emotion Datasets\n",
    "senwave_optimism_dataset.to_csv('twitter_data/custom_data/optimism_dataset.csv')\n",
    "senwave_pessimistic_dataset.to_csv('twitter_data/custom_data/pessimistic_dataset.csv')\n",
    "senwave_sad_dataset.to_csv('twitter_data/custom_data/sad_dataset.csv')\n",
    "senwave_annoyed_dataset.to_csv('twitter_data/custom_data/annoyed_dataset.csv')\n",
    "senwave_joking_dataset.to_csv('twitter_data/custom_data/joking_dataset.csv')"
   ]
  },
  {
   "cell_type": "code",
   "execution_count": 414,
   "id": "0f4db7a2-bf20-464f-b24e-786a998ebc75",
   "metadata": {},
   "outputs": [],
   "source": [
    "optimism_test = pd.read_csv('twitter_data/custom_data/annoyed_dataset.csv')"
   ]
  },
  {
   "cell_type": "code",
   "execution_count": 415,
   "id": "f59f55c6-47d7-4f1a-8152-848b9b716d07",
   "metadata": {},
   "outputs": [
    {
     "data": {
      "text/html": [
       "<div>\n",
       "<style scoped>\n",
       "    .dataframe tbody tr th:only-of-type {\n",
       "        vertical-align: middle;\n",
       "    }\n",
       "\n",
       "    .dataframe tbody tr th {\n",
       "        vertical-align: top;\n",
       "    }\n",
       "\n",
       "    .dataframe thead th {\n",
       "        text-align: right;\n",
       "    }\n",
       "</style>\n",
       "<table border=\"1\" class=\"dataframe\">\n",
       "  <thead>\n",
       "    <tr style=\"text-align: right;\">\n",
       "      <th></th>\n",
       "      <th>Unnamed: 0</th>\n",
       "      <th>Tweet</th>\n",
       "      <th>label</th>\n",
       "    </tr>\n",
       "  </thead>\n",
       "  <tbody>\n",
       "    <tr>\n",
       "      <th>0</th>\n",
       "      <td>0</td>\n",
       "      <td>Dear soccer, I really miss you ,please come ba...</td>\n",
       "      <td>1</td>\n",
       "    </tr>\n",
       "    <tr>\n",
       "      <th>1</th>\n",
       "      <td>1</td>\n",
       "      <td>Yes all of them ! n France 1.000 Christians to...</td>\n",
       "      <td>1</td>\n",
       "    </tr>\n",
       "    <tr>\n",
       "      <th>2</th>\n",
       "      <td>2</td>\n",
       "      <td>This feels like one big Stanford Prison Experi...</td>\n",
       "      <td>1</td>\n",
       "    </tr>\n",
       "    <tr>\n",
       "      <th>3</th>\n",
       "      <td>3</td>\n",
       "      <td>My uncle paranoid about corona virus but still...</td>\n",
       "      <td>1</td>\n",
       "    </tr>\n",
       "    <tr>\n",
       "      <th>4</th>\n",
       "      <td>4</td>\n",
       "      <td>Someone should now come and tell us all this C...</td>\n",
       "      <td>1</td>\n",
       "    </tr>\n",
       "    <tr>\n",
       "      <th>...</th>\n",
       "      <td>...</td>\n",
       "      <td>...</td>\n",
       "      <td>...</td>\n",
       "    </tr>\n",
       "    <tr>\n",
       "      <th>9773</th>\n",
       "      <td>9773</td>\n",
       "      <td>Thank you Covid19.. i was able to pay my Debt ...</td>\n",
       "      <td>0</td>\n",
       "    </tr>\n",
       "    <tr>\n",
       "      <th>9774</th>\n",
       "      <td>9774</td>\n",
       "      <td>Wyoming now is the only state that has not rep...</td>\n",
       "      <td>0</td>\n",
       "    </tr>\n",
       "    <tr>\n",
       "      <th>9775</th>\n",
       "      <td>9775</td>\n",
       "      <td>I hope I wake up tomorrow and the government s...</td>\n",
       "      <td>0</td>\n",
       "    </tr>\n",
       "    <tr>\n",
       "      <th>9776</th>\n",
       "      <td>9776</td>\n",
       "      <td>I just feel like corona wouldnt be here if Mic...</td>\n",
       "      <td>0</td>\n",
       "    </tr>\n",
       "    <tr>\n",
       "      <th>9777</th>\n",
       "      <td>9777</td>\n",
       "      <td>Wait for it! How soon is Trump going to boast ...</td>\n",
       "      <td>0</td>\n",
       "    </tr>\n",
       "  </tbody>\n",
       "</table>\n",
       "<p>9778 rows × 3 columns</p>\n",
       "</div>"
      ],
      "text/plain": [
       "      Unnamed: 0                                              Tweet  label\n",
       "0              0  Dear soccer, I really miss you ,please come ba...      1\n",
       "1              1  Yes all of them ! n France 1.000 Christians to...      1\n",
       "2              2  This feels like one big Stanford Prison Experi...      1\n",
       "3              3  My uncle paranoid about corona virus but still...      1\n",
       "4              4  Someone should now come and tell us all this C...      1\n",
       "...          ...                                                ...    ...\n",
       "9773        9773  Thank you Covid19.. i was able to pay my Debt ...      0\n",
       "9774        9774  Wyoming now is the only state that has not rep...      0\n",
       "9775        9775  I hope I wake up tomorrow and the government s...      0\n",
       "9776        9776  I just feel like corona wouldnt be here if Mic...      0\n",
       "9777        9777  Wait for it! How soon is Trump going to boast ...      0\n",
       "\n",
       "[9778 rows x 3 columns]"
      ]
     },
     "execution_count": 415,
     "metadata": {},
     "output_type": "execute_result"
    }
   ],
   "source": [
    "optimism_test"
   ]
  },
  {
   "cell_type": "markdown",
   "id": "2484cff6-3be5-46c7-99b6-e46c0981ff68",
   "metadata": {},
   "source": [
    "## Individual Emotion Dataset"
   ]
  },
  {
   "cell_type": "code",
   "execution_count": null,
   "id": "6e7ca05e-eb84-43f9-b1cb-31f1273a9b6e",
   "metadata": {},
   "outputs": [],
   "source": [
    "# Combine SenWave and Semeval 2018 dataset to create individual emotion datasets for optimism, or sadness\n",
    "# These datasets could also be padded with extra data as well using the synonym changes\n",
    "# These datasets should just be 0 or 1, false or true respectively for each emotion"
   ]
  }
 ],
 "metadata": {
  "kernelspec": {
   "display_name": "Python (ta)",
   "language": "python",
   "name": "ta"
  },
  "language_info": {
   "codemirror_mode": {
    "name": "ipython",
    "version": 3
   },
   "file_extension": ".py",
   "mimetype": "text/x-python",
   "name": "python",
   "nbconvert_exporter": "python",
   "pygments_lexer": "ipython3",
   "version": "3.8.18"
  }
 },
 "nbformat": 4,
 "nbformat_minor": 5
}
