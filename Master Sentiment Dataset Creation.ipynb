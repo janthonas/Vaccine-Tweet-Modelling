{
 "cells": [
  {
   "cell_type": "code",
   "execution_count": 21,
   "id": "dfcd1771-0e42-494e-8c9a-d0d67fba996c",
   "metadata": {},
   "outputs": [],
   "source": [
    "import os\n",
    "import pandas as pd"
   ]
  },
  {
   "cell_type": "markdown",
   "id": "87071882-db76-4eb3-baa0-41cb8f6e9fc6",
   "metadata": {},
   "source": [
    "## SemEval 2017 Dataframe"
   ]
  },
  {
   "cell_type": "code",
   "execution_count": 22,
   "id": "9fbfc90a-2d7a-408d-a159-01847cab2295",
   "metadata": {},
   "outputs": [],
   "source": [
    "def map_label(label):\n",
    "    if label == \"negative\":\n",
    "        return 0\n",
    "    elif label == \"neutral\":\n",
    "        return 1\n",
    "    elif label == \"positive\":\n",
    "        return 2\n",
    "    else:\n",
    "        return None"
   ]
  },
  {
   "cell_type": "code",
   "execution_count": 23,
   "id": "92002d34-8d30-4637-a18b-58bbdd2aec76",
   "metadata": {},
   "outputs": [],
   "source": [
    "def process_file(file_path):\n",
    "    tweets = []\n",
    "    labels = []\n",
    "    with open(file_path, 'r', encoding='utf-8') as file:\n",
    "        for line in file:\n",
    "            parts = line.strip().split('\\t')\n",
    "            if len(parts) == 3:\n",
    "                tweet_id, label, tweet = parts\n",
    "                mapped_label = map_label(label)\n",
    "                if mapped_label is not None:\n",
    "                    tweets.append(tweet)\n",
    "                    labels.append(mapped_label)\n",
    "    return pd.DataFrame({'Tweet': tweets, 'label': labels})"
   ]
  },
  {
   "cell_type": "code",
   "execution_count": 24,
   "id": "0238bd21-7bac-4b6b-931f-5410955b2992",
   "metadata": {},
   "outputs": [],
   "source": [
    "input_dir = 'twitter_data/custom_data/Semeval_2017/'\n",
    "\n",
    "semeval2017_data = pd.DataFrame()"
   ]
  },
  {
   "cell_type": "code",
   "execution_count": 25,
   "id": "9814594a-687b-404b-b37b-3a27713901ff",
   "metadata": {},
   "outputs": [],
   "source": [
    "for file_name in os.listdir(input_dir):\n",
    "    if file_name.endswith('.txt'):\n",
    "        file_path = os.path.join(input_dir, file_name)\n",
    "        file_data = process_file(file_path)\n",
    "        semeval2017_data = pd.concat([semeval2017_data, file_data], ignore_index=True)"
   ]
  },
  {
   "cell_type": "markdown",
   "id": "96b34837-f378-47e8-95f9-fe4d608760be",
   "metadata": {},
   "source": [
    "## SemEval 2018 Dataframe"
   ]
  },
  {
   "cell_type": "code",
   "execution_count": 40,
   "id": "4d32b341-b93b-4f63-950d-bf846ba94c3e",
   "metadata": {},
   "outputs": [],
   "source": [
    "input_dir = 'twitter_data/custom_data/Semeval_2018/'"
   ]
  },
  {
   "cell_type": "code",
   "execution_count": 41,
   "id": "6a8e2496-1510-42a9-8235-4f0de440af35",
   "metadata": {},
   "outputs": [],
   "source": [
    "semeval2018_data = pd.DataFrame()"
   ]
  },
  {
   "cell_type": "code",
   "execution_count": 46,
   "id": "dc3dba28-e4f0-467c-ad1f-6e41d9dfe5fa",
   "metadata": {},
   "outputs": [],
   "source": [
    "def map_emotion_to_sentiment(row):\n",
    "    positive_emotions = ['joy', 'love', 'optimism', 'trust', 'anticipation']\n",
    "    negative_emotions = ['anger', 'disgust', 'fear', 'pessimism', 'sadness']\n",
    "    neutral_emotions = ['surprise']\n",
    "\n",
    "    positive = any(row[emotion] == 1 for emotion in positive_emotions)\n",
    "    negative = any(row[emotion] == 1 for emotion in negative_emotions)\n",
    "    neutral = any(row[emotion] == 1 for emotion in neutral_emotions)\n",
    "\n",
    "    if positive and negative:\n",
    "        return 1\n",
    "    elif positive:\n",
    "        return 2\n",
    "    elif negative:\n",
    "        return 0\n",
    "    elif neutral:\n",
    "        return 1\n",
    "    else:\n",
    "        return 1"
   ]
  },
  {
   "cell_type": "code",
   "execution_count": 47,
   "id": "dd832ee6-c647-4586-a3af-d9fa17b91904",
   "metadata": {},
   "outputs": [],
   "source": [
    "for file_name in os.listdir(input_dir):\n",
    "    if file_name.endswith('.txt'):\n",
    "        file_path = os.path.join(input_dir, file_name)\n",
    "\n",
    "        file_data = pd.read_csv(file_path, sep='\\t')\n",
    "\n",
    "        semeval2018_data = pd.concat([semeval2018_data, file_data], ignore_index=True)"
   ]
  },
  {
   "cell_type": "code",
   "execution_count": 48,
   "id": "9165914b-3829-42de-bee6-c3fdcaabc489",
   "metadata": {},
   "outputs": [],
   "source": [
    "semeval2018_data['sentiment'] = semeval2018_data.apply(map_emotion_to_sentiment, axis=1)"
   ]
  },
  {
   "cell_type": "code",
   "execution_count": 51,
   "id": "da0a5f4d-5cc5-4c19-a87f-b26cd90eef4e",
   "metadata": {},
   "outputs": [
    {
     "data": {
      "text/plain": [
       "7228"
      ]
     },
     "execution_count": 51,
     "metadata": {},
     "output_type": "execute_result"
    }
   ],
   "source": [
    "len(semeval2018_data[semeval2018_data['sentiment'] == 0])"
   ]
  },
  {
   "cell_type": "markdown",
   "id": "f2158021-e134-40b4-89de-f4aa2eeae55b",
   "metadata": {},
   "source": [
    "## SenWave Dataset"
   ]
  },
  {
   "cell_type": "code",
   "execution_count": null,
   "id": "faf32a7f-3135-49a4-80a5-0a69d2878ff3",
   "metadata": {},
   "outputs": [],
   "source": [
    "# Import SenWave Dataset\n",
    "# Convert the labels to positive, neutral, or negative\n",
    "# Create new tweets "
   ]
  }
 ],
 "metadata": {
  "kernelspec": {
   "display_name": "Python (ta)",
   "language": "python",
   "name": "ta"
  },
  "language_info": {
   "codemirror_mode": {
    "name": "ipython",
    "version": 3
   },
   "file_extension": ".py",
   "mimetype": "text/x-python",
   "name": "python",
   "nbconvert_exporter": "python",
   "pygments_lexer": "ipython3",
   "version": "3.8.18"
  }
 },
 "nbformat": 4,
 "nbformat_minor": 5
}
