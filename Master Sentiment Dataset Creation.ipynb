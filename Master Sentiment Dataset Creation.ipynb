{
 "cells": [
  {
   "cell_type": "code",
   "execution_count": null,
   "id": "dfcd1771-0e42-494e-8c9a-d0d67fba996c",
   "metadata": {},
   "outputs": [],
   "source": [
    "import os\n",
    "import pandas as pd\n",
    "\n",
    "# Needed for word swapping\n",
    "import nltk\n",
    "from nltk.corpus import wordnet\n",
    "from gensim.models import KeyedVectors\n",
    "import random\n",
    "from sentence_transformers import SentenceTransformer, util"
   ]
  },
  {
   "cell_type": "markdown",
   "id": "87071882-db76-4eb3-baa0-41cb8f6e9fc6",
   "metadata": {},
   "source": [
    "## SemEval 2017 Dataframe"
   ]
  },
  {
   "cell_type": "code",
   "execution_count": null,
   "id": "9fbfc90a-2d7a-408d-a159-01847cab2295",
   "metadata": {},
   "outputs": [],
   "source": [
    "def map_label(label):\n",
    "    if label == \"negative\":\n",
    "        return 0\n",
    "    elif label == \"neutral\":\n",
    "        return 1\n",
    "    elif label == \"positive\":\n",
    "        return 2\n",
    "    else:\n",
    "        return None"
   ]
  },
  {
   "cell_type": "code",
   "execution_count": null,
   "id": "92002d34-8d30-4637-a18b-58bbdd2aec76",
   "metadata": {},
   "outputs": [],
   "source": [
    "def process_file(file_path):\n",
    "    tweets = []\n",
    "    labels = []\n",
    "    with open(file_path, 'r', encoding='utf-8') as file:\n",
    "        for line in file:\n",
    "            parts = line.strip().split('\\t')\n",
    "            if len(parts) == 3:\n",
    "                tweet_id, label, tweet = parts\n",
    "                mapped_label = map_label(label)\n",
    "                if mapped_label is not None:\n",
    "                    tweets.append(tweet)\n",
    "                    labels.append(mapped_label)\n",
    "    return pd.DataFrame({'Tweet': tweets, 'label': labels})"
   ]
  },
  {
   "cell_type": "code",
   "execution_count": null,
   "id": "0238bd21-7bac-4b6b-931f-5410955b2992",
   "metadata": {},
   "outputs": [],
   "source": [
    "input_dir = 'twitter_data/custom_data/Semeval_2017/'\n",
    "\n",
    "semeval2017_data = pd.DataFrame()"
   ]
  },
  {
   "cell_type": "code",
   "execution_count": null,
   "id": "9814594a-687b-404b-b37b-3a27713901ff",
   "metadata": {},
   "outputs": [],
   "source": [
    "for file_name in os.listdir(input_dir):\n",
    "    if file_name.endswith('.txt'):\n",
    "        file_path = os.path.join(input_dir, file_name)\n",
    "        file_data = process_file(file_path)\n",
    "        semeval2017_data = pd.concat([semeval2017_data, file_data], ignore_index=True)"
   ]
  },
  {
   "cell_type": "markdown",
   "id": "96b34837-f378-47e8-95f9-fe4d608760be",
   "metadata": {},
   "source": [
    "## SemEval 2018 Dataframe"
   ]
  },
  {
   "cell_type": "code",
   "execution_count": null,
   "id": "4d32b341-b93b-4f63-950d-bf846ba94c3e",
   "metadata": {},
   "outputs": [],
   "source": [
    "input_dir = 'twitter_data/custom_data/Semeval_2018/'"
   ]
  },
  {
   "cell_type": "code",
   "execution_count": null,
   "id": "6a8e2496-1510-42a9-8235-4f0de440af35",
   "metadata": {},
   "outputs": [],
   "source": [
    "semeval2018_data = pd.DataFrame()"
   ]
  },
  {
   "cell_type": "code",
   "execution_count": null,
   "id": "dc3dba28-e4f0-467c-ad1f-6e41d9dfe5fa",
   "metadata": {},
   "outputs": [],
   "source": [
    "def map_emotion_to_sentiment(row):\n",
    "    positive_emotions = ['joy', 'love', 'optimism', 'trust', 'anticipation']\n",
    "    negative_emotions = ['anger', 'disgust', 'fear', 'pessimism', 'sadness']\n",
    "    neutral_emotions = ['surprise']\n",
    "\n",
    "    positive = any(row[emotion] == 1 for emotion in positive_emotions)\n",
    "    negative = any(row[emotion] == 1 for emotion in negative_emotions)\n",
    "    neutral = any(row[emotion] == 1 for emotion in neutral_emotions)\n",
    "\n",
    "    if positive and negative:\n",
    "        return 1\n",
    "    elif positive:\n",
    "        return 2\n",
    "    elif negative:\n",
    "        return 0\n",
    "    elif neutral:\n",
    "        return 1\n",
    "    else:\n",
    "        return 1"
   ]
  },
  {
   "cell_type": "code",
   "execution_count": null,
   "id": "dd832ee6-c647-4586-a3af-d9fa17b91904",
   "metadata": {},
   "outputs": [],
   "source": [
    "for file_name in os.listdir(input_dir):\n",
    "    if file_name.endswith('.txt'):\n",
    "        file_path = os.path.join(input_dir, file_name)\n",
    "\n",
    "        file_data = pd.read_csv(file_path, sep='\\t')\n",
    "\n",
    "        semeval2018_data = pd.concat([semeval2018_data, file_data], ignore_index=True)"
   ]
  },
  {
   "cell_type": "code",
   "execution_count": null,
   "id": "9165914b-3829-42de-bee6-c3fdcaabc489",
   "metadata": {},
   "outputs": [],
   "source": [
    "semeval2018_data['label'] = semeval2018_data.apply(map_emotion_to_sentiment, axis=1)"
   ]
  },
  {
   "cell_type": "markdown",
   "id": "f2158021-e134-40b4-89de-f4aa2eeae55b",
   "metadata": {},
   "source": [
    "## SenWave Dataset"
   ]
  },
  {
   "cell_type": "code",
   "execution_count": null,
   "id": "faf32a7f-3135-49a4-80a5-0a69d2878ff3",
   "metadata": {},
   "outputs": [],
   "source": [
    "# Import SenWave Dataset\n",
    "# Convert the labels to positive, neutral, or negative\n",
    "# Create new tweets by changing various keywords with synonyms such as COVID-19 with Corona Virus"
   ]
  },
  {
   "cell_type": "code",
   "execution_count": null,
   "id": "893c42e4-a500-479d-9c39-112afa1d5804",
   "metadata": {},
   "outputs": [],
   "source": [
    "def map_emotion_to_sentiment_senwave(row):\n",
    "    positive_emotions = ['Optimistic', 'Thankful', 'Empathetic']\n",
    "    negative_emotions = ['Pessimistic', 'Anxious', 'Sad', 'Annoyed', 'Denial']\n",
    "    neutral_emotions = ['Official report', 'Joking']\n",
    "\n",
    "    positive = any(row[emotion] == 1 for emotion in positive_emotions)\n",
    "    negative = any(row[emotion] == 1 for emotion in negative_emotions)\n",
    "    neutral = any(row[emotion] == 1 for emotion in neutral_emotions)\n",
    "\n",
    "    if positive and negative:\n",
    "        return 1\n",
    "    elif positive:\n",
    "        return 2\n",
    "    elif negative:\n",
    "        return 0\n",
    "    elif neutral:\n",
    "        return 1\n",
    "    else:\n",
    "        return 1"
   ]
  },
  {
   "cell_type": "code",
   "execution_count": null,
   "id": "bc2f496b-d4b5-4550-a82d-5f8c8f6c81c9",
   "metadata": {},
   "outputs": [],
   "source": [
    "input_filepath = 'twitter_data/custom_data/SenWaveDataset/labeledEn.csv'"
   ]
  },
  {
   "cell_type": "code",
   "execution_count": null,
   "id": "b65e916f-dd4c-4cb2-b339-8d8b73f16135",
   "metadata": {},
   "outputs": [],
   "source": [
    "senwave_df = pd.read_csv(input_filepath)"
   ]
  },
  {
   "cell_type": "code",
   "execution_count": null,
   "id": "5d565ad4-772b-4ca2-8bb1-b1cc679b77a1",
   "metadata": {},
   "outputs": [],
   "source": [
    "senwave_df['label'] = senwave_df.apply(map_emotion_to_sentiment_senwave, axis=1)"
   ]
  },
  {
   "cell_type": "markdown",
   "id": "e61f4941-7b89-453f-a41a-6a34bf2be23f",
   "metadata": {},
   "source": [
    "## Combining Datasets"
   ]
  },
  {
   "cell_type": "code",
   "execution_count": null,
   "id": "10003b16-5d9e-4338-b943-dfff6b9743ae",
   "metadata": {},
   "outputs": [],
   "source": [
    "semeval2017_pruned_data = semeval2017_data[['Tweet','label']].copy()\n",
    "semeval2018_pruned_data = semeval2018_data[['Tweet','label']].copy()\n",
    "senwave_pruned_data = senwave_df[['Tweet','label']].copy()"
   ]
  },
  {
   "cell_type": "code",
   "execution_count": null,
   "id": "1723b5a8-5ccb-40e4-91e8-86c4d7de1d22",
   "metadata": {},
   "outputs": [],
   "source": [
    "semeval2017_pruned_data.to_csv('twitter_data/custom_data/semeval_2017.csv')"
   ]
  },
  {
   "cell_type": "code",
   "execution_count": null,
   "id": "d5a1ef56-0f50-481a-a010-0e4e5eb6e9fc",
   "metadata": {},
   "outputs": [],
   "source": [
    "full_covid_sentiment_df = pd.concat([semeval2017_pruned_data, semeval2018_pruned_data, senwave_pruned_data], ignore_index=True)"
   ]
  },
  {
   "cell_type": "code",
   "execution_count": null,
   "id": "402092bd-a01e-4b15-b192-ef4122a3a714",
   "metadata": {},
   "outputs": [],
   "source": [
    "full_covid_sentiment_df.to_csv('twitter_data/custom_data/full_covid_sent.csv')"
   ]
  },
  {
   "cell_type": "markdown",
   "id": "c206372b-6c55-48dc-93f2-e66d18686d24",
   "metadata": {},
   "source": [
    "## Building the Neutral only Dataset"
   ]
  },
  {
   "cell_type": "code",
   "execution_count": null,
   "id": "93d7d64c-9cc0-4e90-a52d-0898b97a6de3",
   "metadata": {},
   "outputs": [],
   "source": [
    "full_covid_sentiment_neutral_df = full_covid_sentiment_df.copy()\n",
    "full_covid_sentiment_neutral_df['label'] = full_covid_sentiment_neutral_df['label'].replace(2, 0)"
   ]
  },
  {
   "cell_type": "code",
   "execution_count": null,
   "id": "e3dffbe1-9d0e-4665-a4a6-5c20a712581f",
   "metadata": {},
   "outputs": [],
   "source": [
    "full_covid_sentiment_neutral_df.to_csv('twitter_data/custom_data/full_covid_sentiment_neutral_dataset.csv')"
   ]
  },
  {
   "cell_type": "markdown",
   "id": "7680f3f3-08dc-4a72-9058-c1b1e40c6b7e",
   "metadata": {},
   "source": [
    "## Creating the Individual Sentiment Datasets"
   ]
  },
  {
   "cell_type": "code",
   "execution_count": null,
   "id": "0f2864c3-b7d5-44db-9d8f-e523c166839e",
   "metadata": {},
   "outputs": [],
   "source": [
    "goemotion_1_fp = 'twitter_data/custom_data/goemotions_1.csv'\n",
    "goemotion_2_fp = 'twitter_data/custom_data/goemotions_2.csv'\n",
    "goemotion_3_fp = 'twitter_data/custom_data/goemotions_3.csv'\n",
    "\n",
    "goemotion_1_df = pd.read_csv(goemotion_1_fp)\n",
    "goemotion_2_df = pd.read_csv(goemotion_2_fp)\n",
    "goemotion_3_df = pd.read_csv(goemotion_3_fp)"
   ]
  },
  {
   "cell_type": "code",
   "execution_count": null,
   "id": "267c1450-2be5-463f-b685-2168c848983c",
   "metadata": {},
   "outputs": [],
   "source": [
    "goemotion_df = pd.concat([goemotion_1_df, goemotion_2_df, goemotion_3_df], ignore_index=True)\n",
    "goemotion_df = goemotion_df[goemotion_df['example_very_unclear'] == False]"
   ]
  },
  {
   "cell_type": "code",
   "execution_count": null,
   "id": "084c04c9-7143-49dc-9242-d3d7d597b813",
   "metadata": {},
   "outputs": [],
   "source": [
    "numeric_cols = goemotion_df.select_dtypes(include='number').columns\n",
    "numeric_cols = numeric_cols.drop(['created_utc', 'rater_id'])"
   ]
  },
  {
   "cell_type": "code",
   "execution_count": null,
   "id": "590db7a2-b741-44dd-9e40-74b91cebe9f2",
   "metadata": {},
   "outputs": [],
   "source": [
    "numeric_cols"
   ]
  },
  {
   "cell_type": "code",
   "execution_count": null,
   "id": "5966959f-4b6e-4fc0-85f4-ad9c488ac826",
   "metadata": {},
   "outputs": [],
   "source": [
    "## Groups of Emotions:\n",
    "# - Love: Admiration, Gratitude, Caring, Love\n",
    "# - Joyful: Amusement, Excitement, Joy, Optimism\n",
    "\n",
    "# - Anger: Anger, Annoyance, Disgust\n",
    "# - Sadness: Disappointment, Sadness, Grief\n",
    "\n",
    "# Other: Approval, Relief, Curiosity, Desire, Pride, Embarrassment, Remorse, Fear, Nervousness"
   ]
  },
  {
   "cell_type": "markdown",
   "id": "3674559c-4acd-4fb7-abfa-b33abc527fcd",
   "metadata": {},
   "source": [
    "### Love Emotion Group"
   ]
  },
  {
   "cell_type": "code",
   "execution_count": null,
   "id": "d0f66613-77d5-4ab7-9e60-5154c8917666",
   "metadata": {},
   "outputs": [],
   "source": [
    "love_df = goemotion_df[\n",
    "    (goemotion_df[['admiration', 'gratitude', 'caring', 'love']].any(axis=1)) &\n",
    "    (goemotion_df[numeric_cols].drop(columns=['admiration', 'gratitude', 'caring', 'love']).sum(axis=1) == 0)\n",
    "]\n",
    "non_love_df = goemotion_df[~(goemotion_df[['admiration', 'gratitude', 'caring', 'love']].any(axis=1))]"
   ]
  },
  {
   "cell_type": "code",
   "execution_count": null,
   "id": "7b1bc007-2d6b-4253-9e28-21c272ed21fa",
   "metadata": {},
   "outputs": [],
   "source": [
    "non_love_len = round(len(love_df) * 2)\n",
    "non_love_df = non_love_df.sample(n=non_love_len, random_state=23)"
   ]
  },
  {
   "cell_type": "code",
   "execution_count": null,
   "id": "d0b23804-314f-4a1c-90ea-c113761a955e",
   "metadata": {},
   "outputs": [],
   "source": [
    "love_df = love_df[['text']]\n",
    "love_df['label'] = 1"
   ]
  },
  {
   "cell_type": "code",
   "execution_count": null,
   "id": "fa005b66-6fb4-4657-8546-b8525fc278cb",
   "metadata": {},
   "outputs": [],
   "source": [
    "non_love_df = non_love_df[['text']]\n",
    "non_love_df['label'] = 0"
   ]
  },
  {
   "cell_type": "code",
   "execution_count": null,
   "id": "91eb63b2-a20e-489e-b751-b8ae1d93e17e",
   "metadata": {},
   "outputs": [],
   "source": [
    "goemotion_love_df = pd.concat([love_df, non_love_df], ignore_index=True)"
   ]
  },
  {
   "cell_type": "code",
   "execution_count": null,
   "id": "f048176d-90e0-43d4-9a38-bde2bb597473",
   "metadata": {},
   "outputs": [],
   "source": [
    "goemotion_love_df.to_csv('twitter_data/custom_data/geoemotion_love_group.csv')"
   ]
  },
  {
   "cell_type": "code",
   "execution_count": null,
   "id": "4921a934-ffa0-449e-88aa-45c8bd11b8e7",
   "metadata": {},
   "outputs": [],
   "source": [
    "goemotion_love_df"
   ]
  },
  {
   "cell_type": "markdown",
   "id": "d1a97a75-a847-4456-a6f4-ff9ba9d0a80c",
   "metadata": {},
   "source": [
    "### Joyful Emotion Group"
   ]
  },
  {
   "cell_type": "code",
   "execution_count": null,
   "id": "25220f59-1d2e-40b9-a091-ca075310c8b8",
   "metadata": {},
   "outputs": [],
   "source": [
    "joyful_df = goemotion_df[\n",
    "    (goemotion_df[['amusement', 'excitement', 'joy', 'optimism']].any(axis=1)) &\n",
    "    (goemotion_df[numeric_cols].drop(columns=['amusement', 'excitement', 'joy', 'optimism']).sum(axis=1) == 0)\n",
    "]\n",
    "non_joyful_df = goemotion_df[~(goemotion_df[['amusement', 'excitement', 'joy', 'optimism']].any(axis=1))]"
   ]
  },
  {
   "cell_type": "code",
   "execution_count": null,
   "id": "0063a002-6173-4aac-a67f-fc9dd02cc702",
   "metadata": {},
   "outputs": [],
   "source": [
    "non_joyful_len = round(len(joyful_df) * 2)\n",
    "non_joyful_df = non_joyful_df.sample(n=non_joyful_len, random_state=23)"
   ]
  },
  {
   "cell_type": "code",
   "execution_count": null,
   "id": "8e7062b1-59e2-4d58-82d8-9bf9da5c10ef",
   "metadata": {},
   "outputs": [],
   "source": [
    "joyful_df = joyful_df[['text']]\n",
    "joyful_df['label'] = 1"
   ]
  },
  {
   "cell_type": "code",
   "execution_count": null,
   "id": "fdad5296-5478-42bf-a3df-876827e4a14a",
   "metadata": {},
   "outputs": [],
   "source": [
    "non_joyful_df = non_joyful_df[['text']]\n",
    "non_joyful_df['label'] = 0"
   ]
  },
  {
   "cell_type": "code",
   "execution_count": null,
   "id": "a01cca6d-7211-47cf-81ef-98a321acc211",
   "metadata": {},
   "outputs": [],
   "source": [
    "goemotion_joyful_df = pd.concat([joyful_df, non_joyful_df], ignore_index=True)"
   ]
  },
  {
   "cell_type": "code",
   "execution_count": null,
   "id": "c760d85c-4974-4f6f-bfc0-6e7c0a04525f",
   "metadata": {},
   "outputs": [],
   "source": [
    "goemotion_joyful_df.to_csv('twitter_data/custom_data/geoemotion_joyful_group.csv')"
   ]
  },
  {
   "cell_type": "markdown",
   "id": "4f0c7e12-f090-47f1-a942-510cf578d4f1",
   "metadata": {},
   "source": [
    "### Anger Emotion Group"
   ]
  },
  {
   "cell_type": "code",
   "execution_count": null,
   "id": "c2432a6e-8f6f-4f53-b7c4-b8690f914ddb",
   "metadata": {},
   "outputs": [],
   "source": [
    "anger_df = goemotion_df[\n",
    "    (goemotion_df[['anger', 'annoyance', 'disgust']].any(axis=1)) &\n",
    "    (goemotion_df[numeric_cols].drop(columns=['anger', 'annoyance', 'disgust']).sum(axis=1) == 0)\n",
    "]\n",
    "non_anger_df = goemotion_df[~(goemotion_df[['anger', 'annoyance', 'disgust']].any(axis=1))]"
   ]
  },
  {
   "cell_type": "code",
   "execution_count": null,
   "id": "3f17ae9f-b898-47eb-ac17-8b751de9e470",
   "metadata": {},
   "outputs": [],
   "source": [
    "non_anger_len = round(len(anger_df) * 2)\n",
    "non_anger_df = non_anger_df.sample(n=non_anger_len, random_state=23)"
   ]
  },
  {
   "cell_type": "code",
   "execution_count": null,
   "id": "9da56946-c3b4-49f3-928f-f31c2144db59",
   "metadata": {},
   "outputs": [],
   "source": [
    "anger_df = anger_df[['text']]\n",
    "anger_df['label'] = 1"
   ]
  },
  {
   "cell_type": "code",
   "execution_count": null,
   "id": "d3c62c1f-e3bd-4922-a231-53b5af545a35",
   "metadata": {},
   "outputs": [],
   "source": [
    "non_anger_df = non_anger_df[['text']]\n",
    "non_anger_df['label'] = 0"
   ]
  },
  {
   "cell_type": "code",
   "execution_count": null,
   "id": "5f059711-5f3b-4c54-918d-4e5faab49857",
   "metadata": {},
   "outputs": [],
   "source": [
    "goemotion_anger_df = pd.concat([anger_df, non_anger_df], ignore_index=True)"
   ]
  },
  {
   "cell_type": "code",
   "execution_count": null,
   "id": "7de46328-2904-48ec-820d-bf82801397f2",
   "metadata": {},
   "outputs": [],
   "source": [
    "goemotion_anger_df.to_csv('twitter_data/custom_data/geoemotion_anger_group.csv')"
   ]
  },
  {
   "cell_type": "markdown",
   "id": "2b7fb967-ad2c-49d9-8298-1bb8454b420a",
   "metadata": {},
   "source": [
    "### Sadness Emotion Group"
   ]
  },
  {
   "cell_type": "code",
   "execution_count": null,
   "id": "ef9e7176-711d-4a41-9558-7a9d54f36138",
   "metadata": {},
   "outputs": [],
   "source": [
    "sadness_df = goemotion_df[\n",
    "    (goemotion_df[['disappointment', 'sadness', 'grief']].any(axis=1)) &\n",
    "    (goemotion_df[numeric_cols].drop(columns=['disappointment', 'sadness', 'grief']).sum(axis=1) == 0)\n",
    "]\n",
    "non_sadness_df = goemotion_df[~(goemotion_df[['disappointment', 'sadness', 'grief']].any(axis=1))]"
   ]
  },
  {
   "cell_type": "code",
   "execution_count": null,
   "id": "ce4d0653-d202-438d-beb6-3c614e7f14d0",
   "metadata": {},
   "outputs": [],
   "source": [
    "non_sadness_len = round(len(sadness_df) * 2)\n",
    "non_sadness_df = non_sadness_df.sample(n=non_sadness_len, random_state=23)"
   ]
  },
  {
   "cell_type": "code",
   "execution_count": null,
   "id": "268613d6-3268-42e8-a2ef-5524558de7a0",
   "metadata": {},
   "outputs": [],
   "source": [
    "sadness_df = sadness_df[['text']]\n",
    "sadness_df['label'] = 1"
   ]
  },
  {
   "cell_type": "code",
   "execution_count": null,
   "id": "843296a0-f1ca-4f8f-9336-6158e7830e96",
   "metadata": {},
   "outputs": [],
   "source": [
    "non_sadness_df = non_sadness_df[['text']]\n",
    "non_sadness_df['label'] = 0"
   ]
  },
  {
   "cell_type": "code",
   "execution_count": null,
   "id": "ee96223d-c053-4a9c-abde-a8bd370a8ddc",
   "metadata": {},
   "outputs": [],
   "source": [
    "goemotion_sadness_df = pd.concat([sadness_df, non_sadness_df], ignore_index=True)"
   ]
  },
  {
   "cell_type": "code",
   "execution_count": null,
   "id": "5d8158cf-1390-4889-be42-62c7f5204606",
   "metadata": {},
   "outputs": [],
   "source": [
    "goemotion_sadness_df.to_csv('twitter_data/custom_data/geoemotion_sadness_group.csv')"
   ]
  },
  {
   "cell_type": "markdown",
   "id": "314948a8-8a9e-45a4-bea5-cd299b4f6994",
   "metadata": {},
   "source": [
    "### Fear Emotion Group"
   ]
  },
  {
   "cell_type": "code",
   "execution_count": null,
   "id": "b48141f2-bed4-41b5-9c70-bba4c6461d84",
   "metadata": {},
   "outputs": [],
   "source": [
    "fear_df = goemotion_df[\n",
    "    (goemotion_df[['fear', 'nervousness']].any(axis=1)) &\n",
    "    (goemotion_df[numeric_cols].drop(columns=['fear', 'nervousness']).sum(axis=1) == 0)\n",
    "]\n",
    "non_fear_df = goemotion_df[~(goemotion_df[['fear', 'nervousness']].any(axis=1))]"
   ]
  },
  {
   "cell_type": "code",
   "execution_count": null,
   "id": "c8e4da25-ee3a-4def-b7e8-6e8275902d00",
   "metadata": {},
   "outputs": [],
   "source": [
    "non_fear_len = round(len(fear_df) * 2)\n",
    "non_fear_df = non_fear_df.sample(n=non_fear_len, random_state=23)"
   ]
  },
  {
   "cell_type": "code",
   "execution_count": null,
   "id": "b7661d33-18fb-4be3-bc36-81f5018aa677",
   "metadata": {},
   "outputs": [],
   "source": [
    "fear_df = fear_df[['text']]\n",
    "fear_df['label'] = 1"
   ]
  },
  {
   "cell_type": "code",
   "execution_count": null,
   "id": "cb65dbbb-f406-43c4-9741-f9be812e0b7a",
   "metadata": {},
   "outputs": [],
   "source": [
    "non_fear_df = non_fear_df[['text']]\n",
    "non_fear_df['label'] = 0"
   ]
  },
  {
   "cell_type": "code",
   "execution_count": null,
   "id": "8635b60d-9069-40c0-9043-73055a929b92",
   "metadata": {},
   "outputs": [],
   "source": [
    "goemotion_fear_df = pd.concat([fear_df, non_fear_df], ignore_index=True)"
   ]
  },
  {
   "cell_type": "code",
   "execution_count": null,
   "id": "5883f77b-f2a7-4614-bdbd-e8eff68421de",
   "metadata": {},
   "outputs": [],
   "source": [
    "goemotion_fear_df.to_csv('twitter_data/custom_data/geoemotion_fear_group.csv')"
   ]
  }
 ],
 "metadata": {
  "kernelspec": {
   "display_name": "Python (ta)",
   "language": "python",
   "name": "ta"
  },
  "language_info": {
   "codemirror_mode": {
    "name": "ipython",
    "version": 3
   },
   "file_extension": ".py",
   "mimetype": "text/x-python",
   "name": "python",
   "nbconvert_exporter": "python",
   "pygments_lexer": "ipython3",
   "version": "3.8.18"
  }
 },
 "nbformat": 4,
 "nbformat_minor": 5
}
