{
 "cells": [
  {
   "cell_type": "code",
   "execution_count": 49,
   "id": "dfcd1771-0e42-494e-8c9a-d0d67fba996c",
   "metadata": {},
   "outputs": [],
   "source": [
    "import os\n",
    "import pandas as pd"
   ]
  },
  {
   "cell_type": "markdown",
   "id": "87071882-db76-4eb3-baa0-41cb8f6e9fc6",
   "metadata": {},
   "source": [
    "## SemEval 2017 Dataframe"
   ]
  },
  {
   "cell_type": "code",
   "execution_count": 50,
   "id": "9fbfc90a-2d7a-408d-a159-01847cab2295",
   "metadata": {},
   "outputs": [],
   "source": [
    "def map_label(label):\n",
    "    if label == \"negative\":\n",
    "        return 0\n",
    "    elif label == \"neutral\":\n",
    "        return 1\n",
    "    elif label == \"positive\":\n",
    "        return 2\n",
    "    else:\n",
    "        return None"
   ]
  },
  {
   "cell_type": "code",
   "execution_count": 51,
   "id": "92002d34-8d30-4637-a18b-58bbdd2aec76",
   "metadata": {},
   "outputs": [],
   "source": [
    "def process_file(file_path):\n",
    "    tweets = []\n",
    "    labels = []\n",
    "    with open(file_path, 'r', encoding='utf-8') as file:\n",
    "        for line in file:\n",
    "            parts = line.strip().split('\\t')\n",
    "            if len(parts) == 3:\n",
    "                tweet_id, label, tweet = parts\n",
    "                mapped_label = map_label(label)\n",
    "                if mapped_label is not None:\n",
    "                    tweets.append(tweet)\n",
    "                    labels.append(mapped_label)\n",
    "    return pd.DataFrame({'Tweet': tweets, 'label': labels})"
   ]
  },
  {
   "cell_type": "code",
   "execution_count": 52,
   "id": "0238bd21-7bac-4b6b-931f-5410955b2992",
   "metadata": {},
   "outputs": [],
   "source": [
    "input_dir = 'twitter_data/custom_data/Semeval_2017/'\n",
    "\n",
    "semeval2017_data = pd.DataFrame()"
   ]
  },
  {
   "cell_type": "code",
   "execution_count": 53,
   "id": "9814594a-687b-404b-b37b-3a27713901ff",
   "metadata": {},
   "outputs": [],
   "source": [
    "for file_name in os.listdir(input_dir):\n",
    "    if file_name.endswith('.txt'):\n",
    "        file_path = os.path.join(input_dir, file_name)\n",
    "        file_data = process_file(file_path)\n",
    "        semeval2017_data = pd.concat([semeval2017_data, file_data], ignore_index=True)"
   ]
  },
  {
   "cell_type": "markdown",
   "id": "96b34837-f378-47e8-95f9-fe4d608760be",
   "metadata": {},
   "source": [
    "## SemEval 2018 Dataframe"
   ]
  },
  {
   "cell_type": "code",
   "execution_count": 54,
   "id": "4d32b341-b93b-4f63-950d-bf846ba94c3e",
   "metadata": {},
   "outputs": [],
   "source": [
    "input_dir = 'twitter_data/custom_data/Semeval_2018/'"
   ]
  },
  {
   "cell_type": "code",
   "execution_count": 55,
   "id": "6a8e2496-1510-42a9-8235-4f0de440af35",
   "metadata": {},
   "outputs": [],
   "source": [
    "semeval2018_data = pd.DataFrame()"
   ]
  },
  {
   "cell_type": "code",
   "execution_count": 56,
   "id": "dc3dba28-e4f0-467c-ad1f-6e41d9dfe5fa",
   "metadata": {},
   "outputs": [],
   "source": [
    "def map_emotion_to_sentiment(row):\n",
    "    positive_emotions = ['joy', 'love', 'optimism', 'trust', 'anticipation']\n",
    "    negative_emotions = ['anger', 'disgust', 'fear', 'pessimism', 'sadness']\n",
    "    neutral_emotions = ['surprise']\n",
    "\n",
    "    positive = any(row[emotion] == 1 for emotion in positive_emotions)\n",
    "    negative = any(row[emotion] == 1 for emotion in negative_emotions)\n",
    "    neutral = any(row[emotion] == 1 for emotion in neutral_emotions)\n",
    "\n",
    "    if positive and negative:\n",
    "        return 1\n",
    "    elif positive:\n",
    "        return 2\n",
    "    elif negative:\n",
    "        return 0\n",
    "    elif neutral:\n",
    "        return 1\n",
    "    else:\n",
    "        return 1"
   ]
  },
  {
   "cell_type": "code",
   "execution_count": 57,
   "id": "dd832ee6-c647-4586-a3af-d9fa17b91904",
   "metadata": {},
   "outputs": [],
   "source": [
    "for file_name in os.listdir(input_dir):\n",
    "    if file_name.endswith('.txt'):\n",
    "        file_path = os.path.join(input_dir, file_name)\n",
    "\n",
    "        file_data = pd.read_csv(file_path, sep='\\t')\n",
    "\n",
    "        semeval2018_data = pd.concat([semeval2018_data, file_data], ignore_index=True)"
   ]
  },
  {
   "cell_type": "code",
   "execution_count": 58,
   "id": "9165914b-3829-42de-bee6-c3fdcaabc489",
   "metadata": {},
   "outputs": [],
   "source": [
    "semeval2018_data['label'] = semeval2018_data.apply(map_emotion_to_sentiment, axis=1)"
   ]
  },
  {
   "cell_type": "code",
   "execution_count": 59,
   "id": "da0a5f4d-5cc5-4c19-a87f-b26cd90eef4e",
   "metadata": {},
   "outputs": [
    {
     "data": {
      "text/plain": [
       "3614"
      ]
     },
     "execution_count": 59,
     "metadata": {},
     "output_type": "execute_result"
    }
   ],
   "source": [
    "len(semeval2018_data[semeval2018_data['label'] == 0])"
   ]
  },
  {
   "cell_type": "code",
   "execution_count": 60,
   "id": "43dd29dc-44e8-45b5-8515-eb70b85a4d07",
   "metadata": {},
   "outputs": [
    {
     "data": {
      "text/html": [
       "<div>\n",
       "<style scoped>\n",
       "    .dataframe tbody tr th:only-of-type {\n",
       "        vertical-align: middle;\n",
       "    }\n",
       "\n",
       "    .dataframe tbody tr th {\n",
       "        vertical-align: top;\n",
       "    }\n",
       "\n",
       "    .dataframe thead th {\n",
       "        text-align: right;\n",
       "    }\n",
       "</style>\n",
       "<table border=\"1\" class=\"dataframe\">\n",
       "  <thead>\n",
       "    <tr style=\"text-align: right;\">\n",
       "      <th></th>\n",
       "      <th>ID</th>\n",
       "      <th>Tweet</th>\n",
       "      <th>anger</th>\n",
       "      <th>anticipation</th>\n",
       "      <th>disgust</th>\n",
       "      <th>fear</th>\n",
       "      <th>joy</th>\n",
       "      <th>love</th>\n",
       "      <th>optimism</th>\n",
       "      <th>pessimism</th>\n",
       "      <th>sadness</th>\n",
       "      <th>surprise</th>\n",
       "      <th>trust</th>\n",
       "      <th>label</th>\n",
       "    </tr>\n",
       "  </thead>\n",
       "  <tbody>\n",
       "    <tr>\n",
       "      <th>0</th>\n",
       "      <td>2017-En-21441</td>\n",
       "      <td>“Worry is a down payment on a problem you may ...</td>\n",
       "      <td>0</td>\n",
       "      <td>1</td>\n",
       "      <td>0</td>\n",
       "      <td>0</td>\n",
       "      <td>0</td>\n",
       "      <td>0</td>\n",
       "      <td>1</td>\n",
       "      <td>0</td>\n",
       "      <td>0</td>\n",
       "      <td>0</td>\n",
       "      <td>1</td>\n",
       "      <td>2</td>\n",
       "    </tr>\n",
       "    <tr>\n",
       "      <th>1</th>\n",
       "      <td>2017-En-31535</td>\n",
       "      <td>Whatever you decide to do make sure it makes y...</td>\n",
       "      <td>0</td>\n",
       "      <td>0</td>\n",
       "      <td>0</td>\n",
       "      <td>0</td>\n",
       "      <td>1</td>\n",
       "      <td>1</td>\n",
       "      <td>1</td>\n",
       "      <td>0</td>\n",
       "      <td>0</td>\n",
       "      <td>0</td>\n",
       "      <td>0</td>\n",
       "      <td>2</td>\n",
       "    </tr>\n",
       "    <tr>\n",
       "      <th>2</th>\n",
       "      <td>2017-En-21068</td>\n",
       "      <td>@Max_Kellerman  it also helps that the majorit...</td>\n",
       "      <td>1</td>\n",
       "      <td>0</td>\n",
       "      <td>1</td>\n",
       "      <td>0</td>\n",
       "      <td>1</td>\n",
       "      <td>0</td>\n",
       "      <td>1</td>\n",
       "      <td>0</td>\n",
       "      <td>0</td>\n",
       "      <td>0</td>\n",
       "      <td>0</td>\n",
       "      <td>1</td>\n",
       "    </tr>\n",
       "    <tr>\n",
       "      <th>3</th>\n",
       "      <td>2017-En-31436</td>\n",
       "      <td>Accept the challenges so that you can literall...</td>\n",
       "      <td>0</td>\n",
       "      <td>0</td>\n",
       "      <td>0</td>\n",
       "      <td>0</td>\n",
       "      <td>1</td>\n",
       "      <td>0</td>\n",
       "      <td>1</td>\n",
       "      <td>0</td>\n",
       "      <td>0</td>\n",
       "      <td>0</td>\n",
       "      <td>0</td>\n",
       "      <td>2</td>\n",
       "    </tr>\n",
       "    <tr>\n",
       "      <th>4</th>\n",
       "      <td>2017-En-22195</td>\n",
       "      <td>My roommate: it's okay that we can't spell bec...</td>\n",
       "      <td>1</td>\n",
       "      <td>0</td>\n",
       "      <td>1</td>\n",
       "      <td>0</td>\n",
       "      <td>0</td>\n",
       "      <td>0</td>\n",
       "      <td>0</td>\n",
       "      <td>0</td>\n",
       "      <td>0</td>\n",
       "      <td>0</td>\n",
       "      <td>0</td>\n",
       "      <td>0</td>\n",
       "    </tr>\n",
       "    <tr>\n",
       "      <th>...</th>\n",
       "      <td>...</td>\n",
       "      <td>...</td>\n",
       "      <td>...</td>\n",
       "      <td>...</td>\n",
       "      <td>...</td>\n",
       "      <td>...</td>\n",
       "      <td>...</td>\n",
       "      <td>...</td>\n",
       "      <td>...</td>\n",
       "      <td>...</td>\n",
       "      <td>...</td>\n",
       "      <td>...</td>\n",
       "      <td>...</td>\n",
       "      <td>...</td>\n",
       "    </tr>\n",
       "    <tr>\n",
       "      <th>7719</th>\n",
       "      <td>2018-En-01993</td>\n",
       "      <td>@BadHombreNPS @SecretaryPerry If this didn't m...</td>\n",
       "      <td>1</td>\n",
       "      <td>0</td>\n",
       "      <td>1</td>\n",
       "      <td>0</td>\n",
       "      <td>0</td>\n",
       "      <td>0</td>\n",
       "      <td>0</td>\n",
       "      <td>0</td>\n",
       "      <td>0</td>\n",
       "      <td>0</td>\n",
       "      <td>0</td>\n",
       "      <td>0</td>\n",
       "    </tr>\n",
       "    <tr>\n",
       "      <th>7720</th>\n",
       "      <td>2018-En-01784</td>\n",
       "      <td>Excited to watch #stateoforigin tonight! Come ...</td>\n",
       "      <td>0</td>\n",
       "      <td>0</td>\n",
       "      <td>0</td>\n",
       "      <td>0</td>\n",
       "      <td>1</td>\n",
       "      <td>0</td>\n",
       "      <td>1</td>\n",
       "      <td>0</td>\n",
       "      <td>0</td>\n",
       "      <td>0</td>\n",
       "      <td>0</td>\n",
       "      <td>2</td>\n",
       "    </tr>\n",
       "    <tr>\n",
       "      <th>7721</th>\n",
       "      <td>2018-En-04047</td>\n",
       "      <td>Blah blah blah Kyrie, IT, etc. @CJC9BOSS leavi...</td>\n",
       "      <td>1</td>\n",
       "      <td>0</td>\n",
       "      <td>1</td>\n",
       "      <td>0</td>\n",
       "      <td>0</td>\n",
       "      <td>0</td>\n",
       "      <td>0</td>\n",
       "      <td>0</td>\n",
       "      <td>1</td>\n",
       "      <td>0</td>\n",
       "      <td>0</td>\n",
       "      <td>0</td>\n",
       "    </tr>\n",
       "    <tr>\n",
       "      <th>7722</th>\n",
       "      <td>2018-En-03041</td>\n",
       "      <td>#ThingsIveLearned The wise #shepherd never tru...</td>\n",
       "      <td>0</td>\n",
       "      <td>0</td>\n",
       "      <td>0</td>\n",
       "      <td>0</td>\n",
       "      <td>0</td>\n",
       "      <td>0</td>\n",
       "      <td>0</td>\n",
       "      <td>0</td>\n",
       "      <td>0</td>\n",
       "      <td>0</td>\n",
       "      <td>0</td>\n",
       "      <td>1</td>\n",
       "    </tr>\n",
       "    <tr>\n",
       "      <th>7723</th>\n",
       "      <td>2018-En-03386</td>\n",
       "      <td>I am really flattered and happy to hear those ...</td>\n",
       "      <td>0</td>\n",
       "      <td>0</td>\n",
       "      <td>0</td>\n",
       "      <td>0</td>\n",
       "      <td>1</td>\n",
       "      <td>0</td>\n",
       "      <td>1</td>\n",
       "      <td>0</td>\n",
       "      <td>0</td>\n",
       "      <td>0</td>\n",
       "      <td>0</td>\n",
       "      <td>2</td>\n",
       "    </tr>\n",
       "  </tbody>\n",
       "</table>\n",
       "<p>7724 rows × 14 columns</p>\n",
       "</div>"
      ],
      "text/plain": [
       "                 ID                                              Tweet  anger  \\\n",
       "0     2017-En-21441  “Worry is a down payment on a problem you may ...      0   \n",
       "1     2017-En-31535  Whatever you decide to do make sure it makes y...      0   \n",
       "2     2017-En-21068  @Max_Kellerman  it also helps that the majorit...      1   \n",
       "3     2017-En-31436  Accept the challenges so that you can literall...      0   \n",
       "4     2017-En-22195  My roommate: it's okay that we can't spell bec...      1   \n",
       "...             ...                                                ...    ...   \n",
       "7719  2018-En-01993  @BadHombreNPS @SecretaryPerry If this didn't m...      1   \n",
       "7720  2018-En-01784  Excited to watch #stateoforigin tonight! Come ...      0   \n",
       "7721  2018-En-04047  Blah blah blah Kyrie, IT, etc. @CJC9BOSS leavi...      1   \n",
       "7722  2018-En-03041  #ThingsIveLearned The wise #shepherd never tru...      0   \n",
       "7723  2018-En-03386  I am really flattered and happy to hear those ...      0   \n",
       "\n",
       "      anticipation  disgust  fear  joy  love  optimism  pessimism  sadness  \\\n",
       "0                1        0     0    0     0         1          0        0   \n",
       "1                0        0     0    1     1         1          0        0   \n",
       "2                0        1     0    1     0         1          0        0   \n",
       "3                0        0     0    1     0         1          0        0   \n",
       "4                0        1     0    0     0         0          0        0   \n",
       "...            ...      ...   ...  ...   ...       ...        ...      ...   \n",
       "7719             0        1     0    0     0         0          0        0   \n",
       "7720             0        0     0    1     0         1          0        0   \n",
       "7721             0        1     0    0     0         0          0        1   \n",
       "7722             0        0     0    0     0         0          0        0   \n",
       "7723             0        0     0    1     0         1          0        0   \n",
       "\n",
       "      surprise  trust  label  \n",
       "0            0      1      2  \n",
       "1            0      0      2  \n",
       "2            0      0      1  \n",
       "3            0      0      2  \n",
       "4            0      0      0  \n",
       "...        ...    ...    ...  \n",
       "7719         0      0      0  \n",
       "7720         0      0      2  \n",
       "7721         0      0      0  \n",
       "7722         0      0      1  \n",
       "7723         0      0      2  \n",
       "\n",
       "[7724 rows x 14 columns]"
      ]
     },
     "execution_count": 60,
     "metadata": {},
     "output_type": "execute_result"
    }
   ],
   "source": [
    "semeval2018_data"
   ]
  },
  {
   "cell_type": "markdown",
   "id": "f2158021-e134-40b4-89de-f4aa2eeae55b",
   "metadata": {},
   "source": [
    "## SenWave Dataset"
   ]
  },
  {
   "cell_type": "code",
   "execution_count": 61,
   "id": "faf32a7f-3135-49a4-80a5-0a69d2878ff3",
   "metadata": {},
   "outputs": [],
   "source": [
    "# Import SenWave Dataset\n",
    "# Convert the labels to positive, neutral, or negative\n",
    "# Create new tweets by changing various keywords with synonyms such as COVID-19 with Corona Virus"
   ]
  },
  {
   "cell_type": "code",
   "execution_count": 62,
   "id": "893c42e4-a500-479d-9c39-112afa1d5804",
   "metadata": {},
   "outputs": [],
   "source": [
    "def map_emotion_to_sentiment_senwave(row):\n",
    "    positive_emotions = ['Optimistic', 'Thankful', 'Empathetic']\n",
    "    negative_emotions = ['Pessimistic', 'Anxious', 'Sad', 'Annoyed', 'Denial']\n",
    "    neutral_emotions = ['Official report', 'Joking']\n",
    "\n",
    "    positive = any(row[emotion] == 1 for emotion in positive_emotions)\n",
    "    negative = any(row[emotion] == 1 for emotion in negative_emotions)\n",
    "    neutral = any(row[emotion] == 1 for emotion in neutral_emotions)\n",
    "\n",
    "    if positive and negative:\n",
    "        return 1\n",
    "    elif positive:\n",
    "        return 2\n",
    "    elif negative:\n",
    "        return 0\n",
    "    elif neutral:\n",
    "        return 1\n",
    "    else:\n",
    "        return 1"
   ]
  },
  {
   "cell_type": "code",
   "execution_count": 63,
   "id": "bc2f496b-d4b5-4550-a82d-5f8c8f6c81c9",
   "metadata": {},
   "outputs": [],
   "source": [
    "input_filepath = 'twitter_data/custom_data/SenWaveDataset/labeledEn.csv'"
   ]
  },
  {
   "cell_type": "code",
   "execution_count": 64,
   "id": "b65e916f-dd4c-4cb2-b339-8d8b73f16135",
   "metadata": {},
   "outputs": [],
   "source": [
    "senwave_df = pd.read_csv(input_filepath)"
   ]
  },
  {
   "cell_type": "code",
   "execution_count": 65,
   "id": "5d565ad4-772b-4ca2-8bb1-b1cc679b77a1",
   "metadata": {},
   "outputs": [],
   "source": [
    "senwave_df['label'] = senwave_df.apply(map_emotion_to_sentiment_senwave, axis=1)"
   ]
  },
  {
   "cell_type": "markdown",
   "id": "e61f4941-7b89-453f-a41a-6a34bf2be23f",
   "metadata": {},
   "source": [
    "## Combining Datasets"
   ]
  },
  {
   "cell_type": "code",
   "execution_count": 66,
   "id": "10003b16-5d9e-4338-b943-dfff6b9743ae",
   "metadata": {},
   "outputs": [],
   "source": [
    "semeval2017_pruned_data = semeval2017_data[['Tweet','label']].copy()\n",
    "semeval2018_pruned_data = semeval2018_data[['Tweet','label']].copy()\n",
    "senwave_pruned_data = senwave_df[['Tweet','label']].copy()"
   ]
  },
  {
   "cell_type": "code",
   "execution_count": 71,
   "id": "d5a1ef56-0f50-481a-a010-0e4e5eb6e9fc",
   "metadata": {},
   "outputs": [
    {
     "data": {
      "text/plain": [
       "19903"
      ]
     },
     "execution_count": 71,
     "metadata": {},
     "output_type": "execute_result"
    }
   ],
   "source": [
    "len(semeval2017_pruned_data[semeval2017_pruned_data['label'] == 2])"
   ]
  },
  {
   "cell_type": "markdown",
   "id": "2484cff6-3be5-46c7-99b6-e46c0981ff68",
   "metadata": {},
   "source": [
    "## Individual Emotion Dataset"
   ]
  },
  {
   "cell_type": "code",
   "execution_count": null,
   "id": "6e7ca05e-eb84-43f9-b1cb-31f1273a9b6e",
   "metadata": {},
   "outputs": [],
   "source": [
    "# Combine SenWave and Semeval 2018 dataset to create individual emotion datasets for optimism, or sadness\n",
    "# These datasets could also be padded with extra data as well using the synonym changes\n",
    "# These datasets should just be 0 or 1, false or true respectively for each emotion"
   ]
  }
 ],
 "metadata": {
  "kernelspec": {
   "display_name": "Python (ta)",
   "language": "python",
   "name": "ta"
  },
  "language_info": {
   "codemirror_mode": {
    "name": "ipython",
    "version": 3
   },
   "file_extension": ".py",
   "mimetype": "text/x-python",
   "name": "python",
   "nbconvert_exporter": "python",
   "pygments_lexer": "ipython3",
   "version": "3.8.18"
  }
 },
 "nbformat": 4,
 "nbformat_minor": 5
}
