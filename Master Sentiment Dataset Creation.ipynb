{
 "cells": [
  {
   "cell_type": "code",
   "execution_count": 359,
   "id": "dfcd1771-0e42-494e-8c9a-d0d67fba996c",
   "metadata": {},
   "outputs": [
    {
     "name": "stdout",
     "output_type": "stream",
     "text": [
      "The history saving thread hit an unexpected error (OperationalError('attempt to write a readonly database')).History will not be written to the database.\n"
     ]
    }
   ],
   "source": [
    "import os\n",
    "import pandas as pd\n",
    "\n",
    "# Needed for word swapping\n",
    "import nltk\n",
    "from nltk.corpus import wordnet\n",
    "from gensim.models import KeyedVectors\n",
    "import random\n",
    "from sentence_transformers import SentenceTransformer, util"
   ]
  },
  {
   "cell_type": "markdown",
   "id": "87071882-db76-4eb3-baa0-41cb8f6e9fc6",
   "metadata": {},
   "source": [
    "## SemEval 2017 Dataframe"
   ]
  },
  {
   "cell_type": "code",
   "execution_count": 360,
   "id": "9fbfc90a-2d7a-408d-a159-01847cab2295",
   "metadata": {},
   "outputs": [],
   "source": [
    "def map_label(label):\n",
    "    if label == \"negative\":\n",
    "        return 0\n",
    "    elif label == \"neutral\":\n",
    "        return 1\n",
    "    elif label == \"positive\":\n",
    "        return 2\n",
    "    else:\n",
    "        return None"
   ]
  },
  {
   "cell_type": "code",
   "execution_count": 361,
   "id": "92002d34-8d30-4637-a18b-58bbdd2aec76",
   "metadata": {},
   "outputs": [],
   "source": [
    "def process_file(file_path):\n",
    "    tweets = []\n",
    "    labels = []\n",
    "    with open(file_path, 'r', encoding='utf-8') as file:\n",
    "        for line in file:\n",
    "            parts = line.strip().split('\\t')\n",
    "            if len(parts) == 3:\n",
    "                tweet_id, label, tweet = parts\n",
    "                mapped_label = map_label(label)\n",
    "                if mapped_label is not None:\n",
    "                    tweets.append(tweet)\n",
    "                    labels.append(mapped_label)\n",
    "    return pd.DataFrame({'Tweet': tweets, 'label': labels})"
   ]
  },
  {
   "cell_type": "code",
   "execution_count": 362,
   "id": "0238bd21-7bac-4b6b-931f-5410955b2992",
   "metadata": {},
   "outputs": [],
   "source": [
    "input_dir = 'twitter_data/custom_data/Semeval_2017/'\n",
    "\n",
    "semeval2017_data = pd.DataFrame()"
   ]
  },
  {
   "cell_type": "code",
   "execution_count": 363,
   "id": "9814594a-687b-404b-b37b-3a27713901ff",
   "metadata": {},
   "outputs": [],
   "source": [
    "for file_name in os.listdir(input_dir):\n",
    "    if file_name.endswith('.txt'):\n",
    "        file_path = os.path.join(input_dir, file_name)\n",
    "        file_data = process_file(file_path)\n",
    "        semeval2017_data = pd.concat([semeval2017_data, file_data], ignore_index=True)"
   ]
  },
  {
   "cell_type": "markdown",
   "id": "96b34837-f378-47e8-95f9-fe4d608760be",
   "metadata": {},
   "source": [
    "## SemEval 2018 Dataframe"
   ]
  },
  {
   "cell_type": "code",
   "execution_count": 364,
   "id": "4d32b341-b93b-4f63-950d-bf846ba94c3e",
   "metadata": {},
   "outputs": [],
   "source": [
    "input_dir = 'twitter_data/custom_data/Semeval_2018/'"
   ]
  },
  {
   "cell_type": "code",
   "execution_count": 365,
   "id": "6a8e2496-1510-42a9-8235-4f0de440af35",
   "metadata": {},
   "outputs": [],
   "source": [
    "semeval2018_data = pd.DataFrame()"
   ]
  },
  {
   "cell_type": "code",
   "execution_count": 366,
   "id": "dc3dba28-e4f0-467c-ad1f-6e41d9dfe5fa",
   "metadata": {},
   "outputs": [],
   "source": [
    "def map_emotion_to_sentiment(row):\n",
    "    positive_emotions = ['joy', 'love', 'optimism', 'trust', 'anticipation']\n",
    "    negative_emotions = ['anger', 'disgust', 'fear', 'pessimism', 'sadness']\n",
    "    neutral_emotions = ['surprise']\n",
    "\n",
    "    positive = any(row[emotion] == 1 for emotion in positive_emotions)\n",
    "    negative = any(row[emotion] == 1 for emotion in negative_emotions)\n",
    "    neutral = any(row[emotion] == 1 for emotion in neutral_emotions)\n",
    "\n",
    "    if positive and negative:\n",
    "        return 1\n",
    "    elif positive:\n",
    "        return 2\n",
    "    elif negative:\n",
    "        return 0\n",
    "    elif neutral:\n",
    "        return 1\n",
    "    else:\n",
    "        return 1"
   ]
  },
  {
   "cell_type": "code",
   "execution_count": 367,
   "id": "dd832ee6-c647-4586-a3af-d9fa17b91904",
   "metadata": {},
   "outputs": [],
   "source": [
    "for file_name in os.listdir(input_dir):\n",
    "    if file_name.endswith('.txt'):\n",
    "        file_path = os.path.join(input_dir, file_name)\n",
    "\n",
    "        file_data = pd.read_csv(file_path, sep='\\t')\n",
    "\n",
    "        semeval2018_data = pd.concat([semeval2018_data, file_data], ignore_index=True)"
   ]
  },
  {
   "cell_type": "code",
   "execution_count": 368,
   "id": "9165914b-3829-42de-bee6-c3fdcaabc489",
   "metadata": {},
   "outputs": [],
   "source": [
    "semeval2018_data['label'] = semeval2018_data.apply(map_emotion_to_sentiment, axis=1)"
   ]
  },
  {
   "cell_type": "markdown",
   "id": "f2158021-e134-40b4-89de-f4aa2eeae55b",
   "metadata": {},
   "source": [
    "## SenWave Dataset"
   ]
  },
  {
   "cell_type": "code",
   "execution_count": 371,
   "id": "faf32a7f-3135-49a4-80a5-0a69d2878ff3",
   "metadata": {},
   "outputs": [],
   "source": [
    "# Import SenWave Dataset\n",
    "# Convert the labels to positive, neutral, or negative\n",
    "# Create new tweets by changing various keywords with synonyms such as COVID-19 with Corona Virus"
   ]
  },
  {
   "cell_type": "code",
   "execution_count": 372,
   "id": "893c42e4-a500-479d-9c39-112afa1d5804",
   "metadata": {},
   "outputs": [],
   "source": [
    "def map_emotion_to_sentiment_senwave(row):\n",
    "    positive_emotions = ['Optimistic', 'Thankful', 'Empathetic']\n",
    "    negative_emotions = ['Pessimistic', 'Anxious', 'Sad', 'Annoyed', 'Denial']\n",
    "    neutral_emotions = ['Official report', 'Joking']\n",
    "\n",
    "    positive = any(row[emotion] == 1 for emotion in positive_emotions)\n",
    "    negative = any(row[emotion] == 1 for emotion in negative_emotions)\n",
    "    neutral = any(row[emotion] == 1 for emotion in neutral_emotions)\n",
    "\n",
    "    if positive and negative:\n",
    "        return 1\n",
    "    elif positive:\n",
    "        return 2\n",
    "    elif negative:\n",
    "        return 0\n",
    "    elif neutral:\n",
    "        return 1\n",
    "    else:\n",
    "        return 1"
   ]
  },
  {
   "cell_type": "code",
   "execution_count": 373,
   "id": "bc2f496b-d4b5-4550-a82d-5f8c8f6c81c9",
   "metadata": {},
   "outputs": [],
   "source": [
    "input_filepath = 'twitter_data/custom_data/SenWaveDataset/labeledEn.csv'"
   ]
  },
  {
   "cell_type": "code",
   "execution_count": 374,
   "id": "b65e916f-dd4c-4cb2-b339-8d8b73f16135",
   "metadata": {},
   "outputs": [],
   "source": [
    "senwave_df = pd.read_csv(input_filepath)"
   ]
  },
  {
   "cell_type": "code",
   "execution_count": 375,
   "id": "5d565ad4-772b-4ca2-8bb1-b1cc679b77a1",
   "metadata": {},
   "outputs": [],
   "source": [
    "senwave_df['label'] = senwave_df.apply(map_emotion_to_sentiment_senwave, axis=1)"
   ]
  },
  {
   "cell_type": "markdown",
   "id": "e61f4941-7b89-453f-a41a-6a34bf2be23f",
   "metadata": {},
   "source": [
    "## Combining Datasets"
   ]
  },
  {
   "cell_type": "code",
   "execution_count": 383,
   "id": "10003b16-5d9e-4338-b943-dfff6b9743ae",
   "metadata": {},
   "outputs": [],
   "source": [
    "semeval2017_pruned_data = semeval2017_data[['Tweet','label']].copy()\n",
    "semeval2018_pruned_data = semeval2018_data[['Tweet','label']].copy()\n",
    "senwave_pruned_data = senwave_df[['Tweet','label']].copy()"
   ]
  },
  {
   "cell_type": "code",
   "execution_count": 384,
   "id": "1723b5a8-5ccb-40e4-91e8-86c4d7de1d22",
   "metadata": {},
   "outputs": [],
   "source": [
    "semeval2017_pruned_data.to_csv('twitter_data/custom_data/semeval_2017.csv')"
   ]
  },
  {
   "cell_type": "code",
   "execution_count": 385,
   "id": "d5a1ef56-0f50-481a-a010-0e4e5eb6e9fc",
   "metadata": {},
   "outputs": [],
   "source": [
    "full_covid_sentiment_df = pd.concat([semeval2017_pruned_data, semeval2018_pruned_data, senwave_pruned_data], ignore_index=True)"
   ]
  },
  {
   "cell_type": "code",
   "execution_count": 386,
   "id": "402092bd-a01e-4b15-b192-ef4122a3a714",
   "metadata": {},
   "outputs": [],
   "source": [
    "full_covid_sentiment_df.to_csv('twitter_data/custom_data/full_covid_sent.csv')"
   ]
  },
  {
   "cell_type": "markdown",
   "id": "c206372b-6c55-48dc-93f2-e66d18686d24",
   "metadata": {},
   "source": [
    "## Building the Neutral only Dataset"
   ]
  },
  {
   "cell_type": "code",
   "execution_count": 424,
   "id": "93d7d64c-9cc0-4e90-a52d-0898b97a6de3",
   "metadata": {},
   "outputs": [],
   "source": [
    "full_covid_sentiment_neutral_df = full_covid_sentiment_df.copy()\n",
    "full_covid_sentiment_neutral_df['label'] = full_covid_sentiment_neutral_df['label'].replace(2, 0)"
   ]
  },
  {
   "cell_type": "code",
   "execution_count": 427,
   "id": "e3dffbe1-9d0e-4665-a4a6-5c20a712581f",
   "metadata": {},
   "outputs": [],
   "source": [
    "full_covid_sentiment_neutral_df.to_csv('twitter_data/custom_data/full_covid_sentiment_neutral_dataset.csv')"
   ]
  },
  {
   "cell_type": "markdown",
   "id": "7680f3f3-08dc-4a72-9058-c1b1e40c6b7e",
   "metadata": {},
   "source": [
    "## Creating the Individual Sentiment Datasets"
   ]
  },
  {
   "cell_type": "code",
   "execution_count": 387,
   "id": "04d1ec63-08a5-4011-be1b-806fb50502ac",
   "metadata": {},
   "outputs": [],
   "source": [
    "# Creating Optimism Dataset\n",
    "senwave_optimism = senwave_df[senwave_df['Optimistic'] == 1]\n",
    "senwave_non_optimism = senwave_df[senwave_df['Optimistic'] != 1]"
   ]
  },
  {
   "cell_type": "code",
   "execution_count": 388,
   "id": "85cb9b1d-ec22-4d01-8359-6b12ac0661b8",
   "metadata": {},
   "outputs": [],
   "source": [
    "senwave_non_optimism_len = len(senwave_optimism) * 2\n",
    "senwave_non_optimism = senwave_non_optimism.sample(n=senwave_non_optimism_len, random_state=23)"
   ]
  },
  {
   "cell_type": "code",
   "execution_count": 389,
   "id": "52097147-32ae-4bbf-bac4-da1be28f4ce0",
   "metadata": {},
   "outputs": [],
   "source": [
    "senwave_optimism_dataset = pd.concat([senwave_optimism, senwave_non_optimism], ignore_index=True)"
   ]
  },
  {
   "cell_type": "code",
   "execution_count": 390,
   "id": "1f05f56a-194f-4f32-a109-bdb8cc163e6f",
   "metadata": {},
   "outputs": [],
   "source": [
    "senwave_optimism_dataset = senwave_optimism_dataset[['Tweet', 'Optimistic']]\n",
    "senwave_optimism_dataset.rename(columns={'Optimistic': 'label'}, inplace=True)"
   ]
  },
  {
   "cell_type": "code",
   "execution_count": 391,
   "id": "fd0ab5d1-3e0b-4704-ac03-6a2e8c23798e",
   "metadata": {},
   "outputs": [],
   "source": [
    "# Creating Pessimistic Dataset\n",
    "senwave_pessimistic = senwave_df[senwave_df['Pessimistic'] == 1]\n",
    "senwave_non_pessimistic = senwave_df[senwave_df['Pessimistic'] != 1]"
   ]
  },
  {
   "cell_type": "code",
   "execution_count": 392,
   "id": "3c9c3fff-3816-4086-b42b-e29e688f2730",
   "metadata": {},
   "outputs": [],
   "source": [
    "senwave_non_pessimistic_len = len(senwave_pessimistic) * 2\n",
    "senwave_non_pessimistic = senwave_non_pessimistic.sample(n=senwave_non_pessimistic_len, random_state=23)"
   ]
  },
  {
   "cell_type": "code",
   "execution_count": 393,
   "id": "0676c193-c89f-42ae-8be8-dfaa8f1df7bd",
   "metadata": {},
   "outputs": [],
   "source": [
    "senwave_pessimistic_dataset = pd.concat([senwave_pessimistic, senwave_non_pessimistic], ignore_index=True)"
   ]
  },
  {
   "cell_type": "code",
   "execution_count": 394,
   "id": "949ed685-3c4f-4173-805e-e508124cd9c8",
   "metadata": {},
   "outputs": [],
   "source": [
    "senwave_pessimistic_dataset = senwave_pessimistic_dataset[['Tweet', 'Pessimistic']]\n",
    "senwave_pessimistic_dataset.rename(columns={'Pessimistic': 'label'}, inplace=True)"
   ]
  },
  {
   "cell_type": "code",
   "execution_count": 395,
   "id": "2f2d636c-5ff1-4764-9716-047de962ebee",
   "metadata": {},
   "outputs": [],
   "source": [
    "# Creating Sad Dataset\n",
    "senwave_sad = senwave_df[senwave_df['Sad'] == 1]\n",
    "senwave_non_sad = senwave_df[senwave_df['Sad'] != 1]"
   ]
  },
  {
   "cell_type": "code",
   "execution_count": 396,
   "id": "33bb7e26-cad2-4e48-a8b3-f47eb7c5583a",
   "metadata": {},
   "outputs": [],
   "source": [
    "senwave_non_sad_len = round(len(senwave_sad) * 2)\n",
    "senwave_non_sad = senwave_non_sad.sample(n=senwave_non_sad_len, random_state=23)"
   ]
  },
  {
   "cell_type": "code",
   "execution_count": 397,
   "id": "2d8386b2-b7f2-4ef2-bfd8-cdfdf1f389c9",
   "metadata": {},
   "outputs": [],
   "source": [
    "senwave_sad_dataset = pd.concat([senwave_sad, senwave_non_sad], ignore_index=True)"
   ]
  },
  {
   "cell_type": "code",
   "execution_count": 398,
   "id": "ce741098-fdd9-4e33-a753-75d121c124fa",
   "metadata": {},
   "outputs": [],
   "source": [
    "senwave_sad_dataset = senwave_sad_dataset[['Tweet', 'Sad']]\n",
    "senwave_sad_dataset.rename(columns={'Sad': 'label'}, inplace=True)"
   ]
  },
  {
   "cell_type": "code",
   "execution_count": 399,
   "id": "f98a3e41-7878-45d0-b736-21ea3db085d4",
   "metadata": {},
   "outputs": [],
   "source": [
    "# Creating Annoyed Dataset\n",
    "senwave_annoyed = senwave_df[senwave_df['Annoyed'] == 1]\n",
    "senwave_non_annoyed = senwave_df[senwave_df['Annoyed'] != 1]"
   ]
  },
  {
   "cell_type": "code",
   "execution_count": 400,
   "id": "5abfaa7c-e6f9-4167-99ca-12ac1ba7b4ba",
   "metadata": {},
   "outputs": [],
   "source": [
    "senwave_non_annoyed_len = round(len(senwave_annoyed) * 1.8)\n",
    "senwave_non_annoyed = senwave_non_annoyed.sample(n=senwave_non_annoyed_len, random_state=23)"
   ]
  },
  {
   "cell_type": "code",
   "execution_count": 401,
   "id": "9f30551d-e010-4917-a046-7b076e0cd2f5",
   "metadata": {},
   "outputs": [],
   "source": [
    "senwave_annoyed_dataset = pd.concat([senwave_annoyed, senwave_non_annoyed], ignore_index=True)"
   ]
  },
  {
   "cell_type": "code",
   "execution_count": 402,
   "id": "d96f86ce-87b7-49da-8a3c-d3a9e3e6b602",
   "metadata": {},
   "outputs": [],
   "source": [
    "senwave_annoyed_dataset = senwave_annoyed_dataset[['Tweet', 'Annoyed']]\n",
    "senwave_annoyed_dataset.rename(columns={'Annoyed': 'label'}, inplace=True)"
   ]
  },
  {
   "cell_type": "code",
   "execution_count": 403,
   "id": "977b66b0-e76c-43b8-a7c6-49a277d777a8",
   "metadata": {},
   "outputs": [],
   "source": [
    "# Creating Joking Dataset\n",
    "senwave_joking = senwave_df[senwave_df['Joking'] == 1]\n",
    "senwave_non_joking = senwave_df[senwave_df['Joking'] != 1]"
   ]
  },
  {
   "cell_type": "code",
   "execution_count": 404,
   "id": "eb4f87e4-ec88-4547-8832-0b518ce691a7",
   "metadata": {},
   "outputs": [],
   "source": [
    "senwave_non_joking_len = round(len(senwave_joking) * 1.1)\n",
    "senwave_non_joking = senwave_non_joking.sample(n=senwave_non_joking_len, random_state=23)"
   ]
  },
  {
   "cell_type": "code",
   "execution_count": 405,
   "id": "1072a845-9c74-4ee8-a4df-ddca016d0365",
   "metadata": {},
   "outputs": [],
   "source": [
    "senwave_joking_dataset = pd.concat([senwave_joking, senwave_non_joking], ignore_index=True)"
   ]
  },
  {
   "cell_type": "code",
   "execution_count": 406,
   "id": "6a7a3e2b-b0b7-4fb9-9180-35eff30c42f6",
   "metadata": {},
   "outputs": [],
   "source": [
    "senwave_joking_dataset = senwave_joking_dataset[['Tweet', 'Joking']]\n",
    "senwave_joking_dataset.rename(columns={'Joking': 'label'}, inplace=True)"
   ]
  },
  {
   "cell_type": "code",
   "execution_count": 407,
   "id": "d877c674-36ce-4f02-8fc7-b9d497f833fa",
   "metadata": {},
   "outputs": [],
   "source": [
    "# Saving Individual Emotion Datasets\n",
    "senwave_optimism_dataset.to_csv('twitter_data/custom_data/optimism_dataset.csv')\n",
    "senwave_pessimistic_dataset.to_csv('twitter_data/custom_data/pessimistic_dataset.csv')\n",
    "senwave_sad_dataset.to_csv('twitter_data/custom_data/sad_dataset.csv')\n",
    "senwave_annoyed_dataset.to_csv('twitter_data/custom_data/annoyed_dataset.csv')\n",
    "senwave_joking_dataset.to_csv('twitter_data/custom_data/joking_dataset.csv')"
   ]
  }
 ],
 "metadata": {
  "kernelspec": {
   "display_name": "Python (ta)",
   "language": "python",
   "name": "ta"
  },
  "language_info": {
   "codemirror_mode": {
    "name": "ipython",
    "version": 3
   },
   "file_extension": ".py",
   "mimetype": "text/x-python",
   "name": "python",
   "nbconvert_exporter": "python",
   "pygments_lexer": "ipython3",
   "version": "3.8.18"
  }
 },
 "nbformat": 4,
 "nbformat_minor": 5
}
