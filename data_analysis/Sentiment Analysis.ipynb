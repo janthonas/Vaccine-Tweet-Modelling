{
 "cells": [
  {
   "cell_type": "markdown",
   "id": "ef55e5e3-3a62-4566-b64d-e46cef04ca37",
   "metadata": {},
   "source": [
    "## Import Libraries"
   ]
  },
  {
   "cell_type": "code",
   "execution_count": 1,
   "id": "606366cb-c164-498c-a710-e1453034564b",
   "metadata": {},
   "outputs": [],
   "source": [
    "import pandas as pd\n",
    "import matplotlib.pyplot as plt\n",
    "import numpy as np"
   ]
  },
  {
   "cell_type": "markdown",
   "id": "c4411514-0f58-4899-95a4-c3d89a759987",
   "metadata": {},
   "source": [
    "## Import Data"
   ]
  },
  {
   "cell_type": "code",
   "execution_count": 2,
   "id": "8f850f0e-73a9-43d4-bc4b-c535086ab4d4",
   "metadata": {},
   "outputs": [],
   "source": [
    "# Full Data\n",
    "network_data = pd.read_csv('../labelled_data/pruned_topic_sentiment_network_data.csv')\n",
    "#network_data = network_data[network_data['topic_number'] != -1]\n",
    "medicine_data = pd.read_csv('../labelled_data/pruned_topic_sentiment_medicine_and_research_data.csv')\n",
    "#medicine_data = medicine_data[medicine_data['topic_number'] != -1]\n",
    "media_data = pd.read_csv('../labelled_data/pruned_topic_sentiment_media_data.csv')\n",
    "#media_data = media_data[media_data['topic_number'] != -1]"
   ]
  },
  {
   "cell_type": "code",
   "execution_count": 31,
   "id": "f721d71e-b6a4-47ec-a3e9-460f4d9befee",
   "metadata": {},
   "outputs": [
    {
     "data": {
      "text/html": [
       "<div>\n",
       "<style scoped>\n",
       "    .dataframe tbody tr th:only-of-type {\n",
       "        vertical-align: middle;\n",
       "    }\n",
       "\n",
       "    .dataframe tbody tr th {\n",
       "        vertical-align: top;\n",
       "    }\n",
       "\n",
       "    .dataframe thead th {\n",
       "        text-align: right;\n",
       "    }\n",
       "</style>\n",
       "<table border=\"1\" class=\"dataframe\">\n",
       "  <thead>\n",
       "    <tr style=\"text-align: right;\">\n",
       "      <th></th>\n",
       "      <th>Vertex1</th>\n",
       "      <th>Vertex2</th>\n",
       "      <th>Relationship_type</th>\n",
       "      <th>Relationship Date (UTC)</th>\n",
       "      <th>Tweet</th>\n",
       "      <th>Lang_code</th>\n",
       "      <th>Tweet Date (UTC)</th>\n",
       "      <th>Tweet_ID</th>\n",
       "      <th>Conversation_ID</th>\n",
       "      <th>Author_ID</th>\n",
       "      <th>...</th>\n",
       "      <th>topic_number</th>\n",
       "      <th>topic_name</th>\n",
       "      <th>topic_words</th>\n",
       "      <th>topic_probabilities</th>\n",
       "      <th>sentiment_results</th>\n",
       "      <th>official_report_results</th>\n",
       "      <th>joyful_results</th>\n",
       "      <th>love_results</th>\n",
       "      <th>anger_results</th>\n",
       "      <th>sadness_results</th>\n",
       "    </tr>\n",
       "  </thead>\n",
       "  <tbody>\n",
       "    <tr>\n",
       "      <th>31</th>\n",
       "      <td>r_h_ebright</td>\n",
       "      <td>r_h_ebright</td>\n",
       "      <td>Tweet</td>\n",
       "      <td>2020-12-01T01:24:27.000Z</td>\n",
       "      <td>\"Scott Atlas, President Trumps [sociopathic] a...</td>\n",
       "      <td>en</td>\n",
       "      <td>2020-12-01T01:24:27.000Z</td>\n",
       "      <td>1333582700758884352</td>\n",
       "      <td>1.333583e+18</td>\n",
       "      <td>47791337</td>\n",
       "      <td>...</td>\n",
       "      <td>189</td>\n",
       "      <td>189_resign_resignation_disgrace_mulvaney</td>\n",
       "      <td>resign - resignation - disgrace - mulvaney - a...</td>\n",
       "      <td>0.198566</td>\n",
       "      <td>0.298096</td>\n",
       "      <td>0.753588</td>\n",
       "      <td>0.023608</td>\n",
       "      <td>0.665507</td>\n",
       "      <td>0.373397</td>\n",
       "      <td>0.278221</td>\n",
       "    </tr>\n",
       "    <tr>\n",
       "      <th>61</th>\n",
       "      <td>eliowa</td>\n",
       "      <td>eliowa</td>\n",
       "      <td>Tweet</td>\n",
       "      <td>2020-12-01T04:17:16.000Z</td>\n",
       "      <td>here in cold Iowa, the face warmers are quite ...</td>\n",
       "      <td>en</td>\n",
       "      <td>2020-12-01T04:17:16.000Z</td>\n",
       "      <td>1333626190939246592</td>\n",
       "      <td>1.333626e+18</td>\n",
       "      <td>95221142</td>\n",
       "      <td>...</td>\n",
       "      <td>2</td>\n",
       "      <td>2_mask_wear_cloth_surgical</td>\n",
       "      <td>mask - wear - cloth - surgical - fit - respira...</td>\n",
       "      <td>0.955815</td>\n",
       "      <td>0.971946</td>\n",
       "      <td>0.090577</td>\n",
       "      <td>0.218987</td>\n",
       "      <td>0.543996</td>\n",
       "      <td>0.044344</td>\n",
       "      <td>0.027619</td>\n",
       "    </tr>\n",
       "    <tr>\n",
       "      <th>96</th>\n",
       "      <td>peterhotez</td>\n",
       "      <td>peterhotez</td>\n",
       "      <td>Tweet</td>\n",
       "      <td>2020-12-01T11:52:49.000Z</td>\n",
       "      <td>Teachable moment: nice example of the sort of ...</td>\n",
       "      <td>en</td>\n",
       "      <td>2020-12-01T11:52:49.000Z</td>\n",
       "      <td>1333740835779850240</td>\n",
       "      <td>1.333741e+18</td>\n",
       "      <td>593289567</td>\n",
       "      <td>...</td>\n",
       "      <td>755</td>\n",
       "      <td>755_russian_extremist_weaponize_extremism</td>\n",
       "      <td>russian - extremist - weaponize - extremism - ...</td>\n",
       "      <td>1.000000</td>\n",
       "      <td>0.874591</td>\n",
       "      <td>0.475259</td>\n",
       "      <td>0.131998</td>\n",
       "      <td>0.801693</td>\n",
       "      <td>0.025825</td>\n",
       "      <td>0.020313</td>\n",
       "    </tr>\n",
       "    <tr>\n",
       "      <th>103</th>\n",
       "      <td>epstein_dan</td>\n",
       "      <td>epstein_dan</td>\n",
       "      <td>Tweet</td>\n",
       "      <td>2020-12-01T12:39:03.000Z</td>\n",
       "      <td>Interesting news story: Leaked documents revea...</td>\n",
       "      <td>en</td>\n",
       "      <td>2020-12-01T12:39:03.000Z</td>\n",
       "      <td>1333752469172740097</td>\n",
       "      <td>1.333752e+18</td>\n",
       "      <td>525813230</td>\n",
       "      <td>...</td>\n",
       "      <td>18</td>\n",
       "      <td>18_china_chinese_origin_chinas</td>\n",
       "      <td>china - chinese - origin - chinas - wuhan - mi...</td>\n",
       "      <td>1.000000</td>\n",
       "      <td>0.213503</td>\n",
       "      <td>0.937280</td>\n",
       "      <td>0.370461</td>\n",
       "      <td>0.657888</td>\n",
       "      <td>0.035943</td>\n",
       "      <td>0.061067</td>\n",
       "    </tr>\n",
       "    <tr>\n",
       "      <th>179</th>\n",
       "      <td>scottgottliebmd</td>\n",
       "      <td>scottgottliebmd</td>\n",
       "      <td>Tweet</td>\n",
       "      <td>2020-12-01T18:15:55.000Z</td>\n",
       "      <td>THREAD: Proud to have worked with my FDA team ...</td>\n",
       "      <td>en</td>\n",
       "      <td>2020-12-01T18:15:55.000Z</td>\n",
       "      <td>1333837245170802688</td>\n",
       "      <td>1.333837e+18</td>\n",
       "      <td>40156330</td>\n",
       "      <td>...</td>\n",
       "      <td>157</td>\n",
       "      <td>157_fda_drug_hhs_approval</td>\n",
       "      <td>fda - drug - hhs - approval - approve - pluto ...</td>\n",
       "      <td>0.568392</td>\n",
       "      <td>0.998351</td>\n",
       "      <td>0.275796</td>\n",
       "      <td>0.166721</td>\n",
       "      <td>0.584006</td>\n",
       "      <td>0.036700</td>\n",
       "      <td>0.069627</td>\n",
       "    </tr>\n",
       "    <tr>\n",
       "      <th>...</th>\n",
       "      <td>...</td>\n",
       "      <td>...</td>\n",
       "      <td>...</td>\n",
       "      <td>...</td>\n",
       "      <td>...</td>\n",
       "      <td>...</td>\n",
       "      <td>...</td>\n",
       "      <td>...</td>\n",
       "      <td>...</td>\n",
       "      <td>...</td>\n",
       "      <td>...</td>\n",
       "      <td>...</td>\n",
       "      <td>...</td>\n",
       "      <td>...</td>\n",
       "      <td>...</td>\n",
       "      <td>...</td>\n",
       "      <td>...</td>\n",
       "      <td>...</td>\n",
       "      <td>...</td>\n",
       "      <td>...</td>\n",
       "      <td>...</td>\n",
       "    </tr>\n",
       "    <tr>\n",
       "      <th>78865</th>\n",
       "      <td>epstein_dan</td>\n",
       "      <td>epstein_dan</td>\n",
       "      <td>Tweet</td>\n",
       "      <td>2022-02-23T19:13:22.000Z</td>\n",
       "      <td>Low vaccination coverage in many countries of ...</td>\n",
       "      <td>en</td>\n",
       "      <td>2022-02-23T19:13:22.000Z</td>\n",
       "      <td>1496563853672517640</td>\n",
       "      <td>1.496564e+18</td>\n",
       "      <td>525813230</td>\n",
       "      <td>...</td>\n",
       "      <td>278</td>\n",
       "      <td>278_caribbean_latin_paho_etienne</td>\n",
       "      <td>caribbean - latin - paho - etienne - carissa -...</td>\n",
       "      <td>1.000000</td>\n",
       "      <td>0.843421</td>\n",
       "      <td>0.854876</td>\n",
       "      <td>0.022813</td>\n",
       "      <td>0.505026</td>\n",
       "      <td>0.217441</td>\n",
       "      <td>0.185870</td>\n",
       "    </tr>\n",
       "    <tr>\n",
       "      <th>78875</th>\n",
       "      <td>drtedros</td>\n",
       "      <td>drtedros</td>\n",
       "      <td>Tweet</td>\n",
       "      <td>2022-02-23T19:39:10.000Z</td>\n",
       "      <td>Vaccines save lives. An effective and safe vac...</td>\n",
       "      <td>en</td>\n",
       "      <td>2022-02-23T19:39:10.000Z</td>\n",
       "      <td>1496570348459986960</td>\n",
       "      <td>1.496570e+18</td>\n",
       "      <td>189868631</td>\n",
       "      <td>...</td>\n",
       "      <td>56</td>\n",
       "      <td>56_malaria_tuberculosis_tb_endtb</td>\n",
       "      <td>malaria - tuberculosis - tb - endtb - endmalar...</td>\n",
       "      <td>0.614812</td>\n",
       "      <td>0.973172</td>\n",
       "      <td>0.138200</td>\n",
       "      <td>0.085743</td>\n",
       "      <td>0.875721</td>\n",
       "      <td>0.014620</td>\n",
       "      <td>0.077017</td>\n",
       "    </tr>\n",
       "    <tr>\n",
       "      <th>78879</th>\n",
       "      <td>ekemma</td>\n",
       "      <td>ekemma</td>\n",
       "      <td>Tweet</td>\n",
       "      <td>2022-02-23T20:02:41.000Z</td>\n",
       "      <td>Do not you just love mothers!</td>\n",
       "      <td>en</td>\n",
       "      <td>2022-02-23T20:02:41.000Z</td>\n",
       "      <td>1496576267562409986</td>\n",
       "      <td>1.496576e+18</td>\n",
       "      <td>33293133</td>\n",
       "      <td>...</td>\n",
       "      <td>77</td>\n",
       "      <td>77_mom_dad_daughter_father</td>\n",
       "      <td>mom - dad - daughter - father - fathers - uncl...</td>\n",
       "      <td>0.604051</td>\n",
       "      <td>0.516874</td>\n",
       "      <td>0.003191</td>\n",
       "      <td>0.061803</td>\n",
       "      <td>0.838782</td>\n",
       "      <td>0.476855</td>\n",
       "      <td>0.029899</td>\n",
       "    </tr>\n",
       "    <tr>\n",
       "      <th>78884</th>\n",
       "      <td>drtomfrieden</td>\n",
       "      <td>drtomfrieden</td>\n",
       "      <td>Tweet</td>\n",
       "      <td>2022-02-23T20:17:57.000Z</td>\n",
       "      <td>Vaccination remains our best defense against C...</td>\n",
       "      <td>en</td>\n",
       "      <td>2022-02-23T20:17:57.000Z</td>\n",
       "      <td>1496580109872025603</td>\n",
       "      <td>1.496580e+18</td>\n",
       "      <td>820452522494226433</td>\n",
       "      <td>...</td>\n",
       "      <td>-1</td>\n",
       "      <td>-1_pandemic_health_people_public</td>\n",
       "      <td>pandemic - health - people - public - get - wo...</td>\n",
       "      <td>0.000000</td>\n",
       "      <td>0.996412</td>\n",
       "      <td>0.328349</td>\n",
       "      <td>0.147276</td>\n",
       "      <td>0.595459</td>\n",
       "      <td>0.024221</td>\n",
       "      <td>0.045548</td>\n",
       "    </tr>\n",
       "    <tr>\n",
       "      <th>78902</th>\n",
       "      <td>epstein_dan</td>\n",
       "      <td>epstein_dan</td>\n",
       "      <td>Tweet</td>\n",
       "      <td>2022-02-23T22:08:42.000Z</td>\n",
       "      <td>Use common sense and take precautions. Obvious...</td>\n",
       "      <td>en</td>\n",
       "      <td>2022-02-23T22:08:42.000Z</td>\n",
       "      <td>1496607978551758858</td>\n",
       "      <td>1.496608e+18</td>\n",
       "      <td>525813230</td>\n",
       "      <td>...</td>\n",
       "      <td>105</td>\n",
       "      <td>105_omicron_severity_cause_mild</td>\n",
       "      <td>omicron - severity - cause - mild - severe - m...</td>\n",
       "      <td>0.791001</td>\n",
       "      <td>0.632178</td>\n",
       "      <td>0.136570</td>\n",
       "      <td>0.066412</td>\n",
       "      <td>0.521461</td>\n",
       "      <td>0.120816</td>\n",
       "      <td>0.212465</td>\n",
       "    </tr>\n",
       "  </tbody>\n",
       "</table>\n",
       "<p>4709 rows × 27 columns</p>\n",
       "</div>"
      ],
      "text/plain": [
       "               Vertex1          Vertex2 Relationship_type  \\\n",
       "31         r_h_ebright      r_h_ebright             Tweet   \n",
       "61              eliowa           eliowa             Tweet   \n",
       "96          peterhotez       peterhotez             Tweet   \n",
       "103        epstein_dan      epstein_dan             Tweet   \n",
       "179    scottgottliebmd  scottgottliebmd             Tweet   \n",
       "...                ...              ...               ...   \n",
       "78865      epstein_dan      epstein_dan             Tweet   \n",
       "78875         drtedros         drtedros             Tweet   \n",
       "78879           ekemma           ekemma             Tweet   \n",
       "78884     drtomfrieden     drtomfrieden             Tweet   \n",
       "78902      epstein_dan      epstein_dan             Tweet   \n",
       "\n",
       "        Relationship Date (UTC)  \\\n",
       "31     2020-12-01T01:24:27.000Z   \n",
       "61     2020-12-01T04:17:16.000Z   \n",
       "96     2020-12-01T11:52:49.000Z   \n",
       "103    2020-12-01T12:39:03.000Z   \n",
       "179    2020-12-01T18:15:55.000Z   \n",
       "...                         ...   \n",
       "78865  2022-02-23T19:13:22.000Z   \n",
       "78875  2022-02-23T19:39:10.000Z   \n",
       "78879  2022-02-23T20:02:41.000Z   \n",
       "78884  2022-02-23T20:17:57.000Z   \n",
       "78902  2022-02-23T22:08:42.000Z   \n",
       "\n",
       "                                                   Tweet Lang_code  \\\n",
       "31     \"Scott Atlas, President Trumps [sociopathic] a...        en   \n",
       "61     here in cold Iowa, the face warmers are quite ...        en   \n",
       "96     Teachable moment: nice example of the sort of ...        en   \n",
       "103    Interesting news story: Leaked documents revea...        en   \n",
       "179    THREAD: Proud to have worked with my FDA team ...        en   \n",
       "...                                                  ...       ...   \n",
       "78865  Low vaccination coverage in many countries of ...        en   \n",
       "78875  Vaccines save lives. An effective and safe vac...        en   \n",
       "78879                      Do not you just love mothers!        en   \n",
       "78884  Vaccination remains our best defense against C...        en   \n",
       "78902  Use common sense and take precautions. Obvious...        en   \n",
       "\n",
       "               Tweet Date (UTC)             Tweet_ID  Conversation_ID  \\\n",
       "31     2020-12-01T01:24:27.000Z  1333582700758884352     1.333583e+18   \n",
       "61     2020-12-01T04:17:16.000Z  1333626190939246592     1.333626e+18   \n",
       "96     2020-12-01T11:52:49.000Z  1333740835779850240     1.333741e+18   \n",
       "103    2020-12-01T12:39:03.000Z  1333752469172740097     1.333752e+18   \n",
       "179    2020-12-01T18:15:55.000Z  1333837245170802688     1.333837e+18   \n",
       "...                         ...                  ...              ...   \n",
       "78865  2022-02-23T19:13:22.000Z  1496563853672517640     1.496564e+18   \n",
       "78875  2022-02-23T19:39:10.000Z  1496570348459986960     1.496570e+18   \n",
       "78879  2022-02-23T20:02:41.000Z  1496576267562409986     1.496576e+18   \n",
       "78884  2022-02-23T20:17:57.000Z  1496580109872025603     1.496580e+18   \n",
       "78902  2022-02-23T22:08:42.000Z  1496607978551758858     1.496608e+18   \n",
       "\n",
       "                Author_ID  ... topic_number  \\\n",
       "31               47791337  ...          189   \n",
       "61               95221142  ...            2   \n",
       "96              593289567  ...          755   \n",
       "103             525813230  ...           18   \n",
       "179              40156330  ...          157   \n",
       "...                   ...  ...          ...   \n",
       "78865           525813230  ...          278   \n",
       "78875           189868631  ...           56   \n",
       "78879            33293133  ...           77   \n",
       "78884  820452522494226433  ...           -1   \n",
       "78902           525813230  ...          105   \n",
       "\n",
       "                                      topic_name  \\\n",
       "31      189_resign_resignation_disgrace_mulvaney   \n",
       "61                    2_mask_wear_cloth_surgical   \n",
       "96     755_russian_extremist_weaponize_extremism   \n",
       "103               18_china_chinese_origin_chinas   \n",
       "179                    157_fda_drug_hhs_approval   \n",
       "...                                          ...   \n",
       "78865           278_caribbean_latin_paho_etienne   \n",
       "78875           56_malaria_tuberculosis_tb_endtb   \n",
       "78879                 77_mom_dad_daughter_father   \n",
       "78884           -1_pandemic_health_people_public   \n",
       "78902            105_omicron_severity_cause_mild   \n",
       "\n",
       "                                             topic_words  topic_probabilities  \\\n",
       "31     resign - resignation - disgrace - mulvaney - a...             0.198566   \n",
       "61     mask - wear - cloth - surgical - fit - respira...             0.955815   \n",
       "96     russian - extremist - weaponize - extremism - ...             1.000000   \n",
       "103    china - chinese - origin - chinas - wuhan - mi...             1.000000   \n",
       "179    fda - drug - hhs - approval - approve - pluto ...             0.568392   \n",
       "...                                                  ...                  ...   \n",
       "78865  caribbean - latin - paho - etienne - carissa -...             1.000000   \n",
       "78875  malaria - tuberculosis - tb - endtb - endmalar...             0.614812   \n",
       "78879  mom - dad - daughter - father - fathers - uncl...             0.604051   \n",
       "78884  pandemic - health - people - public - get - wo...             0.000000   \n",
       "78902  omicron - severity - cause - mild - severe - m...             0.791001   \n",
       "\n",
       "      sentiment_results  official_report_results joyful_results  love_results  \\\n",
       "31             0.298096                 0.753588       0.023608      0.665507   \n",
       "61             0.971946                 0.090577       0.218987      0.543996   \n",
       "96             0.874591                 0.475259       0.131998      0.801693   \n",
       "103            0.213503                 0.937280       0.370461      0.657888   \n",
       "179            0.998351                 0.275796       0.166721      0.584006   \n",
       "...                 ...                      ...            ...           ...   \n",
       "78865          0.843421                 0.854876       0.022813      0.505026   \n",
       "78875          0.973172                 0.138200       0.085743      0.875721   \n",
       "78879          0.516874                 0.003191       0.061803      0.838782   \n",
       "78884          0.996412                 0.328349       0.147276      0.595459   \n",
       "78902          0.632178                 0.136570       0.066412      0.521461   \n",
       "\n",
       "      anger_results sadness_results  \n",
       "31         0.373397        0.278221  \n",
       "61         0.044344        0.027619  \n",
       "96         0.025825        0.020313  \n",
       "103        0.035943        0.061067  \n",
       "179        0.036700        0.069627  \n",
       "...             ...             ...  \n",
       "78865      0.217441        0.185870  \n",
       "78875      0.014620        0.077017  \n",
       "78879      0.476855        0.029899  \n",
       "78884      0.024221        0.045548  \n",
       "78902      0.120816        0.212465  \n",
       "\n",
       "[4709 rows x 27 columns]"
      ]
     },
     "execution_count": 31,
     "metadata": {},
     "output_type": "execute_result"
    }
   ],
   "source": [
    "network_data[(network_data['Relationship_type'] == 'Tweet') & (network_data['love_results'] >= 0.5)]"
   ]
  },
  {
   "cell_type": "markdown",
   "id": "7e79eee8-4635-42b0-ab05-62231e1b7f8c",
   "metadata": {},
   "source": [
    "## Counting Sentiment Frequency"
   ]
  },
  {
   "cell_type": "markdown",
   "id": "fb3219d1-4ccb-4d99-9107-59024f43c675",
   "metadata": {},
   "source": [
    "### Sizes of Individual Datasets"
   ]
  },
  {
   "cell_type": "code",
   "execution_count": 32,
   "id": "d6ce465c-a853-4018-8a0b-797bbb418e94",
   "metadata": {},
   "outputs": [
    {
     "name": "stdout",
     "output_type": "stream",
     "text": [
      "78917\n",
      "27952\n",
      "1831\n"
     ]
    }
   ],
   "source": [
    "# The full size of the dataset to compare to\n",
    "print(len(network_data))\n",
    "print(len(medicine_data))\n",
    "print(len(media_data))"
   ]
  },
  {
   "cell_type": "markdown",
   "id": "bc68288c-04fc-487f-8d4d-100bdffadb61",
   "metadata": {},
   "source": [
    "### Prominence of Each Emotion in Each Dataset"
   ]
  },
  {
   "cell_type": "code",
   "execution_count": 51,
   "id": "b6d367c4-dafd-45c9-81c7-04ae359f39cd",
   "metadata": {},
   "outputs": [],
   "source": [
    "# The network dataset\n",
    "network_positive_sent_count = network_data[network_data['sentiment_results'] >= 0.5].shape[0]\n",
    "network_official_report_count = network_data[network_data['official_report_results'] >= 0.5].shape[0]\n",
    "#network_joyful_count = network_data[(network_data['joyful_results'] >= 0.5) & (network_data['Relationship_type'] == 'Tweet')].shape[0]\n",
    "#network_love_count = network_data[(network_data['love_results'] >= 0.5) & (network_data['Relationship_type'] == 'Tweet')].shape[0]\n",
    "#network_anger_count = network_data[(network_data['anger_results'] >= 0.5) & (network_data['Relationship_type'] == 'Tweet')].shape[0]\n",
    "#network_sadness_count = network_data[(network_data['sadness_results'] >= 0.5) & (network_data['Relationship_type'] == 'Tweet')].shape[0]\n",
    "network_joyful_count = network_data[network_data['joyful_results'] >= 0.5].shape[0]\n",
    "network_love_count = network_data[network_data['love_results'] >= 0.5].shape[0]\n",
    "network_anger_count = network_data[network_data['anger_results'] >= 0.5].shape[0]\n",
    "network_sadness_count = network_data[network_data['sadness_results'] >= 0.5].shape[0]"
   ]
  },
  {
   "cell_type": "code",
   "execution_count": 52,
   "id": "ccadc665-e277-4d72-8f27-67c2e0f99067",
   "metadata": {},
   "outputs": [
    {
     "data": {
      "text/plain": [
       "43398"
      ]
     },
     "execution_count": 52,
     "metadata": {},
     "output_type": "execute_result"
    }
   ],
   "source": [
    "network_positive_sent_count"
   ]
  },
  {
   "cell_type": "code",
   "execution_count": 53,
   "id": "4d6c612a-37da-4ba0-96f2-ec057c2b0f40",
   "metadata": {},
   "outputs": [
    {
     "data": {
      "text/plain": [
       "17636"
      ]
     },
     "execution_count": 53,
     "metadata": {},
     "output_type": "execute_result"
    }
   ],
   "source": [
    "network_official_report_count"
   ]
  },
  {
   "cell_type": "code",
   "execution_count": 54,
   "id": "48227c1c-b986-47d6-af2f-a1e3adf13fa0",
   "metadata": {},
   "outputs": [
    {
     "data": {
      "text/plain": [
       "5531"
      ]
     },
     "execution_count": 54,
     "metadata": {},
     "output_type": "execute_result"
    }
   ],
   "source": [
    "network_joyful_count"
   ]
  },
  {
   "cell_type": "code",
   "execution_count": 55,
   "id": "bbcb30cd-ebda-46fb-b824-00fac533a7df",
   "metadata": {},
   "outputs": [
    {
     "data": {
      "text/plain": [
       "14929"
      ]
     },
     "execution_count": 55,
     "metadata": {},
     "output_type": "execute_result"
    }
   ],
   "source": [
    "network_love_count"
   ]
  },
  {
   "cell_type": "code",
   "execution_count": 56,
   "id": "e198093b-c044-4a23-a1de-886c72e57361",
   "metadata": {},
   "outputs": [
    {
     "data": {
      "text/plain": [
       "5750"
      ]
     },
     "execution_count": 56,
     "metadata": {},
     "output_type": "execute_result"
    }
   ],
   "source": [
    "network_anger_count"
   ]
  },
  {
   "cell_type": "code",
   "execution_count": 57,
   "id": "bc083c50-0e78-4a99-99fb-9b3fc0fbc556",
   "metadata": {},
   "outputs": [
    {
     "data": {
      "text/plain": [
       "4905"
      ]
     },
     "execution_count": 57,
     "metadata": {},
     "output_type": "execute_result"
    }
   ],
   "source": [
    "network_sadness_count"
   ]
  },
  {
   "cell_type": "code",
   "execution_count": 58,
   "id": "c920297e-66e8-4728-ab5f-a21e0607f579",
   "metadata": {},
   "outputs": [],
   "source": [
    "# The medicine and medicine researcher dataset\n",
    "medicine_positive_sent_count = medicine_data[medicine_data['sentiment_results'] >= 0.5].shape[0]\n",
    "medicine_official_report_count = medicine_data[medicine_data['official_report_results'] >= 0.5].shape[0]\n",
    "medicine_joyful_count = medicine_data[medicine_data['joyful_results'] >= 0.5].shape[0]\n",
    "medicine_love_count = medicine_data[medicine_data['love_results'] >= 0.5].shape[0]\n",
    "medicine_anger_count = medicine_data[medicine_data['anger_results'] >= 0.5].shape[0]\n",
    "medicine_sadness_count = medicine_data[medicine_data['sadness_results'] >= 0.5].shape[0]"
   ]
  },
  {
   "cell_type": "code",
   "execution_count": 60,
   "id": "d7068e78-2123-4ea7-a545-81b0c7ff710d",
   "metadata": {},
   "outputs": [
    {
     "data": {
      "text/plain": [
       "15985"
      ]
     },
     "execution_count": 60,
     "metadata": {},
     "output_type": "execute_result"
    }
   ],
   "source": [
    "medicine_positive_sent_count"
   ]
  },
  {
   "cell_type": "code",
   "execution_count": 61,
   "id": "d23c73da-4162-45de-912d-38495e240257",
   "metadata": {},
   "outputs": [
    {
     "data": {
      "text/plain": [
       "4884"
      ]
     },
     "execution_count": 61,
     "metadata": {},
     "output_type": "execute_result"
    }
   ],
   "source": [
    "medicine_official_report_count"
   ]
  },
  {
   "cell_type": "code",
   "execution_count": 62,
   "id": "99ef9e7e-0308-4c52-bdea-c018387ceef8",
   "metadata": {},
   "outputs": [
    {
     "data": {
      "text/plain": [
       "2215"
      ]
     },
     "execution_count": 62,
     "metadata": {},
     "output_type": "execute_result"
    }
   ],
   "source": [
    "medicine_joyful_count"
   ]
  },
  {
   "cell_type": "code",
   "execution_count": 63,
   "id": "86ac7add-2ca7-4a18-9d89-e5ce7732d71b",
   "metadata": {},
   "outputs": [
    {
     "data": {
      "text/plain": [
       "5455"
      ]
     },
     "execution_count": 63,
     "metadata": {},
     "output_type": "execute_result"
    }
   ],
   "source": [
    "medicine_love_count"
   ]
  },
  {
   "cell_type": "code",
   "execution_count": 64,
   "id": "6d812698-9358-4e43-a44d-cd435dc2666f",
   "metadata": {},
   "outputs": [
    {
     "data": {
      "text/plain": [
       "2021"
      ]
     },
     "execution_count": 64,
     "metadata": {},
     "output_type": "execute_result"
    }
   ],
   "source": [
    "medicine_anger_count"
   ]
  },
  {
   "cell_type": "code",
   "execution_count": 65,
   "id": "21716af6-51dd-48a6-9385-80fde41ca61d",
   "metadata": {},
   "outputs": [
    {
     "data": {
      "text/plain": [
       "1696"
      ]
     },
     "execution_count": 65,
     "metadata": {},
     "output_type": "execute_result"
    }
   ],
   "source": [
    "medicine_sadness_count"
   ]
  },
  {
   "cell_type": "code",
   "execution_count": 59,
   "id": "bd6e500e-4a9a-4c8f-9d87-c479fed136a5",
   "metadata": {},
   "outputs": [],
   "source": [
    "# The media dataset\n",
    "media_positive_sent_count = media_data[media_data['sentiment_results'] >= 0.5].shape[0]\n",
    "media_official_report_count = media_data[media_data['official_report_results'] >= 0.5].shape[0]\n",
    "media_joyful_count = media_data[media_data['joyful_results'] >= 0.5].shape[0]\n",
    "media_love_count = media_data[media_data['love_results'] >= 0.5].shape[0]\n",
    "media_anger_count = media_data[media_data['anger_results'] >= 0.5].shape[0]\n",
    "media_sadness_count = media_data[media_data['sadness_results'] >= 0.5].shape[0]"
   ]
  },
  {
   "cell_type": "code",
   "execution_count": 66,
   "id": "785f5c31-6c1d-4f5c-b5fa-27d57b3f51c2",
   "metadata": {},
   "outputs": [
    {
     "data": {
      "text/plain": [
       "976"
      ]
     },
     "execution_count": 66,
     "metadata": {},
     "output_type": "execute_result"
    }
   ],
   "source": [
    "media_positive_sent_count"
   ]
  },
  {
   "cell_type": "code",
   "execution_count": 67,
   "id": "b3acfba0-12bd-4a1b-86fd-82f7f5217aa4",
   "metadata": {},
   "outputs": [
    {
     "data": {
      "text/plain": [
       "1100"
      ]
     },
     "execution_count": 67,
     "metadata": {},
     "output_type": "execute_result"
    }
   ],
   "source": [
    "media_official_report_count"
   ]
  },
  {
   "cell_type": "code",
   "execution_count": 68,
   "id": "4fa451d3-f72f-4dc7-9992-3ba3636e59a8",
   "metadata": {},
   "outputs": [
    {
     "data": {
      "text/plain": [
       "46"
      ]
     },
     "execution_count": 68,
     "metadata": {},
     "output_type": "execute_result"
    }
   ],
   "source": [
    "media_joyful_count"
   ]
  },
  {
   "cell_type": "code",
   "execution_count": 69,
   "id": "1bd4c1d8-adda-46e7-aaca-12a3b74506c8",
   "metadata": {},
   "outputs": [
    {
     "data": {
      "text/plain": [
       "254"
      ]
     },
     "execution_count": 69,
     "metadata": {},
     "output_type": "execute_result"
    }
   ],
   "source": [
    "media_love_count"
   ]
  },
  {
   "cell_type": "code",
   "execution_count": 70,
   "id": "33d72bb0-c719-44cf-b506-298cd887e9b5",
   "metadata": {},
   "outputs": [
    {
     "data": {
      "text/plain": [
       "71"
      ]
     },
     "execution_count": 70,
     "metadata": {},
     "output_type": "execute_result"
    }
   ],
   "source": [
    "media_anger_count"
   ]
  },
  {
   "cell_type": "code",
   "execution_count": 71,
   "id": "600ee906-8697-445c-86b2-5a36077e065e",
   "metadata": {},
   "outputs": [
    {
     "data": {
      "text/plain": [
       "118"
      ]
     },
     "execution_count": 71,
     "metadata": {},
     "output_type": "execute_result"
    }
   ],
   "source": [
    "media_sadness_count"
   ]
  },
  {
   "cell_type": "markdown",
   "id": "08538fed-75fd-4f8b-bf6d-71436e68786a",
   "metadata": {},
   "source": [
    "## Analyse the Sentiments Over Time and During Key Periods"
   ]
  },
  {
   "cell_type": "code",
   "execution_count": 72,
   "id": "59adcb16-4857-41d3-b455-aba01bfa2789",
   "metadata": {},
   "outputs": [],
   "source": [
    "# The sentiments will be counted each month\n",
    "# Each month will be related to a set of important events that occur\n",
    "# So the sentiments can be put into that context"
   ]
  },
  {
   "cell_type": "code",
   "execution_count": 73,
   "id": "a371e3a6-05b4-4bcb-bb46-33f2c2df51a5",
   "metadata": {},
   "outputs": [
    {
     "name": "stderr",
     "output_type": "stream",
     "text": [
      "/var/folders/p9/sxrw215j0sj7_k0yh1d1rzcw0000gn/T/ipykernel_67538/3899593066.py:3: UserWarning: Converting to PeriodArray/Index representation will drop timezone information.\n",
      "  network_data['year_month'] = network_data['timestamp'].dt.to_period('M')\n",
      "/var/folders/p9/sxrw215j0sj7_k0yh1d1rzcw0000gn/T/ipykernel_67538/3899593066.py:6: UserWarning: Converting to PeriodArray/Index representation will drop timezone information.\n",
      "  medicine_data['year_month'] = medicine_data['timestamp'].dt.to_period('M')\n",
      "/var/folders/p9/sxrw215j0sj7_k0yh1d1rzcw0000gn/T/ipykernel_67538/3899593066.py:9: UserWarning: Converting to PeriodArray/Index representation will drop timezone information.\n",
      "  media_data['year_month'] = media_data['timestamp'].dt.to_period('M')\n"
     ]
    }
   ],
   "source": [
    "# Getting the Months\n",
    "network_data['timestamp'] = pd.to_datetime(network_data['Tweet Date (UTC)'])\n",
    "network_data['year_month'] = network_data['timestamp'].dt.to_period('M')\n",
    "\n",
    "medicine_data['timestamp'] = pd.to_datetime(medicine_data['Tweet Date (UTC)'])\n",
    "medicine_data['year_month'] = medicine_data['timestamp'].dt.to_period('M')\n",
    "\n",
    "media_data['timestamp'] = pd.to_datetime(media_data['Tweet Date (UTC)'])\n",
    "media_data['year_month'] = media_data['timestamp'].dt.to_period('M')"
   ]
  },
  {
   "cell_type": "code",
   "execution_count": 74,
   "id": "64e5cb01-6d56-44be-89cd-c0d501580838",
   "metadata": {},
   "outputs": [],
   "source": [
    "# Getting the Number of Tweets per Month\n",
    "network_data_months = network_data.groupby('year_month').size()\n",
    "network_data_months_list = network_data_months.tolist()\n",
    "\n",
    "medicine_data_months = medicine_data.groupby('year_month').size()\n",
    "medicine_data_months_list = medicine_data_months.tolist()\n",
    "\n",
    "media_data_months = media_data.groupby('year_month').size()\n",
    "media_data_months_list = media_data_months.tolist()"
   ]
  },
  {
   "cell_type": "code",
   "execution_count": 92,
   "id": "721c0f96-d24e-4042-a43c-beb2102ecbec",
   "metadata": {},
   "outputs": [],
   "source": [
    "network_positive_sent_df = network_data[network_data['sentiment_results'] >= 0.5]\n",
    "network_positive_sent_per_month = network_positive_sent_df.groupby('year_month').size()\n",
    "network_positive_sent_per_month_list = network_positive_sent_per_month.tolist()\n",
    "network_positive_sent_per_month_percentage_list = [(network_positive_sent_per_month_list / network_data_months_list) * 100 for network_positive_sent_per_month_list, network_data_months_list in zip(network_positive_sent_per_month_list, network_data_months_list)]\n",
    "\n",
    "network_official_report_df = network_data[network_data['official_report_results'] >= 0.5]\n",
    "network_official_report_per_month = network_official_report_df.groupby('year_month').size()\n",
    "network_official_report_per_month_list = network_official_report_per_month.tolist()\n",
    "network_official_report_per_month_percentage_list = [(network_official_report_per_month_list / network_data_months_list) * 100 for network_official_report_per_month_list, network_data_months_list in zip(network_official_report_per_month_list, network_data_months_list)]\n",
    "\n",
    "network_joyful_df = network_data[network_data['joyful_results'] >= 0.5]\n",
    "network_joyful_per_month = network_joyful_df.groupby('year_month').size()\n",
    "network_joyful_per_month_list = network_joyful_per_month.tolist()\n",
    "network_joyful_per_month_percentage_list = [(network_joyful_per_month_list / network_data_months_list) * 100 for network_joyful_per_month_list, network_data_months_list in zip(network_joyful_per_month_list, network_data_months_list)]\n",
    "\n",
    "network_love_df = network_data[network_data['love_results'] >= 0.5]\n",
    "network_love_per_month = network_love_df.groupby('year_month').size()\n",
    "network_love_per_month_list = network_love_per_month.tolist()\n",
    "network_love_per_month_percentage_list = [(network_love_per_month_list / network_data_months_list) * 100 for network_love_per_month_list, network_data_months_list in zip(network_love_per_month_list, network_data_months_list)]\n",
    "\n",
    "network_anger_df = network_data[network_data['anger_results'] >= 0.5]\n",
    "network_anger_per_month = network_anger_df.groupby('year_month').size()\n",
    "network_anger_per_month_list = network_anger_per_month.tolist()\n",
    "network_anger_per_month_percentage_list = [(network_anger_per_month_list / network_data_months_list) * 100 for network_anger_per_month_list, network_data_months_list in zip(network_anger_per_month_list, network_data_months_list)]\n",
    "\n",
    "network_sadness_df = network_data[network_data['sadness_results'] >= 0.5]\n",
    "network_sadness_per_month = network_sadness_df.groupby('year_month').size()\n",
    "network_sadness_per_month_list = network_sadness_per_month.tolist()\n",
    "network_sadness_per_month_percentage_list = [(network_sadness_per_month_list / network_data_months_list) * 100 for network_sadness_per_month_list, network_data_months_list in zip(network_sadness_per_month_list, network_data_months_list)]"
   ]
  },
  {
   "cell_type": "code",
   "execution_count": 103,
   "id": "539ca333-4719-4e81-b60e-52af67dd8a47",
   "metadata": {},
   "outputs": [],
   "source": [
    "medicine_positive_sent_df = medicine_data[medicine_data['sentiment_results'] >= 0.5]\n",
    "medicine_positive_sent_per_month = medicine_positive_sent_df.groupby('year_month').size()\n",
    "medicine_positive_sent_per_month_list = medicine_positive_sent_per_month.tolist()\n",
    "medicine_positive_sent_per_month_percentage_list = [(medicine_positive_sent_per_month_list / medicine_data_months_list) * 100 for medicine_positive_sent_per_month_list, medicine_data_months_list in zip(medicine_positive_sent_per_month_list, medicine_data_months_list)]\n",
    "\n",
    "medicine_official_report_df = medicine_data[medicine_data['official_report_results'] >= 0.5]\n",
    "medicine_official_report_per_month = medicine_official_report_df.groupby('year_month').size()\n",
    "medicine_official_report_per_month_list = medicine_official_report_per_month.tolist()\n",
    "medicine_official_report_per_month_percentage_list = [(medicine_official_report_per_month_list / medicine_data_months_list) * 100 for medicine_official_report_per_month_list, medicine_data_months_list in zip(medicine_official_report_per_month_list, medicine_data_months_list)]\n",
    "\n",
    "medicine_joyful_df = medicine_data[medicine_data['joyful_results'] >= 0.5]\n",
    "medicine_joyful_per_month = medicine_joyful_df.groupby('year_month').size()\n",
    "medicine_joyful_per_month_list = medicine_joyful_per_month.tolist()\n",
    "medicine_joyful_per_month_percentage_list = [(medicine_joyful_per_month_list / medicine_data_months_list) * 100 for medicine_joyful_per_month_list, medicine_data_months_list in zip(medicine_joyful_per_month_list, medicine_data_months_list)]\n",
    "\n",
    "medicine_love_df = medicine_data[medicine_data['love_results'] >= 0.5]\n",
    "medicine_love_per_month = medicine_love_df.groupby('year_month').size()\n",
    "medicine_love_per_month_list = medicine_love_per_month.tolist()\n",
    "medicine_love_per_month_percentage_list = [(medicine_love_per_month_list / medicine_data_months_list) * 100 for medicine_love_per_month_list, medicine_data_months_list in zip(medicine_love_per_month_list, medicine_data_months_list)]\n",
    "\n",
    "medicine_anger_df = medicine_data[medicine_data['anger_results'] >= 0.5]\n",
    "medicine_anger_per_month = medicine_anger_df.groupby('year_month').size()\n",
    "medicine_anger_per_month_list = medicine_anger_per_month.tolist()\n",
    "medicine_anger_per_month_percentage_list = [(medicine_anger_per_month_list / medicine_data_months_list) * 100 for medicine_anger_per_month_list, medicine_data_months_list in zip(medicine_anger_per_month_list, medicine_data_months_list)]\n",
    "\n",
    "medicine_sadness_df = medicine_data[medicine_data['sadness_results'] >= 0.5]\n",
    "medicine_sadness_per_month = medicine_sadness_df.groupby('year_month').size()\n",
    "medicine_sadness_per_month_list = medicine_sadness_per_month.tolist()\n",
    "medicine_sadness_per_month_percentage_list = [(medicine_sadness_per_month_list / medicine_data_months_list) * 100 for medicine_sadness_per_month_list, medicine_data_months_list in zip(medicine_sadness_per_month_list, medicine_data_months_list)]"
   ]
  },
  {
   "cell_type": "code",
   "execution_count": 110,
   "id": "f88c0863-28bb-4eac-9b61-81754386f9b4",
   "metadata": {},
   "outputs": [],
   "source": [
    "media_positive_sent_df = media_data[media_data['sentiment_results'] >= 0.5]\n",
    "media_positive_sent_per_month = media_positive_sent_df.groupby('year_month').size()\n",
    "media_positive_sent_per_month_list = media_positive_sent_per_month.tolist()\n",
    "media_positive_sent_per_month_percentage_list = [(media_positive_sent_per_month_list / media_data_months_list) * 100 for media_positive_sent_per_month_list, media_data_months_list in zip(media_positive_sent_per_month_list, media_data_months_list)]\n",
    "\n",
    "media_official_report_df = media_data[media_data['official_report_results'] >= 0.5]\n",
    "media_official_report_per_month = media_official_report_df.groupby('year_month').size()\n",
    "media_official_report_per_month_list = media_official_report_per_month.tolist()\n",
    "media_official_report_per_month_percentage_list = [(media_official_report_per_month_list / media_data_months_list) * 100 for media_official_report_per_month_list, media_data_months_list in zip(media_official_report_per_month_list, media_data_months_list)]\n",
    "\n",
    "media_joyful_df = media_data[media_data['joyful_results'] >= 0.5]\n",
    "media_joyful_per_month = media_joyful_df.groupby('year_month').size()\n",
    "media_joyful_per_month_list = media_joyful_per_month.tolist()\n",
    "media_joyful_per_month_percentage_list = [(media_joyful_per_month_list / media_data_months_list) * 100 for media_joyful_per_month_list, media_data_months_list in zip(media_joyful_per_month_list, media_data_months_list)]\n",
    "\n",
    "media_love_df = media_data[media_data['love_results'] >= 0.5]\n",
    "media_love_per_month = media_love_df.groupby('year_month').size()\n",
    "media_love_per_month_list = media_love_per_month.tolist()\n",
    "media_love_per_month_percentage_list = [(media_love_per_month_list / media_data_months_list) * 100 for media_love_per_month_list, media_data_months_list in zip(media_love_per_month_list, media_data_months_list)]\n",
    "\n",
    "media_anger_df = media_data[media_data['anger_results'] >= 0.5]\n",
    "media_anger_per_month = media_anger_df.groupby('year_month').size()\n",
    "media_anger_per_month_list = media_anger_per_month.tolist()\n",
    "media_anger_per_month_percentage_list = [(media_anger_per_month_list / media_data_months_list) * 100 for media_anger_per_month_list, media_data_months_list in zip(media_anger_per_month_list, media_data_months_list)]\n",
    "\n",
    "media_sadness_df = media_data[media_data['sadness_results'] >= 0.5]\n",
    "media_sadness_per_month = media_sadness_df.groupby('year_month').size()\n",
    "media_sadness_per_month_list = media_sadness_per_month.tolist()\n",
    "media_sadness_per_month_percentage_list = [(media_sadness_per_month_list / media_data_months_list) * 100 for media_sadness_per_month_list, media_data_months_list in zip(media_sadness_per_month_list, media_data_months_list)]"
   ]
  },
  {
   "cell_type": "markdown",
   "id": "6b7164fb-3554-4dcc-ba35-2b6d9859357e",
   "metadata": {},
   "source": [
    "### Plotting the Sentiments and Emotions of Different Professions"
   ]
  },
  {
   "cell_type": "code",
   "execution_count": 135,
   "id": "1b649b35-2485-441a-8c2c-e758e8edfbf8",
   "metadata": {},
   "outputs": [
    {
     "data": {
      "image/png": "[encoded data removed]",
      "text/plain": [
       "<Figure size 640x480 with 1 Axes>"
      ]
     },
     "metadata": {},
     "output_type": "display_data"
    }
   ],
   "source": [
    "plt.plot(network_positive_sent_per_month_percentage_list, label='Positive Sentiment', color='r', linestyle='-', marker='o')\n",
    "#plt.plot(network_official_report_per_month_percentage_list, label='Official Report', color='g', linestyle='--', marker='x')\n",
    "\n",
    "x_ticks_positions = [0, 1, 2, 3, 4, 5, 6, 7, 8, 9, 10, 11, 12, 13, 14]\n",
    "months = ['2020-12', '2021-01', '2021-02', '2021-03', '2021-04', '2021-05', '2021-06', '2021-07', '2021-08', '2021-09', '2021-10', '2021-11', '2021-12', '2022-01', '2022-02']\n",
    "plt.xticks(ticks=x_ticks_positions, labels=months, rotation=45)\n",
    "\n",
    "plt.xlabel('Months')\n",
    "plt.ylabel('Percentage')\n",
    "plt.title('Percentage of Tweets with Positive Sentiment (Full)')\n",
    "plt.legend()\n",
    "\n",
    "plt.show()"
   ]
  },
  {
   "cell_type": "code",
   "execution_count": 122,
   "id": "cea83a8d-a47a-497e-8df7-b44bcb69cce1",
   "metadata": {},
   "outputs": [
    {
     "data": {
      "image/png": "[encoded data removed]",
      "text/plain": [
       "<Figure size 640x480 with 1 Axes>"
      ]
     },
     "metadata": {},
     "output_type": "display_data"
    }
   ],
   "source": [
    "plt.plot(network_joyful_per_month_percentage_list, label='Joyful', color='r', linestyle='-.', marker='o')\n",
    "plt.plot(network_love_per_month_percentage_list, label='Love', color='y', linestyle=':', marker='o')\n",
    "plt.plot(network_anger_per_month_percentage_list, label='Anger', color='b', linestyle='-', marker='o')\n",
    "plt.plot(network_sadness_per_month_percentage_list, label='Sadness', color='g', linestyle='--', marker='o')\n",
    "\n",
    "plt.xlabel('Months')\n",
    "plt.ylabel('Percentage')\n",
    "plt.title('Percentage of Tweets with Given Emotion (Full)')\n",
    "plt.legend()\n",
    "\n",
    "plt.show()"
   ]
  },
  {
   "cell_type": "code",
   "execution_count": 124,
   "id": "a5496f5a-c318-4b94-894a-5b987dfaa13c",
   "metadata": {},
   "outputs": [
    {
     "data": {
      "image/png": "[encoded data removed]",
      "text/plain": [
       "<Figure size 640x480 with 1 Axes>"
      ]
     },
     "metadata": {},
     "output_type": "display_data"
    }
   ],
   "source": [
    "plt.plot(medicine_positive_sent_per_month_percentage_list, label='Positive Sentiment', color='r', linestyle='-', marker='o')\n",
    "#plt.plot(network_official_report_per_month_percentage_list, label='Official Report', color='g', linestyle='--', marker='x')\n",
    "\n",
    "plt.xlabel('Months')\n",
    "plt.ylabel('Percentage')\n",
    "plt.title('Percentage of Tweets with Positive Sentiment (Medicine and Medicine Researcher)')\n",
    "plt.legend()\n",
    "\n",
    "plt.show()"
   ]
  },
  {
   "cell_type": "code",
   "execution_count": 130,
   "id": "55cd3cc4-dca7-4f3a-ba68-9a47c16255c1",
   "metadata": {},
   "outputs": [
    {
     "data": {
      "image/png": "[encoded data removed]",
      "text/plain": [
       "<Figure size 640x480 with 1 Axes>"
      ]
     },
     "metadata": {},
     "output_type": "display_data"
    }
   ],
   "source": [
    "plt.plot(medicine_joyful_per_month_percentage_list, label='Joyful', color='r', linestyle='-.', marker='o')\n",
    "plt.plot(medicine_love_per_month_percentage_list, label='Love', color='y', linestyle=':', marker='o')\n",
    "plt.plot(medicine_anger_per_month_percentage_list, label='Anger', color='b', linestyle='-', marker='o')\n",
    "plt.plot(medicine_sadness_per_month_percentage_list, label='Sadness', color='g', linestyle='--', marker='o')\n",
    "\n",
    "plt.xlabel('Months')\n",
    "plt.ylabel('Percentage')\n",
    "plt.title('Percentage of Tweets with Given Emotion (Medicine and Medicine Researcher)')\n",
    "plt.legend()\n",
    "\n",
    "plt.show()"
   ]
  },
  {
   "cell_type": "code",
   "execution_count": 128,
   "id": "1222a7e2-de26-470e-9f5d-b0c85ad0c772",
   "metadata": {},
   "outputs": [
    {
     "data": {
      "image/png": "[encoded data removed]",
      "text/plain": [
       "<Figure size 640x480 with 1 Axes>"
      ]
     },
     "metadata": {},
     "output_type": "display_data"
    }
   ],
   "source": [
    "plt.plot(media_positive_sent_per_month_percentage_list, label='Positive Sentiment', color='r', linestyle='-', marker='o')\n",
    "#plt.plot(network_official_report_per_month_percentage_list, label='Official Report', color='g', linestyle='--', marker='x')\n",
    "\n",
    "plt.xlabel('Months')\n",
    "plt.ylabel('Percentage')\n",
    "plt.title('Percentage of Tweets with Positive Sentiment (Media)')\n",
    "plt.legend()\n",
    "\n",
    "plt.show()"
   ]
  },
  {
   "cell_type": "code",
   "execution_count": 129,
   "id": "26d22d10-8c47-4ce9-adc9-e9482426d766",
   "metadata": {},
   "outputs": [
    {
     "data": {
      "image/png": "[encoded data removed]",
      "text/plain": [
       "<Figure size 640x480 with 1 Axes>"
      ]
     },
     "metadata": {},
     "output_type": "display_data"
    }
   ],
   "source": [
    "plt.plot(media_joyful_per_month_percentage_list, label='Joyful', color='r', linestyle='-.', marker='o')\n",
    "plt.plot(media_love_per_month_percentage_list, label='Love', color='y', linestyle=':', marker='o')\n",
    "plt.plot(media_anger_per_month_percentage_list, label='Anger', color='b', linestyle='-', marker='o')\n",
    "plt.plot(media_sadness_per_month_percentage_list, label='Sadness', color='g', linestyle='--', marker='o')\n",
    "\n",
    "plt.xlabel('Months')\n",
    "plt.ylabel('Percentage')\n",
    "plt.title('Percentage of Tweets with Given Emotion (Media)')\n",
    "plt.legend()\n",
    "\n",
    "plt.show()"
   ]
  },
  {
   "cell_type": "markdown",
   "id": "38254327-a978-4665-8edc-372037208f5a",
   "metadata": {},
   "source": [
    "## Analyzing the Sentiments of High Frequency Topics"
   ]
  },
  {
   "cell_type": "code",
   "execution_count": 13,
   "id": "931a10d3-0036-4a06-b097-fa3f937a7f7c",
   "metadata": {},
   "outputs": [],
   "source": [
    "# Take the highly talked about topics, and plot their sentiment "
   ]
  },
  {
   "cell_type": "markdown",
   "id": "e9663b62-a48b-4cc3-bcaa-504740c029d4",
   "metadata": {},
   "source": [
    "### Network Data"
   ]
  },
  {
   "cell_type": "code",
   "execution_count": 14,
   "id": "4f62e07f-d5d8-4d29-81aa-50de5c60b75b",
   "metadata": {},
   "outputs": [],
   "source": [
    "topics = network_data['topic_words'].value_counts()\n",
    "topics_pruned = topics[1:].copy()"
   ]
  },
  {
   "cell_type": "code",
   "execution_count": 15,
   "id": "33d2e0e5-9914-434b-a306-b50837ce3768",
   "metadata": {},
   "outputs": [],
   "source": [
    "mean = np.mean(topics_pruned)\n",
    "std_dev = np.std(topics_pruned)\n",
    "std_index = (np.abs(topics_pruned - std_dev)).idxmin()\n",
    "std_pos_index = topics_pruned.index.get_loc(std_index) * 2"
   ]
  },
  {
   "cell_type": "code",
   "execution_count": 16,
   "id": "9076f9c7-c338-4867-bc9a-4fc653649e47",
   "metadata": {},
   "outputs": [],
   "source": [
    "# Inter-Quartile Range\n",
    "top_perc = np.percentile(topics_pruned, 95)\n",
    "bottom_perc = np.std(topics_pruned)\n",
    "perc_range = top_perc - bottom_perc\n",
    "\n",
    "# Find the indices of the closest values to the percentiles\n",
    "top_index = (np.abs(topics_pruned - top_perc)).idxmin()\n",
    "bottom_index = (np.abs(topics_pruned - std_dev)).idxmin()\n",
    "\n",
    "# This is used to find the index of the last item in the Highly used topics\n",
    "top_pos_index = topics_pruned.index.get_loc(top_index)\n",
    "\n",
    "# This is used to find the index of the last item in the frequently used topics\n",
    "bottom_pos_index = topics_pruned.index.get_loc(bottom_index) * 2"
   ]
  },
  {
   "cell_type": "markdown",
   "id": "6b3a3d39-4bc6-4c2c-95f8-26b396deabe9",
   "metadata": {},
   "source": [
    "### Creating Dataset of highly and frequently talked about topics"
   ]
  },
  {
   "cell_type": "code",
   "execution_count": 17,
   "id": "4c13c575-3218-400f-a7a6-07a3694bdc6f",
   "metadata": {},
   "outputs": [],
   "source": [
    "highly_topics_pruned = topics_pruned[:top_pos_index]\n",
    "frequently_topics_pruned = topics_pruned[top_pos_index:bottom_pos_index]"
   ]
  },
  {
   "cell_type": "code",
   "execution_count": 18,
   "id": "52c53745-1791-4a74-914f-a0eced14a0c1",
   "metadata": {},
   "outputs": [],
   "source": [
    "highly_topics_network_data = network_data[network_data['topic_words'].isin(highly_topics_pruned.index.tolist())]\n",
    "frequently_topics_network_data = network_data[network_data['topic_words'].isin(frequently_topics_pruned.index.tolist())]"
   ]
  },
  {
   "cell_type": "markdown",
   "id": "0dbe5490-d1c7-401b-b6d3-201dda4bf802",
   "metadata": {},
   "source": [
    "### Getting Sentiment Frequency"
   ]
  },
  {
   "cell_type": "code",
   "execution_count": 19,
   "id": "07b67851-47f4-4ee6-9777-f681b3928452",
   "metadata": {},
   "outputs": [],
   "source": [
    "counted_cols = ['sentiment_results', 'official_report_results', 'joyful_results', 'love_results', 'anger_results', 'sadness_results']\n",
    "\n",
    "highly_topics_network_data_binary = highly_topics_network_data[counted_cols].applymap(lambda x: 1 if x >= 0.5 else 0)\n",
    "highly_topics_network_data_binary[['topic_words', 'year_month']] = highly_topics_network_data[['topic_words', 'year_month']]\n",
    "\n",
    "frequently_topics_network_data_binary = frequently_topics_network_data[counted_cols].applymap(lambda x: 1 if x >= 0.5 else 0)\n",
    "frequently_topics_network_data_binary[['topic_words', 'year_month']] = frequently_topics_network_data[['topic_words', 'year_month']]"
   ]
  },
  {
   "cell_type": "code",
   "execution_count": 20,
   "id": "02ff01a3-5ca8-4526-9cbb-aec095bfa066",
   "metadata": {},
   "outputs": [],
   "source": [
    "highly_topics_network_data_binary_grouped_theme = highly_topics_network_data_binary.groupby('topic_words')[['sentiment_results', 'official_report_results', 'joyful_results', 'love_results', 'anger_results', 'sadness_results']].sum().reset_index()\n",
    "frequently_topics_network_data_binary_grouped_theme = frequently_topics_network_data_binary.groupby('topic_words')[['sentiment_results', 'official_report_results', 'joyful_results', 'love_results', 'anger_results', 'sadness_results']].sum().reset_index()"
   ]
  },
  {
   "cell_type": "code",
   "execution_count": 21,
   "id": "de131cd0-e679-4ad2-83b4-d70b6f40194b",
   "metadata": {},
   "outputs": [],
   "source": [
    "highly_topics_network_data_binary_grouped_theme_counts = highly_topics_network_data_binary['topic_words'].value_counts().reset_index()\n",
    "frequently_topics_network_data_binary_grouped_theme_counts = frequently_topics_network_data_binary['topic_words'].value_counts().reset_index()"
   ]
  },
  {
   "cell_type": "code",
   "execution_count": 22,
   "id": "78b11bdc-92cc-40f6-a6e1-3825993a7e93",
   "metadata": {},
   "outputs": [],
   "source": [
    "highly_topics_network_data_binary_grouped_theme_counts = pd.merge(highly_topics_network_data_binary_grouped_theme, highly_topics_network_data_binary_grouped_theme_counts, on='topic_words')\n",
    "frequently_topics_network_data_binary_grouped_theme_counts = pd.merge(frequently_topics_network_data_binary_grouped_theme, frequently_topics_network_data_binary_grouped_theme_counts, on='topic_words')"
   ]
  },
  {
   "cell_type": "markdown",
   "id": "a5c79650-0288-4912-b460-cb721f961c2c",
   "metadata": {},
   "source": [
    "### Getting Sentiment Frequency Over Time"
   ]
  },
  {
   "cell_type": "code",
   "execution_count": 33,
   "id": "7fe17d4f-f716-4ebb-b7d0-1a79c5fd4501",
   "metadata": {},
   "outputs": [],
   "source": [
    "highly_topics_network_data_binary_month_grouped = highly_topics_network_data_binary.groupby(['year_month', 'topic_words'])[counted_cols].sum().reset_index()\n",
    "highly_topics_network_data_binary_counts = highly_topics_network_data_binary.groupby(['year_month', 'topic_words']).size().reset_index(name='count')\n",
    "highly_topics_network_data_binary_month_grouped = pd.merge(highly_topics_network_data_binary_month_grouped, highly_topics_network_data_binary_counts, on=['year_month', 'topic_words'])\n",
    "\n",
    "frequently_topics_network_data_binary_month_grouped = frequently_topics_network_data_binary.groupby(['year_month', 'topic_words'])[counted_cols].sum().reset_index()\n",
    "frequently_topics_network_data_binary_counts = frequently_topics_network_data_binary.groupby(['year_month', 'topic_words']).size().reset_index(name='count')\n",
    "frequently_topics_network_data_binary_month_grouped = pd.merge(frequently_topics_network_data_binary_month_grouped, frequently_topics_network_data_binary_counts, on=['year_month', 'topic_words'])"
   ]
  },
  {
   "cell_type": "markdown",
   "id": "3b4ad8ed-81e0-4db3-9615-c42660f42a6d",
   "metadata": {},
   "source": [
    "## Analyzing the Sentiments of Themes"
   ]
  },
  {
   "cell_type": "code",
   "execution_count": 152,
   "id": "3cebf5c1-d0bf-4c42-99b8-cfafdc152392",
   "metadata": {},
   "outputs": [],
   "source": [
    "# Take the sentiments of the themes created and plot their sentiment"
   ]
  },
  {
   "cell_type": "code",
   "execution_count": 153,
   "id": "04aa5f20-a269-465b-a0ba-901c578913a9",
   "metadata": {},
   "outputs": [],
   "source": [
    "# Importing Data with the Relevant Themes\n",
    "network_organized_data = pd.read_excel('../labelled_data/organized_topics/organized_network_topics.xlsx')\n",
    "medicine_organized_data = pd.read_excel('../labelled_data/organized_topics/organized_medicine_topics.xlsx')\n",
    "media_organized_data = pd.read_excel('../labelled_data/organized_topics/organized_media_topics.xlsx')"
   ]
  },
  {
   "cell_type": "code",
   "execution_count": 154,
   "id": "afb1e988-836b-4149-92ac-44db5de95128",
   "metadata": {},
   "outputs": [],
   "source": [
    "# Combine the themes with the other data\n",
    "full_network_organized_data = pd.merge(network_data, network_organized_data, on='topic_words', how='left')\n",
    "full_medicine_organized_data = pd.merge(medicine_data, medicine_organized_data, on='topic_words', how='left')\n",
    "full_media_organized_data = pd.merge(media_data, media_organized_data, on='topic_words', how='left')"
   ]
  },
  {
   "cell_type": "code",
   "execution_count": 155,
   "id": "d18ffdf6-3c21-4bfd-a445-e62ce78b1179",
   "metadata": {},
   "outputs": [],
   "source": [
    "counted_cols = ['sentiment_results', 'official_report_results', 'joyful_results', 'love_results', 'anger_results', 'sadness_results']\n",
    "\n",
    "full_network_organized_data_binary = full_network_organized_data[counted_cols].applymap(lambda x: 1 if x >= 0.5 else 0)\n",
    "full_network_organized_data_binary[['theme', 'sub-theme', 'year_month']] = full_network_organized_data[['theme', 'sub-theme', 'year_month']]\n",
    "\n",
    "full_medicine_organized_data_binary = full_medicine_organized_data[counted_cols].applymap(lambda x: 1 if x >= 0.5 else 0)\n",
    "full_medicine_organized_data_binary[['theme', 'sub-theme', 'year_month']] = full_medicine_organized_data[['theme', 'sub-theme', 'year_month']]\n",
    "\n",
    "full_media_organized_data_binary = full_media_organized_data[counted_cols].applymap(lambda x: 1 if x >= 0.5 else 0)\n",
    "full_media_organized_data_binary[['theme', 'sub-theme', 'year_month']] = full_media_organized_data[['theme', 'sub-theme', 'year_month']]"
   ]
  },
  {
   "cell_type": "code",
   "execution_count": 156,
   "id": "9d3f4730-a3a8-4a27-a86a-ae336fb7253e",
   "metadata": {},
   "outputs": [],
   "source": [
    "full_network_organized_data_grouped_theme = full_network_organized_data_binary.groupby(['theme', 'sub-theme'])[counted_cols].sum().reset_index()\n",
    "full_medicine_organized_data_grouped_theme = full_medicine_organized_data_binary.groupby(['theme', 'sub-theme'])[counted_cols].sum().reset_index()\n",
    "full_media_organized_data_grouped_theme = full_media_organized_data_binary.groupby(['theme', 'sub-theme'])[counted_cols].sum().reset_index()"
   ]
  },
  {
   "cell_type": "code",
   "execution_count": 157,
   "id": "b0647811-b2ee-4c3e-8aaa-834cf9b31aab",
   "metadata": {},
   "outputs": [],
   "source": [
    "full_network_theme_counts = full_network_organized_data.groupby(['theme', 'sub-theme']).size().reset_index(name='count')\n",
    "full_medicine_theme_counts = full_medicine_organized_data.groupby(['theme', 'sub-theme']).size().reset_index(name='count')\n",
    "full_media_theme_counts = full_media_organized_data.groupby(['theme', 'sub-theme']).size().reset_index(name='count')"
   ]
  },
  {
   "cell_type": "code",
   "execution_count": 158,
   "id": "c3462bf5-40a2-4212-954c-fd8e0f0b0c07",
   "metadata": {},
   "outputs": [],
   "source": [
    "full_network_organized_data_grouped_theme = pd.merge(full_network_organized_data_grouped_theme, full_network_theme_counts, on=['theme', 'sub-theme'])\n",
    "full_medicine_organized_data_grouped_theme = pd.merge(full_medicine_organized_data_grouped_theme, full_medicine_theme_counts, on=['theme', 'sub-theme'])\n",
    "full_media_organized_data_grouped_theme = pd.merge(full_media_organized_data_grouped_theme, full_media_theme_counts, on=['theme', 'sub-theme'])"
   ]
  },
  {
   "cell_type": "markdown",
   "id": "84e1fd91-014e-4508-bf8a-5e8e8e6c79b7",
   "metadata": {},
   "source": [
    "### Analyzing the Sentiments of Themes Overtime"
   ]
  },
  {
   "cell_type": "code",
   "execution_count": 159,
   "id": "e1c53215-ca4a-4d0f-af36-b5d67a5a6d64",
   "metadata": {},
   "outputs": [],
   "source": [
    "# Group by year_month and theme, then sum the binary values\n",
    "full_network_organized_data_binary_month_grouped = full_network_organized_data_binary.groupby(['year_month', 'theme', 'sub-theme'])[counted_cols].sum().reset_index()\n",
    "full_network_organized_data_binary_month_theme_counts = full_network_organized_data_binary.groupby(['year_month', 'theme', 'sub-theme']).size().reset_index(name='count')\n",
    "full_network_organized_data_binary_month_grouped = pd.merge(full_network_organized_data_binary_month_grouped, full_network_organized_data_binary_month_theme_counts, on=['year_month', 'theme', 'sub-theme'])\n",
    "\n",
    "full_medicine_organized_data_binary_month_grouped = full_medicine_organized_data_binary.groupby(['year_month', 'theme', 'sub-theme'])[counted_cols].sum().reset_index()\n",
    "full_medicine_organized_data_binary_month_theme_counts = full_medicine_organized_data_binary.groupby(['year_month', 'theme', 'sub-theme']).size().reset_index(name='count')\n",
    "full_medicine_organized_data_binary_month_grouped = pd.merge(full_medicine_organized_data_binary_month_grouped, full_medicine_organized_data_binary_month_theme_counts, on=['year_month', 'theme', 'sub-theme'])\n",
    "\n",
    "full_media_organized_data_binary_month_grouped = full_media_organized_data_binary.groupby(['year_month', 'theme', 'sub-theme'])[counted_cols].sum().reset_index()\n",
    "full_media_organized_data_binary_month_theme_counts = full_media_organized_data_binary.groupby(['year_month', 'theme', 'sub-theme']).size().reset_index(name='count')\n",
    "full_media_organized_data_binary_month_grouped = pd.merge(full_media_organized_data_binary_month_grouped, full_media_organized_data_binary_month_theme_counts, on=['year_month', 'theme', 'sub-theme'])"
   ]
  },
  {
   "cell_type": "code",
   "execution_count": 171,
   "id": "d0b365ae-41e0-4333-85f4-184ccf049c93",
   "metadata": {},
   "outputs": [
    {
     "data": {
      "text/html": [
       "<div>\n",
       "<style scoped>\n",
       "    .dataframe tbody tr th:only-of-type {\n",
       "        vertical-align: middle;\n",
       "    }\n",
       "\n",
       "    .dataframe tbody tr th {\n",
       "        vertical-align: top;\n",
       "    }\n",
       "\n",
       "    .dataframe thead th {\n",
       "        text-align: right;\n",
       "    }\n",
       "</style>\n",
       "<table border=\"1\" class=\"dataframe\">\n",
       "  <thead>\n",
       "    <tr style=\"text-align: right;\">\n",
       "      <th></th>\n",
       "      <th>year_month</th>\n",
       "      <th>theme</th>\n",
       "      <th>sub-theme</th>\n",
       "      <th>sentiment_results</th>\n",
       "      <th>official_report_results</th>\n",
       "      <th>joyful_results</th>\n",
       "      <th>love_results</th>\n",
       "      <th>anger_results</th>\n",
       "      <th>sadness_results</th>\n",
       "      <th>count</th>\n",
       "    </tr>\n",
       "  </thead>\n",
       "  <tbody>\n",
       "    <tr>\n",
       "      <th>645</th>\n",
       "      <td>2021-07</td>\n",
       "      <td>awareness</td>\n",
       "      <td>america</td>\n",
       "      <td>9</td>\n",
       "      <td>5</td>\n",
       "      <td>1</td>\n",
       "      <td>2</td>\n",
       "      <td>3</td>\n",
       "      <td>4</td>\n",
       "      <td>32</td>\n",
       "    </tr>\n",
       "    <tr>\n",
       "      <th>648</th>\n",
       "      <td>2021-07</td>\n",
       "      <td>awareness</td>\n",
       "      <td>canada</td>\n",
       "      <td>2</td>\n",
       "      <td>23</td>\n",
       "      <td>0</td>\n",
       "      <td>0</td>\n",
       "      <td>0</td>\n",
       "      <td>0</td>\n",
       "      <td>23</td>\n",
       "    </tr>\n",
       "    <tr>\n",
       "      <th>649</th>\n",
       "      <td>2021-07</td>\n",
       "      <td>awareness</td>\n",
       "      <td>cases</td>\n",
       "      <td>12</td>\n",
       "      <td>28</td>\n",
       "      <td>3</td>\n",
       "      <td>1</td>\n",
       "      <td>2</td>\n",
       "      <td>4</td>\n",
       "      <td>50</td>\n",
       "    </tr>\n",
       "    <tr>\n",
       "      <th>651</th>\n",
       "      <td>2021-07</td>\n",
       "      <td>awareness</td>\n",
       "      <td>death</td>\n",
       "      <td>12</td>\n",
       "      <td>33</td>\n",
       "      <td>3</td>\n",
       "      <td>1</td>\n",
       "      <td>2</td>\n",
       "      <td>16</td>\n",
       "      <td>52</td>\n",
       "    </tr>\n",
       "    <tr>\n",
       "      <th>653</th>\n",
       "      <td>2021-07</td>\n",
       "      <td>awareness</td>\n",
       "      <td>hiv</td>\n",
       "      <td>7</td>\n",
       "      <td>2</td>\n",
       "      <td>1</td>\n",
       "      <td>1</td>\n",
       "      <td>2</td>\n",
       "      <td>0</td>\n",
       "      <td>13</td>\n",
       "    </tr>\n",
       "    <tr>\n",
       "      <th>654</th>\n",
       "      <td>2021-07</td>\n",
       "      <td>awareness</td>\n",
       "      <td>longcovid</td>\n",
       "      <td>9</td>\n",
       "      <td>16</td>\n",
       "      <td>0</td>\n",
       "      <td>1</td>\n",
       "      <td>0</td>\n",
       "      <td>1</td>\n",
       "      <td>21</td>\n",
       "    </tr>\n",
       "    <tr>\n",
       "      <th>657</th>\n",
       "      <td>2021-07</td>\n",
       "      <td>awareness</td>\n",
       "      <td>racism</td>\n",
       "      <td>2</td>\n",
       "      <td>2</td>\n",
       "      <td>0</td>\n",
       "      <td>1</td>\n",
       "      <td>6</td>\n",
       "      <td>1</td>\n",
       "      <td>16</td>\n",
       "    </tr>\n",
       "    <tr>\n",
       "      <th>660</th>\n",
       "      <td>2021-07</td>\n",
       "      <td>children</td>\n",
       "      <td>infertility</td>\n",
       "      <td>6</td>\n",
       "      <td>6</td>\n",
       "      <td>0</td>\n",
       "      <td>4</td>\n",
       "      <td>0</td>\n",
       "      <td>2</td>\n",
       "      <td>12</td>\n",
       "    </tr>\n",
       "    <tr>\n",
       "      <th>661</th>\n",
       "      <td>2021-07</td>\n",
       "      <td>children</td>\n",
       "      <td>prevent</td>\n",
       "      <td>10</td>\n",
       "      <td>4</td>\n",
       "      <td>1</td>\n",
       "      <td>3</td>\n",
       "      <td>0</td>\n",
       "      <td>0</td>\n",
       "      <td>21</td>\n",
       "    </tr>\n",
       "    <tr>\n",
       "      <th>663</th>\n",
       "      <td>2021-07</td>\n",
       "      <td>children</td>\n",
       "      <td>schools</td>\n",
       "      <td>10</td>\n",
       "      <td>14</td>\n",
       "      <td>0</td>\n",
       "      <td>7</td>\n",
       "      <td>5</td>\n",
       "      <td>3</td>\n",
       "      <td>39</td>\n",
       "    </tr>\n",
       "    <tr>\n",
       "      <th>664</th>\n",
       "      <td>2021-07</td>\n",
       "      <td>children</td>\n",
       "      <td>vaccine</td>\n",
       "      <td>21</td>\n",
       "      <td>21</td>\n",
       "      <td>1</td>\n",
       "      <td>6</td>\n",
       "      <td>0</td>\n",
       "      <td>5</td>\n",
       "      <td>38</td>\n",
       "    </tr>\n",
       "    <tr>\n",
       "      <th>666</th>\n",
       "      <td>2021-07</td>\n",
       "      <td>country</td>\n",
       "      <td>america</td>\n",
       "      <td>3</td>\n",
       "      <td>3</td>\n",
       "      <td>3</td>\n",
       "      <td>1</td>\n",
       "      <td>1</td>\n",
       "      <td>1</td>\n",
       "      <td>15</td>\n",
       "    </tr>\n",
       "    <tr>\n",
       "      <th>669</th>\n",
       "      <td>2021-07</td>\n",
       "      <td>culture</td>\n",
       "      <td>birds</td>\n",
       "      <td>23</td>\n",
       "      <td>5</td>\n",
       "      <td>0</td>\n",
       "      <td>6</td>\n",
       "      <td>0</td>\n",
       "      <td>0</td>\n",
       "      <td>28</td>\n",
       "    </tr>\n",
       "    <tr>\n",
       "      <th>672</th>\n",
       "      <td>2021-07</td>\n",
       "      <td>culture</td>\n",
       "      <td>food</td>\n",
       "      <td>18</td>\n",
       "      <td>2</td>\n",
       "      <td>6</td>\n",
       "      <td>5</td>\n",
       "      <td>1</td>\n",
       "      <td>2</td>\n",
       "      <td>23</td>\n",
       "    </tr>\n",
       "    <tr>\n",
       "      <th>681</th>\n",
       "      <td>2021-07</td>\n",
       "      <td>healthcare</td>\n",
       "      <td>shortage</td>\n",
       "      <td>6</td>\n",
       "      <td>7</td>\n",
       "      <td>0</td>\n",
       "      <td>0</td>\n",
       "      <td>0</td>\n",
       "      <td>0</td>\n",
       "      <td>13</td>\n",
       "    </tr>\n",
       "    <tr>\n",
       "      <th>683</th>\n",
       "      <td>2021-07</td>\n",
       "      <td>mutation</td>\n",
       "      <td>delta</td>\n",
       "      <td>65</td>\n",
       "      <td>73</td>\n",
       "      <td>4</td>\n",
       "      <td>16</td>\n",
       "      <td>8</td>\n",
       "      <td>8</td>\n",
       "      <td>167</td>\n",
       "    </tr>\n",
       "    <tr>\n",
       "      <th>684</th>\n",
       "      <td>2021-07</td>\n",
       "      <td>mutation</td>\n",
       "      <td>general</td>\n",
       "      <td>46</td>\n",
       "      <td>44</td>\n",
       "      <td>3</td>\n",
       "      <td>6</td>\n",
       "      <td>3</td>\n",
       "      <td>3</td>\n",
       "      <td>83</td>\n",
       "    </tr>\n",
       "    <tr>\n",
       "      <th>687</th>\n",
       "      <td>2021-07</td>\n",
       "      <td>origins</td>\n",
       "      <td>wuhan_lab</td>\n",
       "      <td>5</td>\n",
       "      <td>11</td>\n",
       "      <td>1</td>\n",
       "      <td>0</td>\n",
       "      <td>0</td>\n",
       "      <td>0</td>\n",
       "      <td>23</td>\n",
       "    </tr>\n",
       "    <tr>\n",
       "      <th>691</th>\n",
       "      <td>2021-07</td>\n",
       "      <td>politics</td>\n",
       "      <td>america</td>\n",
       "      <td>11</td>\n",
       "      <td>8</td>\n",
       "      <td>2</td>\n",
       "      <td>1</td>\n",
       "      <td>2</td>\n",
       "      <td>1</td>\n",
       "      <td>25</td>\n",
       "    </tr>\n",
       "    <tr>\n",
       "      <th>694</th>\n",
       "      <td>2021-07</td>\n",
       "      <td>politics</td>\n",
       "      <td>climate</td>\n",
       "      <td>5</td>\n",
       "      <td>0</td>\n",
       "      <td>1</td>\n",
       "      <td>1</td>\n",
       "      <td>0</td>\n",
       "      <td>1</td>\n",
       "      <td>10</td>\n",
       "    </tr>\n",
       "    <tr>\n",
       "      <th>702</th>\n",
       "      <td>2021-07</td>\n",
       "      <td>politics</td>\n",
       "      <td>russia_ukraine_war</td>\n",
       "      <td>2</td>\n",
       "      <td>1</td>\n",
       "      <td>1</td>\n",
       "      <td>2</td>\n",
       "      <td>6</td>\n",
       "      <td>0</td>\n",
       "      <td>10</td>\n",
       "    </tr>\n",
       "    <tr>\n",
       "      <th>703</th>\n",
       "      <td>2021-07</td>\n",
       "      <td>politics</td>\n",
       "      <td>trump</td>\n",
       "      <td>8</td>\n",
       "      <td>4</td>\n",
       "      <td>3</td>\n",
       "      <td>6</td>\n",
       "      <td>10</td>\n",
       "      <td>3</td>\n",
       "      <td>43</td>\n",
       "    </tr>\n",
       "    <tr>\n",
       "      <th>704</th>\n",
       "      <td>2021-07</td>\n",
       "      <td>prevent</td>\n",
       "      <td>awareness</td>\n",
       "      <td>4</td>\n",
       "      <td>4</td>\n",
       "      <td>0</td>\n",
       "      <td>1</td>\n",
       "      <td>0</td>\n",
       "      <td>0</td>\n",
       "      <td>11</td>\n",
       "    </tr>\n",
       "    <tr>\n",
       "      <th>707</th>\n",
       "      <td>2021-07</td>\n",
       "      <td>prevent</td>\n",
       "      <td>lockdown</td>\n",
       "      <td>5</td>\n",
       "      <td>20</td>\n",
       "      <td>1</td>\n",
       "      <td>0</td>\n",
       "      <td>3</td>\n",
       "      <td>3</td>\n",
       "      <td>31</td>\n",
       "    </tr>\n",
       "    <tr>\n",
       "      <th>708</th>\n",
       "      <td>2021-07</td>\n",
       "      <td>prevent</td>\n",
       "      <td>natural_immunity</td>\n",
       "      <td>13</td>\n",
       "      <td>2</td>\n",
       "      <td>2</td>\n",
       "      <td>1</td>\n",
       "      <td>1</td>\n",
       "      <td>0</td>\n",
       "      <td>17</td>\n",
       "    </tr>\n",
       "    <tr>\n",
       "      <th>709</th>\n",
       "      <td>2021-07</td>\n",
       "      <td>prevent</td>\n",
       "      <td>ppe</td>\n",
       "      <td>60</td>\n",
       "      <td>37</td>\n",
       "      <td>2</td>\n",
       "      <td>9</td>\n",
       "      <td>4</td>\n",
       "      <td>3</td>\n",
       "      <td>104</td>\n",
       "    </tr>\n",
       "    <tr>\n",
       "      <th>711</th>\n",
       "      <td>2021-07</td>\n",
       "      <td>prevent</td>\n",
       "      <td>social_distancing</td>\n",
       "      <td>40</td>\n",
       "      <td>17</td>\n",
       "      <td>3</td>\n",
       "      <td>15</td>\n",
       "      <td>5</td>\n",
       "      <td>0</td>\n",
       "      <td>72</td>\n",
       "    </tr>\n",
       "    <tr>\n",
       "      <th>716</th>\n",
       "      <td>2021-07</td>\n",
       "      <td>science</td>\n",
       "      <td>trust</td>\n",
       "      <td>9</td>\n",
       "      <td>1</td>\n",
       "      <td>1</td>\n",
       "      <td>5</td>\n",
       "      <td>4</td>\n",
       "      <td>2</td>\n",
       "      <td>16</td>\n",
       "    </tr>\n",
       "    <tr>\n",
       "      <th>718</th>\n",
       "      <td>2021-07</td>\n",
       "      <td>treatment</td>\n",
       "      <td>antiviral_pill</td>\n",
       "      <td>9</td>\n",
       "      <td>7</td>\n",
       "      <td>1</td>\n",
       "      <td>1</td>\n",
       "      <td>0</td>\n",
       "      <td>1</td>\n",
       "      <td>13</td>\n",
       "    </tr>\n",
       "    <tr>\n",
       "      <th>719</th>\n",
       "      <td>2021-07</td>\n",
       "      <td>treatment</td>\n",
       "      <td>conspiracy</td>\n",
       "      <td>3</td>\n",
       "      <td>8</td>\n",
       "      <td>0</td>\n",
       "      <td>0</td>\n",
       "      <td>1</td>\n",
       "      <td>0</td>\n",
       "      <td>15</td>\n",
       "    </tr>\n",
       "    <tr>\n",
       "      <th>720</th>\n",
       "      <td>2021-07</td>\n",
       "      <td>twitter</td>\n",
       "      <td>relevant_words</td>\n",
       "      <td>25</td>\n",
       "      <td>0</td>\n",
       "      <td>5</td>\n",
       "      <td>8</td>\n",
       "      <td>1</td>\n",
       "      <td>0</td>\n",
       "      <td>36</td>\n",
       "    </tr>\n",
       "    <tr>\n",
       "      <th>722</th>\n",
       "      <td>2021-07</td>\n",
       "      <td>vaccine</td>\n",
       "      <td>canada</td>\n",
       "      <td>44</td>\n",
       "      <td>21</td>\n",
       "      <td>2</td>\n",
       "      <td>16</td>\n",
       "      <td>0</td>\n",
       "      <td>0</td>\n",
       "      <td>54</td>\n",
       "    </tr>\n",
       "    <tr>\n",
       "      <th>724</th>\n",
       "      <td>2021-07</td>\n",
       "      <td>vaccine</td>\n",
       "      <td>equity</td>\n",
       "      <td>49</td>\n",
       "      <td>19</td>\n",
       "      <td>4</td>\n",
       "      <td>21</td>\n",
       "      <td>6</td>\n",
       "      <td>9</td>\n",
       "      <td>78</td>\n",
       "    </tr>\n",
       "    <tr>\n",
       "      <th>726</th>\n",
       "      <td>2021-07</td>\n",
       "      <td>vaccine</td>\n",
       "      <td>hesitancy</td>\n",
       "      <td>31</td>\n",
       "      <td>15</td>\n",
       "      <td>4</td>\n",
       "      <td>12</td>\n",
       "      <td>14</td>\n",
       "      <td>6</td>\n",
       "      <td>70</td>\n",
       "    </tr>\n",
       "    <tr>\n",
       "      <th>728</th>\n",
       "      <td>2021-07</td>\n",
       "      <td>vaccine</td>\n",
       "      <td>israel</td>\n",
       "      <td>21</td>\n",
       "      <td>29</td>\n",
       "      <td>0</td>\n",
       "      <td>5</td>\n",
       "      <td>1</td>\n",
       "      <td>2</td>\n",
       "      <td>50</td>\n",
       "    </tr>\n",
       "    <tr>\n",
       "      <th>729</th>\n",
       "      <td>2021-07</td>\n",
       "      <td>vaccine</td>\n",
       "      <td>mrna</td>\n",
       "      <td>13</td>\n",
       "      <td>11</td>\n",
       "      <td>4</td>\n",
       "      <td>3</td>\n",
       "      <td>0</td>\n",
       "      <td>0</td>\n",
       "      <td>20</td>\n",
       "    </tr>\n",
       "    <tr>\n",
       "      <th>731</th>\n",
       "      <td>2021-07</td>\n",
       "      <td>vaccine</td>\n",
       "      <td>support</td>\n",
       "      <td>22</td>\n",
       "      <td>22</td>\n",
       "      <td>0</td>\n",
       "      <td>3</td>\n",
       "      <td>5</td>\n",
       "      <td>8</td>\n",
       "      <td>57</td>\n",
       "    </tr>\n",
       "  </tbody>\n",
       "</table>\n",
       "</div>"
      ],
      "text/plain": [
       "    year_month       theme           sub-theme  sentiment_results  \\\n",
       "645    2021-07   awareness             america                  9   \n",
       "648    2021-07   awareness              canada                  2   \n",
       "649    2021-07   awareness               cases                 12   \n",
       "651    2021-07   awareness               death                 12   \n",
       "653    2021-07   awareness                 hiv                  7   \n",
       "654    2021-07   awareness           longcovid                  9   \n",
       "657    2021-07   awareness              racism                  2   \n",
       "660    2021-07    children         infertility                  6   \n",
       "661    2021-07    children             prevent                 10   \n",
       "663    2021-07    children             schools                 10   \n",
       "664    2021-07    children             vaccine                 21   \n",
       "666    2021-07     country             america                  3   \n",
       "669    2021-07     culture               birds                 23   \n",
       "672    2021-07     culture                food                 18   \n",
       "681    2021-07  healthcare            shortage                  6   \n",
       "683    2021-07    mutation               delta                 65   \n",
       "684    2021-07    mutation             general                 46   \n",
       "687    2021-07     origins           wuhan_lab                  5   \n",
       "691    2021-07    politics             america                 11   \n",
       "694    2021-07    politics             climate                  5   \n",
       "702    2021-07    politics  russia_ukraine_war                  2   \n",
       "703    2021-07    politics               trump                  8   \n",
       "704    2021-07     prevent           awareness                  4   \n",
       "707    2021-07     prevent            lockdown                  5   \n",
       "708    2021-07     prevent    natural_immunity                 13   \n",
       "709    2021-07     prevent                 ppe                 60   \n",
       "711    2021-07     prevent   social_distancing                 40   \n",
       "716    2021-07     science               trust                  9   \n",
       "718    2021-07   treatment      antiviral_pill                  9   \n",
       "719    2021-07   treatment          conspiracy                  3   \n",
       "720    2021-07     twitter      relevant_words                 25   \n",
       "722    2021-07     vaccine              canada                 44   \n",
       "724    2021-07     vaccine              equity                 49   \n",
       "726    2021-07     vaccine           hesitancy                 31   \n",
       "728    2021-07     vaccine              israel                 21   \n",
       "729    2021-07     vaccine                mrna                 13   \n",
       "731    2021-07     vaccine             support                 22   \n",
       "\n",
       "     official_report_results  joyful_results  love_results  anger_results  \\\n",
       "645                        5               1             2              3   \n",
       "648                       23               0             0              0   \n",
       "649                       28               3             1              2   \n",
       "651                       33               3             1              2   \n",
       "653                        2               1             1              2   \n",
       "654                       16               0             1              0   \n",
       "657                        2               0             1              6   \n",
       "660                        6               0             4              0   \n",
       "661                        4               1             3              0   \n",
       "663                       14               0             7              5   \n",
       "664                       21               1             6              0   \n",
       "666                        3               3             1              1   \n",
       "669                        5               0             6              0   \n",
       "672                        2               6             5              1   \n",
       "681                        7               0             0              0   \n",
       "683                       73               4            16              8   \n",
       "684                       44               3             6              3   \n",
       "687                       11               1             0              0   \n",
       "691                        8               2             1              2   \n",
       "694                        0               1             1              0   \n",
       "702                        1               1             2              6   \n",
       "703                        4               3             6             10   \n",
       "704                        4               0             1              0   \n",
       "707                       20               1             0              3   \n",
       "708                        2               2             1              1   \n",
       "709                       37               2             9              4   \n",
       "711                       17               3            15              5   \n",
       "716                        1               1             5              4   \n",
       "718                        7               1             1              0   \n",
       "719                        8               0             0              1   \n",
       "720                        0               5             8              1   \n",
       "722                       21               2            16              0   \n",
       "724                       19               4            21              6   \n",
       "726                       15               4            12             14   \n",
       "728                       29               0             5              1   \n",
       "729                       11               4             3              0   \n",
       "731                       22               0             3              5   \n",
       "\n",
       "     sadness_results  count  \n",
       "645                4     32  \n",
       "648                0     23  \n",
       "649                4     50  \n",
       "651               16     52  \n",
       "653                0     13  \n",
       "654                1     21  \n",
       "657                1     16  \n",
       "660                2     12  \n",
       "661                0     21  \n",
       "663                3     39  \n",
       "664                5     38  \n",
       "666                1     15  \n",
       "669                0     28  \n",
       "672                2     23  \n",
       "681                0     13  \n",
       "683                8    167  \n",
       "684                3     83  \n",
       "687                0     23  \n",
       "691                1     25  \n",
       "694                1     10  \n",
       "702                0     10  \n",
       "703                3     43  \n",
       "704                0     11  \n",
       "707                3     31  \n",
       "708                0     17  \n",
       "709                3    104  \n",
       "711                0     72  \n",
       "716                2     16  \n",
       "718                1     13  \n",
       "719                0     15  \n",
       "720                0     36  \n",
       "722                0     54  \n",
       "724                9     78  \n",
       "726                6     70  \n",
       "728                2     50  \n",
       "729                0     20  \n",
       "731                8     57  "
      ]
     },
     "execution_count": 171,
     "metadata": {},
     "output_type": "execute_result"
    }
   ],
   "source": [
    "full_network_organized_data_binary_month_grouped[(full_network_organized_data_binary_month_grouped['year_month'] == '2021-07') & (full_network_organized_data_binary_month_grouped['count'] >= 10)]"
   ]
  },
  {
   "cell_type": "code",
   "execution_count": 253,
   "id": "a62c3d1f-c851-4c18-8d79-447ac16493f8",
   "metadata": {},
   "outputs": [],
   "source": [
    "# Some factors in the growth in anger and sadness in July 2021 to August 2021\n",
    "# Vaccine Hesitancy (Anger)\n",
    "# Awareness Death (Anger & Sadness)\n",
    "# Vaccine Equity (Sadness)\n",
    "# Vaccine Support (Sadness)\n",
    "\n",
    "selected_theme = 'mutation'\n",
    "selected_sub_theme = 'delta'\n",
    "\n",
    "filtered_data = full_network_organized_data_binary_month_grouped[\n",
    "    (full_network_organized_data_binary_month_grouped['theme'] == selected_theme) &\n",
    "    (full_network_organized_data_binary_month_grouped['sub-theme'] == selected_sub_theme)\n",
    "]"
   ]
  },
  {
   "cell_type": "code",
   "execution_count": 254,
   "id": "92c9eb0b-279b-4979-83e6-ebb1f5adfdf4",
   "metadata": {},
   "outputs": [
    {
     "data": {
      "image/png": "[encoded data removed]",
      "text/plain": [
       "<Figure size 1000x600 with 1 Axes>"
      ]
     },
     "metadata": {},
     "output_type": "display_data"
    }
   ],
   "source": [
    "filtered_data = filtered_data.sort_values(by='year_month')\n",
    "\n",
    "# Plot the 'anger_results' as a line chart\n",
    "plt.figure(figsize=(10, 6))\n",
    "plt.plot(filtered_data['year_month'].astype(str), filtered_data['love_results'], marker='o', linestyle='-', color='r')\n",
    "\n",
    "# Set the labels and title\n",
    "plt.xlabel('Month')\n",
    "plt.ylabel('Anger Results')\n",
    "plt.title(f'Anger Results Over Time for {selected_theme} - {selected_sub_theme}')\n",
    "plt.xticks(rotation=45)  # Rotate x-ticks for better readability\n",
    "\n",
    "# Show the plot\n",
    "plt.tight_layout()\n",
    "plt.show()"
   ]
  },
  {
   "cell_type": "code",
   "execution_count": 198,
   "id": "a217e470-631a-47d6-8ed1-de3699d1aea1",
   "metadata": {},
   "outputs": [],
   "source": [
    "theme_subtheme_stats = full_network_organized_data_binary_month_grouped.groupby(['theme', 'sub-theme']).agg({\n",
    "    'sentiment_results': ['mean', 'std']\n",
    "}).reset_index()\n",
    "\n",
    "theme_subtheme_stats.columns = ['theme', 'sub-theme', 'mean_count', 'std_dev']\n",
    "\n",
    "theme_subtheme_stats['cv'] = theme_subtheme_stats['std_dev'] / theme_subtheme_stats['mean_count']\n",
    "\n",
    "theme_subtheme_stats_sorted = theme_subtheme_stats.sort_values(by='cv', ascending=False)"
   ]
  },
  {
   "cell_type": "code",
   "execution_count": 199,
   "id": "559e46ba-42ab-47a6-968c-b67c028c1a48",
   "metadata": {},
   "outputs": [
    {
     "data": {
      "text/html": [
       "<div>\n",
       "<style scoped>\n",
       "    .dataframe tbody tr th:only-of-type {\n",
       "        vertical-align: middle;\n",
       "    }\n",
       "\n",
       "    .dataframe tbody tr th {\n",
       "        vertical-align: top;\n",
       "    }\n",
       "\n",
       "    .dataframe thead th {\n",
       "        text-align: right;\n",
       "    }\n",
       "</style>\n",
       "<table border=\"1\" class=\"dataframe\">\n",
       "  <thead>\n",
       "    <tr style=\"text-align: right;\">\n",
       "      <th></th>\n",
       "      <th>theme</th>\n",
       "      <th>sub-theme</th>\n",
       "      <th>mean_count</th>\n",
       "      <th>std_dev</th>\n",
       "      <th>cv</th>\n",
       "    </tr>\n",
       "  </thead>\n",
       "  <tbody>\n",
       "    <tr>\n",
       "      <th>25</th>\n",
       "      <td>climate</td>\n",
       "      <td>america</td>\n",
       "      <td>0.166667</td>\n",
       "      <td>0.408248</td>\n",
       "      <td>2.449490</td>\n",
       "    </tr>\n",
       "    <tr>\n",
       "      <th>78</th>\n",
       "      <td>prevent</td>\n",
       "      <td>sweden</td>\n",
       "      <td>0.384615</td>\n",
       "      <td>0.869718</td>\n",
       "      <td>2.261268</td>\n",
       "    </tr>\n",
       "    <tr>\n",
       "      <th>48</th>\n",
       "      <td>mutation</td>\n",
       "      <td>omicron</td>\n",
       "      <td>30.800000</td>\n",
       "      <td>67.926641</td>\n",
       "      <td>2.205410</td>\n",
       "    </tr>\n",
       "    <tr>\n",
       "      <th>39</th>\n",
       "      <td>culture</td>\n",
       "      <td>wordle</td>\n",
       "      <td>5.571429</td>\n",
       "      <td>12.068486</td>\n",
       "      <td>2.166138</td>\n",
       "    </tr>\n",
       "    <tr>\n",
       "      <th>53</th>\n",
       "      <td>politics</td>\n",
       "      <td>afghanistan</td>\n",
       "      <td>4.250000</td>\n",
       "      <td>7.025464</td>\n",
       "      <td>1.653050</td>\n",
       "    </tr>\n",
       "    <tr>\n",
       "      <th>...</th>\n",
       "      <td>...</td>\n",
       "      <td>...</td>\n",
       "      <td>...</td>\n",
       "      <td>...</td>\n",
       "      <td>...</td>\n",
       "    </tr>\n",
       "    <tr>\n",
       "      <th>74</th>\n",
       "      <td>prevent</td>\n",
       "      <td>ppe</td>\n",
       "      <td>57.266667</td>\n",
       "      <td>20.810254</td>\n",
       "      <td>0.363392</td>\n",
       "    </tr>\n",
       "    <tr>\n",
       "      <th>73</th>\n",
       "      <td>prevent</td>\n",
       "      <td>natural_immunity</td>\n",
       "      <td>6.733333</td>\n",
       "      <td>2.404361</td>\n",
       "      <td>0.357083</td>\n",
       "    </tr>\n",
       "    <tr>\n",
       "      <th>91</th>\n",
       "      <td>twitter</td>\n",
       "      <td>relevant_words</td>\n",
       "      <td>23.466667</td>\n",
       "      <td>8.331238</td>\n",
       "      <td>0.355024</td>\n",
       "    </tr>\n",
       "    <tr>\n",
       "      <th>34</th>\n",
       "      <td>culture</td>\n",
       "      <td>food</td>\n",
       "      <td>21.600000</td>\n",
       "      <td>5.742075</td>\n",
       "      <td>0.265837</td>\n",
       "    </tr>\n",
       "    <tr>\n",
       "      <th>30</th>\n",
       "      <td>culture</td>\n",
       "      <td>birds</td>\n",
       "      <td>24.933333</td>\n",
       "      <td>6.474860</td>\n",
       "      <td>0.259687</td>\n",
       "    </tr>\n",
       "  </tbody>\n",
       "</table>\n",
       "<p>104 rows × 5 columns</p>\n",
       "</div>"
      ],
      "text/plain": [
       "       theme         sub-theme  mean_count    std_dev        cv\n",
       "25   climate           america    0.166667   0.408248  2.449490\n",
       "78   prevent            sweden    0.384615   0.869718  2.261268\n",
       "48  mutation           omicron   30.800000  67.926641  2.205410\n",
       "39   culture            wordle    5.571429  12.068486  2.166138\n",
       "53  politics       afghanistan    4.250000   7.025464  1.653050\n",
       "..       ...               ...         ...        ...       ...\n",
       "74   prevent               ppe   57.266667  20.810254  0.363392\n",
       "73   prevent  natural_immunity    6.733333   2.404361  0.357083\n",
       "91   twitter    relevant_words   23.466667   8.331238  0.355024\n",
       "34   culture              food   21.600000   5.742075  0.265837\n",
       "30   culture             birds   24.933333   6.474860  0.259687\n",
       "\n",
       "[104 rows x 5 columns]"
      ]
     },
     "execution_count": 199,
     "metadata": {},
     "output_type": "execute_result"
    }
   ],
   "source": [
    "theme_subtheme_stats_sorted"
   ]
  },
  {
   "cell_type": "code",
   "execution_count": null,
   "id": "9810fdd8-0007-4bd4-bfd2-fb297949158e",
   "metadata": {},
   "outputs": [],
   "source": []
  }
 ],
 "metadata": {
  "kernelspec": {
   "display_name": "Python (ta)",
   "language": "python",
   "name": "ta"
  },
  "language_info": {
   "codemirror_mode": {
    "name": "ipython",
    "version": 3
   },
   "file_extension": ".py",
   "mimetype": "text/x-python",
   "name": "python",
   "nbconvert_exporter": "python",
   "pygments_lexer": "ipython3",
   "version": "3.8.18"
  }
 },
 "nbformat": 4,
 "nbformat_minor": 5
}
