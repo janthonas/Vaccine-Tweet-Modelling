{
 "cells": [
  {
   "cell_type": "markdown",
   "id": "77cc7c16-7172-41f6-ad62-bf07c9087dca",
   "metadata": {},
   "source": [
    "## Importing Libraries"
   ]
  },
  {
   "cell_type": "code",
   "execution_count": 17,
   "id": "7fe12906-cae1-43ae-bff2-c49c9619240b",
   "metadata": {},
   "outputs": [],
   "source": [
    "# Pre-Processing\n",
    "import pandas as pd\n",
    "import re\n",
    "import emoji\n",
    "import contractions\n",
    "\n",
    "from sklearn.model_selection import train_test_split\n",
    "\n",
    "from transformers import AutoTokenizer, AutoModelForSequenceClassification, Trainer, TrainingArguments\n",
    "from datasets import Dataset\n",
    "\n",
    "import evaluate\n",
    "\n",
    "import numpy as np"
   ]
  },
  {
   "cell_type": "markdown",
   "id": "64957ded-a574-46bc-a357-801c1250967a",
   "metadata": {},
   "source": [
    "## Importing Data"
   ]
  },
  {
   "cell_type": "code",
   "execution_count": 18,
   "id": "91998952-7878-43a7-87b3-11a22f4ae4c6",
   "metadata": {},
   "outputs": [],
   "source": [
    "data_A_fp = 'twitter_data/custom_data/COVIDSenti-main/COVIDSenti-A.csv'\n",
    "data_B_fp = 'twitter_data/custom_data/COVIDSenti-main/COVIDSenti-B.csv'\n",
    "data_C_fp = 'twitter_data/custom_data/COVIDSenti-main/COVIDSenti-C.csv'"
   ]
  },
  {
   "cell_type": "code",
   "execution_count": 19,
   "id": "b1640b7a-c869-4efc-abaa-1f0f318d605b",
   "metadata": {},
   "outputs": [],
   "source": [
    "data_A_df = pd.read_csv(data_A_fp)\n",
    "data_B_df = pd.read_csv(data_B_fp)\n",
    "data_C_df = pd.read_csv(data_C_fp)\n",
    "data_full_df = pd.concat([data_A_df, data_B_df, data_C_df], ignore_index=True)"
   ]
  },
  {
   "cell_type": "code",
   "execution_count": 20,
   "id": "21efa988-4e15-4fd1-b52d-620c7788fa4d",
   "metadata": {},
   "outputs": [],
   "source": [
    "# Removal of links\n",
    "def remove_urls(doc):\n",
    "    return re.sub(r'http\\S+', '', doc)\n",
    "\n",
    "def convert_emojis(doc):\n",
    "    # delimiters are what is used around the emoji description, in this case spaces are used\n",
    "    return emoji.replace_emoji(doc, replace='')\n",
    "\n",
    "def remove_hashtags(doc):\n",
    "    return doc.replace('#', '')\n",
    "    #return re.sub(r'#\\w+', '', doc)\n",
    "\n",
    "def remove_numbers(doc):\n",
    "    return re.sub(r'\\d+', '', doc)\n",
    "\n",
    "def remove_user_mentions(doc):\n",
    "    return re.sub(r'@\\w+', '', doc)\n",
    "\n",
    "def fix_contractions(doc):\n",
    "    return contractions.fix(doc)\n",
    "\n",
    "def remove_punctuation(doc):\n",
    "    return re.sub(r'[^\\w\\s]', '', doc)\n",
    "\n",
    "def remove_amp(doc):\n",
    "    return re.sub(r'\\bamp\\b', '', doc).strip() # strip removes the surrounding white space\n",
    "\n",
    "def remove_special_character_combinations(doc):\n",
    "    # Remove all combinations of \\r and \\n in any order\n",
    "    cleaned_text = re.sub(r'[\\r\\n\\xa0]+', '', doc)\n",
    "    return cleaned_text\n",
    "\n",
    "def remove_non_english_characters(doc):\n",
    "    return re.sub(r'[^\\x00-\\x7F]+', '', doc)"
   ]
  },
  {
   "cell_type": "code",
   "execution_count": 21,
   "id": "036e1a7c-e98c-4828-8d91-4385bb77a86c",
   "metadata": {},
   "outputs": [],
   "source": [
    "# This function combines all the previous functions into one\n",
    "def preprocess_tweet(doc):\n",
    "    doc = remove_urls(doc)\n",
    "    doc = convert_emojis(doc)\n",
    "    doc = remove_hashtags(doc)\n",
    "    doc = remove_numbers(doc)\n",
    "    doc = remove_user_mentions(doc)\n",
    "    doc = fix_contractions(doc)\n",
    "    doc = remove_punctuation(doc)\n",
    "    doc = remove_amp(doc)\n",
    "    doc = remove_special_character_combinations(doc)\n",
    "    doc = remove_non_english_characters(doc)\n",
    "    return doc"
   ]
  },
  {
   "cell_type": "code",
   "execution_count": 22,
   "id": "80c72665-196e-43a2-a014-2ee0c9eda917",
   "metadata": {},
   "outputs": [],
   "source": [
    "# This applies the pre-processing\n",
    "data_full_df['tweet'] = data_full_df['tweet'].apply(preprocess_tweet)"
   ]
  },
  {
   "cell_type": "markdown",
   "id": "9bfa1f13-b20d-4e9c-9b53-7a5696dd2791",
   "metadata": {},
   "source": [
    "## Creating Train and Test Dataframes"
   ]
  },
  {
   "cell_type": "code",
   "execution_count": 23,
   "id": "7cb556f0-966d-4555-8f4e-4dfde8bb98b0",
   "metadata": {},
   "outputs": [],
   "source": [
    "df_pos = data_full_df[data_full_df['label'] == 'pos'].sample(n=5000, random_state=23)\n",
    "df_neu = data_full_df[data_full_df['label'] == 'neu'].sample(n=5000, random_state=23)\n",
    "df_neg = data_full_df[data_full_df['label'] == 'neg'].sample(n=5000, random_state=23)\n",
    "\n",
    "filtered_df = pd.concat([df_pos, df_neu, df_neg], ignore_index=True)\n",
    "\n",
    "label_mapping = {'neg': 0, 'neu': 1, 'pos': 2}\n",
    "filtered_df['label'] = filtered_df['label'].map(label_mapping)"
   ]
  },
  {
   "cell_type": "code",
   "execution_count": 24,
   "id": "950f5682-07f1-478e-ae78-6c22d7a4e2d2",
   "metadata": {},
   "outputs": [],
   "source": [
    "# Perform an 80/20 train-test split\n",
    "train_df, test_val_df = train_test_split(filtered_df, test_size=0.4, random_state=23)\n",
    "val_df, test_df = train_test_split(test_val_df, test_size=0.5, random_state=23)"
   ]
  },
  {
   "cell_type": "markdown",
   "id": "01f5fc34-a332-4b36-ac32-9cfdd5654640",
   "metadata": {},
   "source": [
    "## Retrain BERTweet on the tweet dataset"
   ]
  },
  {
   "cell_type": "code",
   "execution_count": 25,
   "id": "a73a7af7-4070-4eba-a5bb-cc8c3cc79b99",
   "metadata": {},
   "outputs": [],
   "source": [
    "# Convert to HuggingFace dataset\n",
    "train_dataset = Dataset.from_pandas(train_df)\n",
    "val_dataset = Dataset.from_pandas(val_df)\n",
    "test_dataset = Dataset.from_pandas(test_df)"
   ]
  },
  {
   "cell_type": "code",
   "execution_count": 26,
   "id": "2b48f335-d18e-4b5a-9619-02003183d6cf",
   "metadata": {},
   "outputs": [
    {
     "data": {
      "application/vnd.jupyter.widget-view+json": {
       "model_id": "c90747a5f70745e08d848786a2d78191",
       "version_major": 2,
       "version_minor": 0
      },
      "text/plain": [
       "Map:   0%|          | 0/9000 [00:00<?, ? examples/s]"
      ]
     },
     "metadata": {},
     "output_type": "display_data"
    },
    {
     "data": {
      "application/vnd.jupyter.widget-view+json": {
       "model_id": "d8b381eee12549eeb1f87ef0a9e0830d",
       "version_major": 2,
       "version_minor": 0
      },
      "text/plain": [
       "Map:   0%|          | 0/3000 [00:00<?, ? examples/s]"
      ]
     },
     "metadata": {},
     "output_type": "display_data"
    }
   ],
   "source": [
    "# Tokenize the datasets\n",
    "tokenizer = AutoTokenizer.from_pretrained('finiteautomata/bertweet-base-sentiment-analysis')\n",
    "\n",
    "def tokenize_function(doc):\n",
    "    return tokenizer(doc['tweet'], padding='max_length', truncation=True)\n",
    "\n",
    "train_dataset = train_dataset.map(tokenize_function, batched=True)\n",
    "val_dataset = val_dataset.map(tokenize_function, batched=True)"
   ]
  },
  {
   "cell_type": "code",
   "execution_count": 27,
   "id": "26d037cb-3848-4bec-bcb0-0721062a2418",
   "metadata": {},
   "outputs": [],
   "source": [
    "# Set format for PyTorch\n",
    "train_dataset.set_format(type='torch', columns=['input_ids', 'attention_mask', 'label'])\n",
    "val_dataset.set_format(type='torch', columns=['input_ids', 'attention_mask', 'label'])"
   ]
  },
  {
   "cell_type": "code",
   "execution_count": 28,
   "id": "2b0c62c2-c4d8-42aa-8244-82bf534f4dc3",
   "metadata": {},
   "outputs": [],
   "source": [
    "# Pre-trained BERTweet model\n",
    "model = AutoModelForSequenceClassification.from_pretrained('finiteautomata/bertweet-base-sentiment-analysis', num_labels=3)"
   ]
  },
  {
   "cell_type": "code",
   "execution_count": 29,
   "id": "bb9e08ac-bbed-4ac6-a784-b991e646e834",
   "metadata": {},
   "outputs": [],
   "source": [
    "# Define compute_metrics function\n",
    "accuracy = evaluate.load(\"accuracy\")\n",
    "\n",
    "def compute_metrics(eval_pred):\n",
    "    logits, labels = eval_pred\n",
    "    predictions = np.argmax(logits, axis=-1)\n",
    "    return accuracy.compute(predictions=predictions, references=labels)"
   ]
  },
  {
   "cell_type": "code",
   "execution_count": 30,
   "id": "0f2ab89a-fbd8-4705-aad1-b630c7441fbb",
   "metadata": {},
   "outputs": [],
   "source": [
    "# Define training arguments\n",
    "training_args = TrainingArguments(\n",
    "    output_dir='./sentiment_model_results',\n",
    "    num_train_epochs=10,\n",
    "    per_device_train_batch_size=8,\n",
    "    per_device_eval_batch_size=8,\n",
    "    warmup_steps=500,\n",
    "    weight_decay=0.01,\n",
    "    logging_dir='./logs',\n",
    "    logging_steps=10,\n",
    "    evaluation_strategy='epoch',  # Evaluate at the end of each epoch\n",
    "    save_strategy='epoch',  # Save checkpoints at the end of each epoch\n",
    "    load_best_model_at_end=True,\n",
    "    metric_for_best_model=\"accuracy\"\n",
    ")\n"
   ]
  },
  {
   "cell_type": "code",
   "execution_count": 31,
   "id": "5b75e810-340f-46cc-835e-e6da53b148b3",
   "metadata": {},
   "outputs": [],
   "source": [
    "# Initialize Trainer\n",
    "trainer = Trainer(\n",
    "    model=model,\n",
    "    args=training_args,\n",
    "    train_dataset=train_dataset,\n",
    "    eval_dataset=val_dataset,\n",
    "    tokenizer=tokenizer,\n",
    "    compute_metrics=compute_metrics\n",
    ")"
   ]
  },
  {
   "cell_type": "code",
   "execution_count": 32,
   "id": "1ff2b0d0-fd56-4b75-bd85-4ad681d7acec",
   "metadata": {},
   "outputs": [
    {
     "data": {
      "text/html": [
       "\n",
       "    <div>\n",
       "      \n",
       "      <progress value='11250' max='11250' style='width:300px; height:20px; vertical-align: middle;'></progress>\n",
       "      [11250/11250 1:07:58, Epoch 10/10]\n",
       "    </div>\n",
       "    <table border=\"1\" class=\"dataframe\">\n",
       "  <thead>\n",
       " <tr style=\"text-align: left;\">\n",
       "      <th>Epoch</th>\n",
       "      <th>Training Loss</th>\n",
       "      <th>Validation Loss</th>\n",
       "      <th>Accuracy</th>\n",
       "    </tr>\n",
       "  </thead>\n",
       "  <tbody>\n",
       "    <tr>\n",
       "      <td>1</td>\n",
       "      <td>0.339800</td>\n",
       "      <td>0.440015</td>\n",
       "      <td>0.875000</td>\n",
       "    </tr>\n",
       "    <tr>\n",
       "      <td>2</td>\n",
       "      <td>0.305900</td>\n",
       "      <td>0.360267</td>\n",
       "      <td>0.897333</td>\n",
       "    </tr>\n",
       "    <tr>\n",
       "      <td>3</td>\n",
       "      <td>0.246100</td>\n",
       "      <td>0.370400</td>\n",
       "      <td>0.912000</td>\n",
       "    </tr>\n",
       "    <tr>\n",
       "      <td>4</td>\n",
       "      <td>0.271300</td>\n",
       "      <td>0.374629</td>\n",
       "      <td>0.912333</td>\n",
       "    </tr>\n",
       "    <tr>\n",
       "      <td>5</td>\n",
       "      <td>0.005000</td>\n",
       "      <td>0.402432</td>\n",
       "      <td>0.924000</td>\n",
       "    </tr>\n",
       "    <tr>\n",
       "      <td>6</td>\n",
       "      <td>0.144900</td>\n",
       "      <td>0.473031</td>\n",
       "      <td>0.914667</td>\n",
       "    </tr>\n",
       "    <tr>\n",
       "      <td>7</td>\n",
       "      <td>0.142100</td>\n",
       "      <td>0.500114</td>\n",
       "      <td>0.918667</td>\n",
       "    </tr>\n",
       "    <tr>\n",
       "      <td>8</td>\n",
       "      <td>0.033400</td>\n",
       "      <td>0.545015</td>\n",
       "      <td>0.919333</td>\n",
       "    </tr>\n",
       "    <tr>\n",
       "      <td>9</td>\n",
       "      <td>0.000300</td>\n",
       "      <td>0.557381</td>\n",
       "      <td>0.925333</td>\n",
       "    </tr>\n",
       "    <tr>\n",
       "      <td>10</td>\n",
       "      <td>0.000200</td>\n",
       "      <td>0.582275</td>\n",
       "      <td>0.921000</td>\n",
       "    </tr>\n",
       "  </tbody>\n",
       "</table><p>"
      ],
      "text/plain": [
       "<IPython.core.display.HTML object>"
      ]
     },
     "metadata": {},
     "output_type": "display_data"
    },
    {
     "data": {
      "text/plain": [
       "TrainOutput(global_step=11250, training_loss=0.18508976663371754, metrics={'train_runtime': 4079.9096, 'train_samples_per_second': 22.059, 'train_steps_per_second': 2.757, 'total_flos': 5920051898880000.0, 'train_loss': 0.18508976663371754, 'epoch': 10.0})"
      ]
     },
     "execution_count": 32,
     "metadata": {},
     "output_type": "execute_result"
    }
   ],
   "source": [
    "# Train the model\n",
    "trainer.train()"
   ]
  },
  {
   "cell_type": "code",
   "execution_count": null,
   "id": "555a2ef3-dea4-4617-b3be-244d2bbdf235",
   "metadata": {},
   "outputs": [],
   "source": []
  }
 ],
 "metadata": {
  "kernelspec": {
   "display_name": "Python (ta)",
   "language": "python",
   "name": "ta"
  },
  "language_info": {
   "codemirror_mode": {
    "name": "ipython",
    "version": 3
   },
   "file_extension": ".py",
   "mimetype": "text/x-python",
   "name": "python",
   "nbconvert_exporter": "python",
   "pygments_lexer": "ipython3",
   "version": "3.8.18"
  }
 },
 "nbformat": 4,
 "nbformat_minor": 5
}
