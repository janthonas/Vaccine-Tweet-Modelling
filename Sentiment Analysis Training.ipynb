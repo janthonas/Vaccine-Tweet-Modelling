{
 "cells": [
  {
   "cell_type": "markdown",
   "id": "77cc7c16-7172-41f6-ad62-bf07c9087dca",
   "metadata": {},
   "source": [
    "## Importing Libraries"
   ]
  },
  {
   "cell_type": "code",
   "execution_count": null,
   "id": "7fe12906-cae1-43ae-bff2-c49c9619240b",
   "metadata": {},
   "outputs": [],
   "source": [
    "# Pre-Processing\n",
    "import pandas as pd\n",
    "import re\n",
    "import emoji\n",
    "import contractions\n",
    "\n",
    "from sklearn.model_selection import train_test_split\n",
    "\n",
    "from transformers import AutoTokenizer, AutoModelForSequenceClassification, Trainer, TrainingArguments\n",
    "from datasets import Dataset\n",
    "\n",
    "import evaluate\n",
    "\n",
    "import numpy as np"
   ]
  },
  {
   "cell_type": "markdown",
   "id": "64957ded-a574-46bc-a357-801c1250967a",
   "metadata": {},
   "source": [
    "## Importing Data"
   ]
  },
  {
   "cell_type": "code",
   "execution_count": null,
   "id": "91998952-7878-43a7-87b3-11a22f4ae4c6",
   "metadata": {},
   "outputs": [],
   "source": [
    "senwave_fp = 'twitter_data/custom_data/SenWaveDataset/labeledEn.csv'"
   ]
  },
  {
   "cell_type": "code",
   "execution_count": null,
   "id": "b1640b7a-c869-4efc-abaa-1f0f318d605b",
   "metadata": {},
   "outputs": [],
   "source": [
    "senwave_df = pd.read_csv(senwave_fp)"
   ]
  },
  {
   "cell_type": "code",
   "execution_count": null,
   "id": "21efa988-4e15-4fd1-b52d-620c7788fa4d",
   "metadata": {},
   "outputs": [],
   "source": [
    "# Removal of links\n",
    "def remove_urls(doc):\n",
    "    return re.sub(r'http\\S+', '', doc)\n",
    "\n",
    "def convert_emojis(doc):\n",
    "    # delimiters are what is used around the emoji description, in this case spaces are used\n",
    "    return emoji.replace_emoji(doc, replace='')\n",
    "\n",
    "def remove_hashtags(doc):\n",
    "    return doc.replace('#', '')\n",
    "    #return re.sub(r'#\\w+', '', doc)\n",
    "\n",
    "def remove_numbers(doc):\n",
    "    return re.sub(r'\\d+', '', doc)\n",
    "\n",
    "def remove_user_mentions(doc):\n",
    "    return re.sub(r'@\\w+', '', doc)\n",
    "\n",
    "def fix_contractions(doc):\n",
    "    return contractions.fix(doc)\n",
    "\n",
    "def remove_punctuation(doc):\n",
    "    return re.sub(r'[^\\w\\s]', '', doc)\n",
    "\n",
    "def remove_amp(doc):\n",
    "    return re.sub(r'\\bamp\\b', '', doc).strip() # strip removes the surrounding white space\n",
    "\n",
    "def remove_special_character_combinations(doc):\n",
    "    # Remove all combinations of \\r and \\n in any order\n",
    "    cleaned_text = re.sub(r'[\\r\\n\\xa0]+', '', doc)\n",
    "    return cleaned_text\n",
    "\n",
    "def remove_non_english_characters(doc):\n",
    "    return re.sub(r'[^\\x00-\\x7F]+', '', doc)"
   ]
  },
  {
   "cell_type": "code",
   "execution_count": null,
   "id": "036e1a7c-e98c-4828-8d91-4385bb77a86c",
   "metadata": {},
   "outputs": [],
   "source": [
    "# This function combines all the previous functions into one\n",
    "def preprocess_tweet(doc):\n",
    "    doc = remove_urls(doc)\n",
    "    doc = convert_emojis(doc)\n",
    "    doc = remove_hashtags(doc)\n",
    "    doc = remove_numbers(doc)\n",
    "    doc = remove_user_mentions(doc)\n",
    "    doc = fix_contractions(doc)\n",
    "    doc = remove_punctuation(doc)\n",
    "    doc = remove_amp(doc)\n",
    "    doc = remove_special_character_combinations(doc)\n",
    "    doc = remove_non_english_characters(doc)\n",
    "    return doc"
   ]
  },
  {
   "cell_type": "code",
   "execution_count": null,
   "id": "80c72665-196e-43a2-a014-2ee0c9eda917",
   "metadata": {},
   "outputs": [],
   "source": [
    "# This applies the pre-processing\n",
    "senwave_df['Tweet'] = senwave_df['Tweet'].apply(preprocess_tweet)"
   ]
  },
  {
   "cell_type": "markdown",
   "id": "9bfa1f13-b20d-4e9c-9b53-7a5696dd2791",
   "metadata": {},
   "source": [
    "## Creating Train and Test Dataframes"
   ]
  },
  {
   "cell_type": "code",
   "execution_count": null,
   "id": "98a3bb4a-51ee-4efa-bff1-8c7a08b00fbc",
   "metadata": {},
   "outputs": [],
   "source": [
    "# Define the mapping rules\n",
    "positive_labels = ['Optimistic', 'Thankful', 'Empathetic']\n",
    "negative_labels = ['Pessimistic', 'Anxious', 'Sad', 'Annoyed', 'Denial']\n",
    "neutral_label = ['Official report']"
   ]
  },
  {
   "cell_type": "code",
   "execution_count": null,
   "id": "b354d336-072b-4766-a960-4f7f8314294d",
   "metadata": {},
   "outputs": [],
   "source": [
    "def re_label(row):\n",
    "    positive_count = sum(row[emotion] for emotion in positive_labels)\n",
    "    negative_count = sum(row[emotion] for emotion in negative_labels)\n",
    "    neutral_count = sum(row[emotion] for emotion in neutral_label)\n",
    "    \n",
    "    # Check for mixed emotions or official report\n",
    "    if (positive_count > 0 and negative_count > 0) or neutral_count > 0:\n",
    "        return 1\n",
    "    elif positive_count > 0:\n",
    "        return 2\n",
    "    elif negative_count > 0:\n",
    "        return 0\n",
    "    else:\n",
    "        return 1"
   ]
  },
  {
   "cell_type": "code",
   "execution_count": null,
   "id": "dc44712f-0ee8-4146-ace4-d0c3027c909d",
   "metadata": {},
   "outputs": [],
   "source": [
    "# Apply the re_label function to the dataframe\n",
    "senwave_df['label'] = senwave_df.apply(re_label, axis=1)"
   ]
  },
  {
   "cell_type": "code",
   "execution_count": null,
   "id": "30b2f3af-c6ae-460d-a171-3b919d09e32a",
   "metadata": {},
   "outputs": [],
   "source": [
    "len(senwave_df[senwave_df['label'] == 2])"
   ]
  },
  {
   "cell_type": "code",
   "execution_count": null,
   "id": "7cb556f0-966d-4555-8f4e-4dfde8bb98b0",
   "metadata": {},
   "outputs": [],
   "source": [
    "senwave_pos = senwave_df[senwave_df['label'] == 2].sample(n=1500, random_state=23) # Positive\n",
    "senwave_neu = senwave_df[senwave_df['label'] == 1].sample(n=1500, random_state=23) # Neutral \n",
    "senwave_neg = senwave_df[senwave_df['label'] == 0].sample(n=1500, random_state=23) # Negative\n",
    "\n",
    "filtered_df = pd.concat([senwave_pos, senwave_neu, senwave_neg], ignore_index=True)"
   ]
  },
  {
   "cell_type": "code",
   "execution_count": null,
   "id": "950f5682-07f1-478e-ae78-6c22d7a4e2d2",
   "metadata": {},
   "outputs": [],
   "source": [
    "# Perform an 80/20 train-test split\n",
    "train_df, test_val_df = train_test_split(filtered_df, test_size=0.4, random_state=23)\n",
    "val_df, test_df = train_test_split(test_val_df, test_size=0.5, random_state=23)"
   ]
  },
  {
   "cell_type": "code",
   "execution_count": null,
   "id": "9080b00f-c079-44bd-966e-5dee973e078e",
   "metadata": {},
   "outputs": [],
   "source": [
    "train_df = train_df[['Tweet', 'label']]\n",
    "val_df = val_df[['Tweet', 'label']]\n",
    "test_df = test_df[['Tweet', 'label']]"
   ]
  },
  {
   "cell_type": "markdown",
   "id": "01f5fc34-a332-4b36-ac32-9cfdd5654640",
   "metadata": {},
   "source": [
    "## Retrain BERTweet on the tweet dataset"
   ]
  },
  {
   "cell_type": "code",
   "execution_count": null,
   "id": "a73a7af7-4070-4eba-a5bb-cc8c3cc79b99",
   "metadata": {},
   "outputs": [],
   "source": [
    "# Convert to HuggingFace dataset\n",
    "train_dataset = Dataset.from_pandas(train_df)\n",
    "val_dataset = Dataset.from_pandas(val_df)\n",
    "test_dataset = Dataset.from_pandas(test_df)"
   ]
  },
  {
   "cell_type": "code",
   "execution_count": null,
   "id": "2b48f335-d18e-4b5a-9619-02003183d6cf",
   "metadata": {},
   "outputs": [],
   "source": [
    "# Tokenize the datasets\n",
    "tokenizer = AutoTokenizer.from_pretrained('bert-base-uncased')\n",
    "\n",
    "def tokenize_function(doc):\n",
    "    return tokenizer(doc['Tweet'], padding='max_length', truncation=True)\n",
    "\n",
    "train_dataset = train_dataset.map(tokenize_function, batched=True)\n",
    "val_dataset = val_dataset.map(tokenize_function, batched=True)"
   ]
  },
  {
   "cell_type": "code",
   "execution_count": null,
   "id": "26d037cb-3848-4bec-bcb0-0721062a2418",
   "metadata": {},
   "outputs": [],
   "source": [
    "# Set format for PyTorch\n",
    "train_dataset.set_format(type='torch', columns=['input_ids', 'attention_mask', 'label'])\n",
    "val_dataset.set_format(type='torch', columns=['input_ids', 'attention_mask', 'label'])"
   ]
  },
  {
   "cell_type": "code",
   "execution_count": null,
   "id": "2b0c62c2-c4d8-42aa-8244-82bf534f4dc3",
   "metadata": {},
   "outputs": [],
   "source": [
    "# Pre-trained BERTweet model\n",
    "model = AutoModelForSequenceClassification.from_pretrained('bert-base-uncased', \n",
    "                                                           num_labels=3 \n",
    "                                                           #,hidden_dropout_prob=0.3\n",
    "                                                          )"
   ]
  },
  {
   "cell_type": "code",
   "execution_count": null,
   "id": "bb9e08ac-bbed-4ac6-a784-b991e646e834",
   "metadata": {},
   "outputs": [],
   "source": [
    "# Define compute_metrics function\n",
    "accuracy = evaluate.load(\"accuracy\")\n",
    "\n",
    "def compute_metrics(eval_pred):\n",
    "    logits, labels = eval_pred\n",
    "    predictions = np.argmax(logits, axis=-1)\n",
    "    return accuracy.compute(predictions=predictions, references=labels)"
   ]
  },
  {
   "cell_type": "code",
   "execution_count": null,
   "id": "0f2ab89a-fbd8-4705-aad1-b630c7441fbb",
   "metadata": {},
   "outputs": [],
   "source": [
    "# Define training arguments\n",
    "training_args = TrainingArguments(\n",
    "    output_dir='./senwave_model_results',\n",
    "    num_train_epochs=20,\n",
    "    per_device_train_batch_size=8,\n",
    "    per_device_eval_batch_size=8,\n",
    "    warmup_steps=500,\n",
    "    weight_decay=0.01,\n",
    "    logging_dir='./logs',\n",
    "    logging_steps=10,\n",
    "    evaluation_strategy='epoch',  # Evaluate at the end of each epoch\n",
    "    save_strategy='epoch',  # Save checkpoints at the end of each epoch\n",
    "    load_best_model_at_end=True,\n",
    "    metric_for_best_model=\"accuracy\"\n",
    ")\n"
   ]
  },
  {
   "cell_type": "code",
   "execution_count": null,
   "id": "5b75e810-340f-46cc-835e-e6da53b148b3",
   "metadata": {},
   "outputs": [],
   "source": [
    "# Initialize Trainer\n",
    "trainer = Trainer(\n",
    "    model=model,\n",
    "    args=training_args,\n",
    "    train_dataset=train_dataset,\n",
    "    eval_dataset=val_dataset,\n",
    "    tokenizer=tokenizer,\n",
    "    compute_metrics=compute_metrics\n",
    ")"
   ]
  },
  {
   "cell_type": "code",
   "execution_count": null,
   "id": "1ff2b0d0-fd56-4b75-bd85-4ad681d7acec",
   "metadata": {},
   "outputs": [],
   "source": [
    "# Train the model\n",
    "trainer.train()"
   ]
  },
  {
   "cell_type": "code",
   "execution_count": null,
   "id": "555a2ef3-dea4-4617-b3be-244d2bbdf235",
   "metadata": {},
   "outputs": [],
   "source": [
    "train_df"
   ]
  },
  {
   "cell_type": "code",
   "execution_count": null,
   "id": "d355f767-f33a-4dc5-8d15-a3403f261604",
   "metadata": {},
   "outputs": [],
   "source": []
  }
 ],
 "metadata": {
  "kernelspec": {
   "display_name": "Python (ta)",
   "language": "python",
   "name": "ta"
  },
  "language_info": {
   "codemirror_mode": {
    "name": "ipython",
    "version": 3
   },
   "file_extension": ".py",
   "mimetype": "text/x-python",
   "name": "python",
   "nbconvert_exporter": "python",
   "pygments_lexer": "ipython3",
   "version": "3.8.18"
  }
 },
 "nbformat": 4,
 "nbformat_minor": 5
}
